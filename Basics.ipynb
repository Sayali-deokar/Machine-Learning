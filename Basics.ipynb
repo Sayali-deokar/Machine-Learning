{
 "cells": [
  {
   "cell_type": "markdown",
   "metadata": {},
   "source": [
    "# Basics "
   ]
  },
  {
   "cell_type": "markdown",
   "metadata": {},
   "source": [
    "List function"
   ]
  },
  {
   "cell_type": "code",
   "execution_count": 2,
   "metadata": {},
   "outputs": [
    {
     "data": {
      "text/plain": [
       "['Suvarna', 42, 'Amit', 32, 'Rohit']"
      ]
     },
     "execution_count": 2,
     "metadata": {},
     "output_type": "execute_result"
    }
   ],
   "source": [
    "custList = [\"Suvarna\",42,\"Amit\",32,\"Rohit\",41,\"Janhavi\",42,\"Deepa\",49]\n",
    "\n",
    "custList\n",
    "\n",
    "prodList = [[\"Pen\",10],\n",
    "            [\"Pencil\",8],\n",
    "            [\"Eraser\",5],\n",
    "            [\"Sharpner\",10]]\n",
    "prodList\n",
    "\n",
    "custList[3]\n",
    "custList[-7]\n",
    "\n",
    "custList[3:7]\n",
    "custList[-5:-2]\n",
    "custList[:6]\n",
    "custList[6:]\n",
    "\n",
    "custList[0:5]\n"
   ]
  },
  {
   "cell_type": "markdown",
   "metadata": {},
   "source": [
    " Incremental"
   ]
  },
  {
   "cell_type": "markdown",
   "metadata": {},
   "source": [
    "\n",
    "custList[0:5:2]\n",
    "custList[::2]\n",
    "\n",
    "custList[3]=34\n",
    "custList[0:2]=[\"Sumedha\",5]\n",
    "\n",
    "custList=custList+[\"Girija\",13]\n",
    "del(custList[6:8])\n",
    "custList\n",
    "\n",
    "custList.append([\"Deepika\",32])\n",
    "print(custList)\n",
    "\n",
    "custList.append(\"Anushka\")\n",
    "custList.append(36)\n",
    "print(custList)\n"
   ]
  },
  {
   "cell_type": "markdown",
   "metadata": {},
   "source": [
    "Inserting any element in the list"
   ]
  },
  {
   "cell_type": "code",
   "execution_count": 3,
   "metadata": {},
   "outputs": [
    {
     "data": {
      "text/plain": [
       "6"
      ]
     },
     "execution_count": 3,
     "metadata": {},
     "output_type": "execute_result"
    }
   ],
   "source": [
    "custList.insert(4,'Nitin')\n",
    "custList.insert(5,48)\n",
    "\n",
    "custList.index(\"Rohit\")"
   ]
  },
  {
   "cell_type": "markdown",
   "metadata": {},
   "source": [
    " Call by Reference"
   ]
  },
  {
   "cell_type": "code",
   "execution_count": 4,
   "metadata": {},
   "outputs": [
    {
     "data": {
      "text/plain": [
       "['Suvarna',\n",
       " 36,\n",
       " 'Amit',\n",
       " 32,\n",
       " 'Nitin',\n",
       " 48,\n",
       " 'Rohit',\n",
       " 41,\n",
       " 'Janhavi',\n",
       " 42,\n",
       " 'Deepa',\n",
       " 49]"
      ]
     },
     "execution_count": 4,
     "metadata": {},
     "output_type": "execute_result"
    }
   ],
   "source": [
    "\n",
    "Customers=custList\n",
    "Customers[1]=36\n",
    "Customers\n"
   ]
  }
 ],
 "metadata": {
  "kernelspec": {
   "display_name": "Python 3",
   "language": "python",
   "name": "python3"
  },
  "language_info": {
   "codemirror_mode": {
    "name": "ipython",
    "version": 3
   },
   "file_extension": ".py",
   "mimetype": "text/x-python",
   "name": "python",
   "nbconvert_exporter": "python",
   "pygments_lexer": "ipython3",
   "version": "3.7.4"
  }
 },
 "nbformat": 4,
 "nbformat_minor": 2
}
