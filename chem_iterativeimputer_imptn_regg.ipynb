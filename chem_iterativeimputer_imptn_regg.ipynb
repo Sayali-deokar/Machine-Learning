{
 "cells": [
  {
   "cell_type": "markdown",
   "metadata": {},
   "source": [
    "# Iterative Imputation method "
   ]
  },
  {
   "cell_type": "markdown",
   "metadata": {},
   "source": [
    "Importing Library as follows"
   ]
  },
  {
   "cell_type": "code",
   "execution_count": 1,
   "metadata": {},
   "outputs": [],
   "source": [
    "import pandas as pd\n",
    "import numpy as np"
   ]
  },
  {
   "cell_type": "markdown",
   "metadata": {},
   "source": [
    "Importing dataset form local host"
   ]
  },
  {
   "cell_type": "code",
   "execution_count": 3,
   "metadata": {},
   "outputs": [],
   "source": [
    "df = pd.read_csv(\"D:/Statistics (Python)/Cases/Chemical Process Data/ChemicalProcess.csv\")"
   ]
  },
  {
   "cell_type": "markdown",
   "metadata": {},
   "source": [
    "splitting Dependent and independent variables in x and y accordingly. "
   ]
  },
  {
   "cell_type": "code",
   "execution_count": 4,
   "metadata": {},
   "outputs": [],
   "source": [
    "X = df.iloc[:,1:]\n",
    "y = df.iloc[:,0]"
   ]
  },
  {
   "cell_type": "markdown",
   "metadata": {},
   "source": [
    "Importing sklearn library for iterative imputation"
   ]
  },
  {
   "cell_type": "code",
   "execution_count": 5,
   "metadata": {},
   "outputs": [],
   "source": [
    "from sklearn.experimental import enable_iterative_imputer  \n",
    "from sklearn.impute import IterativeImputer"
   ]
  },
  {
   "cell_type": "markdown",
   "metadata": {},
   "source": [
    "performing iterative imputation on dataset."
   ]
  },
  {
   "cell_type": "code",
   "execution_count": 6,
   "metadata": {},
   "outputs": [
    {
     "name": "stderr",
     "output_type": "stream",
     "text": [
      "C:\\Users\\Lenovo\\Anaconda3\\lib\\site-packages\\sklearn\\impute\\_iterative.py:638: ConvergenceWarning: [IterativeImputer] Early stopping criterion not reached.\n",
      "  \" reached.\", ConvergenceWarning)\n"
     ]
    }
   ],
   "source": [
    "imputer =IterativeImputer(random_state=0)\n",
    "X_Imputed = imputer.fit_transform(X)\n",
    "X = pd.DataFrame(X_Imputed,columns= X.columns)"
   ]
  },
  {
   "cell_type": "markdown",
   "metadata": {},
   "source": [
    "Performing Linear Regression on dataset"
   ]
  },
  {
   "cell_type": "code",
   "execution_count": 7,
   "metadata": {},
   "outputs": [
    {
     "name": "stdout",
     "output_type": "stream",
     "text": [
      "[ 1.63620750e-01 -1.18969989e-01  2.33943816e-01 -2.10233015e-01\n",
      "  1.70328986e-01 -9.11432171e-02 -1.69140191e+00  7.75196393e-01\n",
      " -1.43910075e+00  3.80087969e-01 -9.07998938e-02  4.73734994e-01\n",
      "  5.95691142e-02  4.07312006e-03 -4.85361773e+00  7.14340946e-02\n",
      "  1.95351266e-04  3.24816736e-02 -1.87128013e-01 -8.72633382e-02\n",
      "  3.70875639e-01  1.55199061e-01  3.79122905e-01  1.14636638e-04\n",
      " -1.66935432e-01 -1.08997741e-03  5.00651588e-03  1.44776210e-03\n",
      " -1.53694228e-01  5.14083155e-03 -2.35174908e-03 -2.68829101e-03\n",
      "  1.32412002e-02 -1.07912234e-02 -3.27740496e-02 -2.44003543e-02\n",
      "  5.94781027e-03  1.37997539e-03 -1.27291796e-02 -9.04162125e-02\n",
      "  1.13198292e+00 -4.69239408e-01  5.11001801e-02  3.04420664e-01\n",
      " -3.63282892e-01 -6.75925258e-01 -1.58656957e-02  2.82966630e+02\n",
      " -7.44889514e-01 -2.79546270e-01  6.73440102e-02  1.98203042e+00\n",
      " -1.05699579e+00  6.15204802e-02  1.89580290e-01 -6.24916769e-01\n",
      "  1.04579815e+00]\n",
      "129.60338122296142\n"
     ]
    }
   ],
   "source": [
    "from sklearn.linear_model import LinearRegression\n",
    "regressor = LinearRegression()\n",
    "results=regressor.fit(X, y)\n",
    "print(results.coef_)      # b1\n",
    "print(results.intercept_) # bo"
   ]
  },
  {
   "cell_type": "markdown",
   "metadata": {},
   "source": [
    "Perdiction and evaluating performance matrix."
   ]
  },
  {
   "cell_type": "code",
   "execution_count": 10,
   "metadata": {},
   "outputs": [
    {
     "name": "stdout",
     "output_type": "stream",
     "text": [
      "RMSE: 0.8500332841188687\n",
      "MAE: 0.6609930001794448\n",
      "R2: 0.7866758293031763\n"
     ]
    }
   ],
   "source": [
    "import numpy as np\n",
    "ycap = regressor.predict(X)\n",
    "from sklearn.metrics import mean_squared_error,mean_absolute_error,r2_score\n",
    "print('RMSE:',np.sqrt( mean_squared_error(y, ycap)))\n",
    "print('MAE:',mean_absolute_error(y, ycap))\n",
    "print('R2:',r2_score(y, ycap))"
   ]
  },
  {
   "cell_type": "code",
   "execution_count": null,
   "metadata": {},
   "outputs": [],
   "source": []
  }
 ],
 "metadata": {
  "kernelspec": {
   "display_name": "Python 3",
   "language": "python",
   "name": "python3"
  },
  "language_info": {
   "codemirror_mode": {
    "name": "ipython",
    "version": 3
   },
   "file_extension": ".py",
   "mimetype": "text/x-python",
   "name": "python",
   "nbconvert_exporter": "python",
   "pygments_lexer": "ipython3",
   "version": "3.7.4"
  }
 },
 "nbformat": 4,
 "nbformat_minor": 2
}
