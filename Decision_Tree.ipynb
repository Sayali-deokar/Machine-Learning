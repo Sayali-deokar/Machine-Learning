{
 "cells": [
  {
   "cell_type": "markdown",
   "metadata": {},
   "source": [
    "# Decision_Tree"
   ]
  },
  {
   "cell_type": "markdown",
   "metadata": {},
   "source": [
    "Importing Library as follows"
   ]
  },
  {
   "cell_type": "code",
   "execution_count": 1,
   "metadata": {},
   "outputs": [],
   "source": [
    "import pandas as pd\n",
    "import numpy as np"
   ]
  },
  {
   "cell_type": "markdown",
   "metadata": {},
   "source": [
    "Importing dataset form local host and get dummy variables"
   ]
  },
  {
   "cell_type": "code",
   "execution_count": 3,
   "metadata": {},
   "outputs": [],
   "source": [
    "df = pd.read_csv(\"D:/Statistics (Python)/Cases/Wisconsin/BreastCancer.csv\")\n",
    "dum_df = pd.get_dummies(df, drop_first=True)\n",
    "\n",
    "X = dum_df.iloc[:,1:10]\n",
    "y = dum_df.iloc[:,10]"
   ]
  },
  {
   "cell_type": "markdown",
   "metadata": {},
   "source": [
    "Import the necessary modules"
   ]
  },
  {
   "cell_type": "code",
   "execution_count": 4,
   "metadata": {},
   "outputs": [],
   "source": [
    "from sklearn.model_selection import train_test_split \n",
    "from sklearn.metrics import confusion_matrix, classification_report\n",
    "from sklearn.metrics import accuracy_score\n",
    "from sklearn.tree import DecisionTreeClassifier"
   ]
  },
  {
   "cell_type": "markdown",
   "metadata": {},
   "source": [
    "Create training and test sets"
   ]
  },
  {
   "cell_type": "code",
   "execution_count": 5,
   "metadata": {},
   "outputs": [],
   "source": [
    "X_train, X_test, y_train, y_test = train_test_split(X, y, test_size = 0.3, \n",
    "                                                    random_state=2018,\n",
    "                                                    stratify=y)\n",
    "\n",
    "clf = DecisionTreeClassifier(random_state=2020,max_depth=4)\n",
    "clf.fit(X_train,y_train)\n",
    "\n",
    "y_pred = clf.predict(X_test)"
   ]
  },
  {
   "cell_type": "code",
   "execution_count": 6,
   "metadata": {},
   "outputs": [
    {
     "name": "stdout",
     "output_type": "stream",
     "text": [
      "[[130   8]\n",
      " [  6  66]]\n"
     ]
    }
   ],
   "source": [
    "print(confusion_matrix(y_test, y_pred))"
   ]
  },
  {
   "cell_type": "code",
   "execution_count": 7,
   "metadata": {},
   "outputs": [
    {
     "name": "stdout",
     "output_type": "stream",
     "text": [
      "              precision    recall  f1-score   support\n",
      "\n",
      "           0       0.96      0.94      0.95       138\n",
      "           1       0.89      0.92      0.90        72\n",
      "\n",
      "    accuracy                           0.93       210\n",
      "   macro avg       0.92      0.93      0.93       210\n",
      "weighted avg       0.93      0.93      0.93       210\n",
      "\n"
     ]
    }
   ],
   "source": [
    "print(classification_report(y_test, y_pred))"
   ]
  },
  {
   "cell_type": "code",
   "execution_count": 8,
   "metadata": {},
   "outputs": [
    {
     "name": "stdout",
     "output_type": "stream",
     "text": [
      "0.9333333333333333\n"
     ]
    }
   ],
   "source": [
    "print(accuracy_score(y_test,y_pred))"
   ]
  },
  {
   "cell_type": "markdown",
   "metadata": {},
   "source": [
    "Only can run on 0.22 and above "
   ]
  },
  {
   "cell_type": "code",
   "execution_count": 10,
   "metadata": {},
   "outputs": [
    {
     "data": {
      "text/plain": [
       "<sklearn.metrics._plot.confusion_matrix.ConfusionMatrixDisplay at 0x28ceb0e71c8>"
      ]
     },
     "execution_count": 10,
     "metadata": {},
     "output_type": "execute_result"
    },
    {
     "data": {
      "image/png": "[encoded data removed]",
      "text/plain": [
       "<Figure size 432x288 with 2 Axes>"
      ]
     },
     "metadata": {
      "needs_background": "light"
     },
     "output_type": "display_data"
    }
   ],
   "source": [
    "from sklearn.metrics import plot_confusion_matrix\n",
    "plot_confusion_matrix(clf,X_test,y_test,display_labels=['Benign','Malignant'])"
   ]
  },
  {
   "cell_type": "markdown",
   "metadata": {},
   "source": [
    "***ROC***"
   ]
  },
  {
   "cell_type": "markdown",
   "metadata": {},
   "source": [
    "Import necessary modules"
   ]
  },
  {
   "cell_type": "code",
   "execution_count": 11,
   "metadata": {},
   "outputs": [],
   "source": [
    "from sklearn.metrics import roc_curve, roc_auc_score"
   ]
  },
  {
   "cell_type": "markdown",
   "metadata": {},
   "source": [
    "Compute predicted probabilities: y_pred_prob"
   ]
  },
  {
   "cell_type": "code",
   "execution_count": 12,
   "metadata": {},
   "outputs": [],
   "source": [
    "y_pred_prob = clf.predict_proba(X_test)[:,1]"
   ]
  },
  {
   "cell_type": "markdown",
   "metadata": {},
   "source": [
    "Generate ROC curve values: fpr, tpr, thresholds"
   ]
  },
  {
   "cell_type": "code",
   "execution_count": 13,
   "metadata": {},
   "outputs": [],
   "source": [
    "fpr, tpr, thresholds = roc_curve(y_test, y_pred_prob)"
   ]
  },
  {
   "cell_type": "markdown",
   "metadata": {},
   "source": [
    "Plot ROC curve "
   ]
  },
  {
   "cell_type": "code",
   "execution_count": 14,
   "metadata": {},
   "outputs": [
    {
     "data": {
      "image/png": "[encoded data removed]",
      "text/plain": [
       "<Figure size 432x288 with 1 Axes>"
      ]
     },
     "metadata": {
      "needs_background": "light"
     },
     "output_type": "display_data"
    }
   ],
   "source": [
    "import matplotlib.pyplot as plt\n",
    "plt.plot([0, 1], [0, 1], 'k--')\n",
    "plt.plot(fpr, tpr)\n",
    "plt.xlabel('False Positive Rate')\n",
    "plt.ylabel('True Positive Rate')\n",
    "plt.title('ROC Curve')\n",
    "plt.show()"
   ]
  },
  {
   "cell_type": "code",
   "execution_count": 15,
   "metadata": {},
   "outputs": [
    {
     "data": {
      "text/plain": [
       "0.9467592592592593"
      ]
     },
     "execution_count": 15,
     "metadata": {},
     "output_type": "execute_result"
    }
   ],
   "source": [
    "roc_auc_score(y_test, y_pred_prob)"
   ]
  },
  {
   "cell_type": "markdown",
   "metadata": {},
   "source": [
    "***Ggraphviz*** "
   ]
  },
  {
   "cell_type": "code",
   "execution_count": 16,
   "metadata": {},
   "outputs": [],
   "source": [
    "import graphviz \n",
    "from sklearn import tree"
   ]
  },
  {
   "cell_type": "code",
   "execution_count": 17,
   "metadata": {},
   "outputs": [
    {
     "data": {
      "image/svg+xml": [
       "<?xml version=\"1.0\" encoding=\"UTF-8\" standalone=\"no\"?>\r\n",
       "<!DOCTYPE svg PUBLIC \"-//W3C//DTD SVG 1.1//EN\"\r\n",
       " \"http://www.w3.org/Graphics/SVG/1.1/DTD/svg11.dtd\">\r\n",
       "<!-- Generated by graphviz version 2.38.0 (20140413.2041)\r\n",
       " -->\r\n",
       "<!-- Title: Tree Pages: 1 -->\r\n",
       "<svg width=\"1222pt\" height=\"552pt\"\r\n",
       " viewBox=\"0.00 0.00 1222.00 552.00\" xmlns=\"http://www.w3.org/2000/svg\" xmlns:xlink=\"http://www.w3.org/1999/xlink\">\r\n",
       "<g id=\"graph0\" class=\"graph\" transform=\"scale(1 1) rotate(0) translate(4 548)\">\r\n",
       "<title>Tree</title>\r\n",
       "<polygon fill=\"white\" stroke=\"none\" points=\"-4,4 -4,-548 1218,-548 1218,4 -4,4\"/>\r\n",
       "<!-- 0 -->\r\n",
       "<g id=\"node1\" class=\"node\"><title>0</title>\r\n",
       "<path fill=\"#f3c4a2\" stroke=\"black\" d=\"M543,-544C543,-544 434,-544 434,-544 428,-544 422,-538 422,-532 422,-532 422,-473 422,-473 422,-467 428,-461 434,-461 434,-461 543,-461 543,-461 549,-461 555,-467 555,-473 555,-473 555,-532 555,-532 555,-538 549,-544 543,-544\"/>\r\n",
       "<text text-anchor=\"start\" x=\"430\" y=\"-528.8\" font-family=\"Helvetica,sans-Serif\" font-size=\"14.00\">UniCell_Size ≤ 2.5</text>\r\n",
       "<text text-anchor=\"start\" x=\"451\" y=\"-513.8\" font-family=\"Helvetica,sans-Serif\" font-size=\"14.00\">gini = 0.452</text>\r\n",
       "<text text-anchor=\"start\" x=\"441\" y=\"-498.8\" font-family=\"Helvetica,sans-Serif\" font-size=\"14.00\">samples = 489</text>\r\n",
       "<text text-anchor=\"start\" x=\"431.5\" y=\"-483.8\" font-family=\"Helvetica,sans-Serif\" font-size=\"14.00\">value = [320, 169]</text>\r\n",
       "<text text-anchor=\"start\" x=\"441.5\" y=\"-468.8\" font-family=\"Helvetica,sans-Serif\" font-size=\"14.00\">class = Benign</text>\r\n",
       "</g>\r\n",
       "<!-- 1 -->\r\n",
       "<g id=\"node2\" class=\"node\"><title>1</title>\r\n",
       "<path fill=\"#e5833c\" stroke=\"black\" d=\"M429,-425C429,-425 340,-425 340,-425 334,-425 328,-419 328,-413 328,-413 328,-354 328,-354 328,-348 334,-342 340,-342 340,-342 429,-342 429,-342 435,-342 441,-348 441,-354 441,-354 441,-413 441,-413 441,-419 435,-425 429,-425\"/>\r\n",
       "<text text-anchor=\"start\" x=\"346\" y=\"-409.8\" font-family=\"Helvetica,sans-Serif\" font-size=\"14.00\">Clump ≤ 6.5</text>\r\n",
       "<text text-anchor=\"start\" x=\"347\" y=\"-394.8\" font-family=\"Helvetica,sans-Serif\" font-size=\"14.00\">gini = 0.033</text>\r\n",
       "<text text-anchor=\"start\" x=\"337\" y=\"-379.8\" font-family=\"Helvetica,sans-Serif\" font-size=\"14.00\">samples = 298</text>\r\n",
       "<text text-anchor=\"start\" x=\"336\" y=\"-364.8\" font-family=\"Helvetica,sans-Serif\" font-size=\"14.00\">value = [293, 5]</text>\r\n",
       "<text text-anchor=\"start\" x=\"337.5\" y=\"-349.8\" font-family=\"Helvetica,sans-Serif\" font-size=\"14.00\">class = Benign</text>\r\n",
       "</g>\r\n",
       "<!-- 0&#45;&gt;1 -->\r\n",
       "<g id=\"edge1\" class=\"edge\"><title>0&#45;&gt;1</title>\r\n",
       "<path fill=\"none\" stroke=\"black\" d=\"M452.418,-460.907C444.351,-451.832 435.719,-442.121 427.406,-432.769\"/>\r\n",
       "<polygon fill=\"black\" stroke=\"black\" points=\"429.778,-430.17 420.518,-425.021 424.546,-434.82 429.778,-430.17\"/>\r\n",
       "<text text-anchor=\"middle\" x=\"419.05\" y=\"-446.278\" font-family=\"Helvetica,sans-Serif\" font-size=\"14.00\">True</text>\r\n",
       "</g>\r\n",
       "<!-- 10 -->\r\n",
       "<g id=\"node11\" class=\"node\"><title>10</title>\r\n",
       "<path fill=\"#5aade9\" stroke=\"black\" d=\"M653.5,-425C653.5,-425 531.5,-425 531.5,-425 525.5,-425 519.5,-419 519.5,-413 519.5,-413 519.5,-354 519.5,-354 519.5,-348 525.5,-342 531.5,-342 531.5,-342 653.5,-342 653.5,-342 659.5,-342 665.5,-348 665.5,-354 665.5,-354 665.5,-413 665.5,-413 665.5,-419 659.5,-425 653.5,-425\"/>\r\n",
       "<text text-anchor=\"start\" x=\"527.5\" y=\"-409.8\" font-family=\"Helvetica,sans-Serif\" font-size=\"14.00\">Uni_CellShape ≤ 2.5</text>\r\n",
       "<text text-anchor=\"start\" x=\"555\" y=\"-394.8\" font-family=\"Helvetica,sans-Serif\" font-size=\"14.00\">gini = 0.243</text>\r\n",
       "<text text-anchor=\"start\" x=\"545\" y=\"-379.8\" font-family=\"Helvetica,sans-Serif\" font-size=\"14.00\">samples = 191</text>\r\n",
       "<text text-anchor=\"start\" x=\"539.5\" y=\"-364.8\" font-family=\"Helvetica,sans-Serif\" font-size=\"14.00\">value = [27, 164]</text>\r\n",
       "<text text-anchor=\"start\" x=\"538\" y=\"-349.8\" font-family=\"Helvetica,sans-Serif\" font-size=\"14.00\">class = Malignant</text>\r\n",
       "</g>\r\n",
       "<!-- 0&#45;&gt;10 -->\r\n",
       "<g id=\"edge10\" class=\"edge\"><title>0&#45;&gt;10</title>\r\n",
       "<path fill=\"none\" stroke=\"black\" d=\"M524.582,-460.907C532.649,-451.832 541.281,-442.121 549.594,-432.769\"/>\r\n",
       "<polygon fill=\"black\" stroke=\"black\" points=\"552.454,-434.82 556.482,-425.021 547.222,-430.17 552.454,-434.82\"/>\r\n",
       "<text text-anchor=\"middle\" x=\"557.95\" y=\"-446.278\" font-family=\"Helvetica,sans-Serif\" font-size=\"14.00\">False</text>\r\n",
       "</g>\r\n",
       "<!-- 2 -->\r\n",
       "<g id=\"node3\" class=\"node\"><title>2</title>\r\n",
       "<path fill=\"#e5813a\" stroke=\"black\" d=\"M231,-306C231,-306 142,-306 142,-306 136,-306 130,-300 130,-294 130,-294 130,-235 130,-235 130,-229 136,-223 142,-223 142,-223 231,-223 231,-223 237,-223 243,-229 243,-235 243,-235 243,-294 243,-294 243,-300 237,-306 231,-306\"/>\r\n",
       "<text text-anchor=\"start\" x=\"148.5\" y=\"-290.8\" font-family=\"Helvetica,sans-Serif\" font-size=\"14.00\">BareN ≤ 6.5</text>\r\n",
       "<text text-anchor=\"start\" x=\"149\" y=\"-275.8\" font-family=\"Helvetica,sans-Serif\" font-size=\"14.00\">gini = 0.007</text>\r\n",
       "<text text-anchor=\"start\" x=\"139\" y=\"-260.8\" font-family=\"Helvetica,sans-Serif\" font-size=\"14.00\">samples = 292</text>\r\n",
       "<text text-anchor=\"start\" x=\"138\" y=\"-245.8\" font-family=\"Helvetica,sans-Serif\" font-size=\"14.00\">value = [291, 1]</text>\r\n",
       "<text text-anchor=\"start\" x=\"139.5\" y=\"-230.8\" font-family=\"Helvetica,sans-Serif\" font-size=\"14.00\">class = Benign</text>\r\n",
       "</g>\r\n",
       "<!-- 1&#45;&gt;2 -->\r\n",
       "<g id=\"edge2\" class=\"edge\"><title>1&#45;&gt;2</title>\r\n",
       "<path fill=\"none\" stroke=\"black\" d=\"M327.761,-348.972C304.149,-335.02 276.589,-318.734 252.112,-304.271\"/>\r\n",
       "<polygon fill=\"black\" stroke=\"black\" points=\"253.637,-301.106 243.247,-299.032 250.076,-307.133 253.637,-301.106\"/>\r\n",
       "</g>\r\n",
       "<!-- 7 -->\r\n",
       "<g id=\"node8\" class=\"node\"><title>7</title>\r\n",
       "<path fill=\"#9ccef2\" stroke=\"black\" d=\"M435.5,-306C435.5,-306 333.5,-306 333.5,-306 327.5,-306 321.5,-300 321.5,-294 321.5,-294 321.5,-235 321.5,-235 321.5,-229 327.5,-223 333.5,-223 333.5,-223 435.5,-223 435.5,-223 441.5,-223 447.5,-229 447.5,-235 447.5,-235 447.5,-294 447.5,-294 447.5,-300 441.5,-306 435.5,-306\"/>\r\n",
       "<text text-anchor=\"start\" x=\"329.5\" y=\"-290.8\" font-family=\"Helvetica,sans-Serif\" font-size=\"14.00\">BChromatin ≤ 2.5</text>\r\n",
       "<text text-anchor=\"start\" x=\"347\" y=\"-275.8\" font-family=\"Helvetica,sans-Serif\" font-size=\"14.00\">gini = 0.444</text>\r\n",
       "<text text-anchor=\"start\" x=\"345\" y=\"-260.8\" font-family=\"Helvetica,sans-Serif\" font-size=\"14.00\">samples = 6</text>\r\n",
       "<text text-anchor=\"start\" x=\"344\" y=\"-245.8\" font-family=\"Helvetica,sans-Serif\" font-size=\"14.00\">value = [2, 4]</text>\r\n",
       "<text text-anchor=\"start\" x=\"330\" y=\"-230.8\" font-family=\"Helvetica,sans-Serif\" font-size=\"14.00\">class = Malignant</text>\r\n",
       "</g>\r\n",
       "<!-- 1&#45;&gt;7 -->\r\n",
       "<g id=\"edge7\" class=\"edge\"><title>1&#45;&gt;7</title>\r\n",
       "<path fill=\"none\" stroke=\"black\" d=\"M384.5,-341.907C384.5,-333.649 384.5,-324.864 384.5,-316.302\"/>\r\n",
       "<polygon fill=\"black\" stroke=\"black\" points=\"388,-316.021 384.5,-306.021 381,-316.021 388,-316.021\"/>\r\n",
       "</g>\r\n",
       "<!-- 3 -->\r\n",
       "<g id=\"node4\" class=\"node\"><title>3</title>\r\n",
       "<path fill=\"#e58139\" stroke=\"black\" d=\"M101,-179.5C101,-179.5 12,-179.5 12,-179.5 6,-179.5 0,-173.5 0,-167.5 0,-167.5 0,-123.5 0,-123.5 0,-117.5 6,-111.5 12,-111.5 12,-111.5 101,-111.5 101,-111.5 107,-111.5 113,-117.5 113,-123.5 113,-123.5 113,-167.5 113,-167.5 113,-173.5 107,-179.5 101,-179.5\"/>\r\n",
       "<text text-anchor=\"start\" x=\"27.5\" y=\"-164.3\" font-family=\"Helvetica,sans-Serif\" font-size=\"14.00\">gini = 0.0</text>\r\n",
       "<text text-anchor=\"start\" x=\"9\" y=\"-149.3\" font-family=\"Helvetica,sans-Serif\" font-size=\"14.00\">samples = 290</text>\r\n",
       "<text text-anchor=\"start\" x=\"8\" y=\"-134.3\" font-family=\"Helvetica,sans-Serif\" font-size=\"14.00\">value = [290, 0]</text>\r\n",
       "<text text-anchor=\"start\" x=\"9.5\" y=\"-119.3\" font-family=\"Helvetica,sans-Serif\" font-size=\"14.00\">class = Benign</text>\r\n",
       "</g>\r\n",
       "<!-- 2&#45;&gt;3 -->\r\n",
       "<g id=\"edge3\" class=\"edge\"><title>2&#45;&gt;3</title>\r\n",
       "<path fill=\"none\" stroke=\"black\" d=\"M141.397,-222.907C128.278,-211.101 113.963,-198.217 100.888,-186.45\"/>\r\n",
       "<polygon fill=\"black\" stroke=\"black\" points=\"103.127,-183.755 93.3522,-179.667 98.4437,-188.958 103.127,-183.755\"/>\r\n",
       "</g>\r\n",
       "<!-- 4 -->\r\n",
       "<g id=\"node5\" class=\"node\"><title>4</title>\r\n",
       "<path fill=\"#ffffff\" stroke=\"black\" d=\"M229.5,-187C229.5,-187 143.5,-187 143.5,-187 137.5,-187 131.5,-181 131.5,-175 131.5,-175 131.5,-116 131.5,-116 131.5,-110 137.5,-104 143.5,-104 143.5,-104 229.5,-104 229.5,-104 235.5,-104 241.5,-110 241.5,-116 241.5,-116 241.5,-175 241.5,-175 241.5,-181 235.5,-187 229.5,-187\"/>\r\n",
       "<text text-anchor=\"start\" x=\"148.5\" y=\"-171.8\" font-family=\"Helvetica,sans-Serif\" font-size=\"14.00\">BareN ≤ 9.0</text>\r\n",
       "<text text-anchor=\"start\" x=\"157.5\" y=\"-156.8\" font-family=\"Helvetica,sans-Serif\" font-size=\"14.00\">gini = 0.5</text>\r\n",
       "<text text-anchor=\"start\" x=\"147\" y=\"-141.8\" font-family=\"Helvetica,sans-Serif\" font-size=\"14.00\">samples = 2</text>\r\n",
       "<text text-anchor=\"start\" x=\"146\" y=\"-126.8\" font-family=\"Helvetica,sans-Serif\" font-size=\"14.00\">value = [1, 1]</text>\r\n",
       "<text text-anchor=\"start\" x=\"139.5\" y=\"-111.8\" font-family=\"Helvetica,sans-Serif\" font-size=\"14.00\">class = Benign</text>\r\n",
       "</g>\r\n",
       "<!-- 2&#45;&gt;4 -->\r\n",
       "<g id=\"edge4\" class=\"edge\"><title>2&#45;&gt;4</title>\r\n",
       "<path fill=\"none\" stroke=\"black\" d=\"M186.5,-222.907C186.5,-214.649 186.5,-205.864 186.5,-197.302\"/>\r\n",
       "<polygon fill=\"black\" stroke=\"black\" points=\"190,-197.021 186.5,-187.021 183,-197.021 190,-197.021\"/>\r\n",
       "</g>\r\n",
       "<!-- 5 -->\r\n",
       "<g id=\"node6\" class=\"node\"><title>5</title>\r\n",
       "<path fill=\"#399de5\" stroke=\"black\" d=\"M169,-68C169,-68 68,-68 68,-68 62,-68 56,-62 56,-56 56,-56 56,-12 56,-12 56,-6 62,-0 68,-0 68,-0 169,-0 169,-0 175,-0 181,-6 181,-12 181,-12 181,-56 181,-56 181,-62 175,-68 169,-68\"/>\r\n",
       "<text text-anchor=\"start\" x=\"89.5\" y=\"-52.8\" font-family=\"Helvetica,sans-Serif\" font-size=\"14.00\">gini = 0.0</text>\r\n",
       "<text text-anchor=\"start\" x=\"79\" y=\"-37.8\" font-family=\"Helvetica,sans-Serif\" font-size=\"14.00\">samples = 1</text>\r\n",
       "<text text-anchor=\"start\" x=\"78\" y=\"-22.8\" font-family=\"Helvetica,sans-Serif\" font-size=\"14.00\">value = [0, 1]</text>\r\n",
       "<text text-anchor=\"start\" x=\"64\" y=\"-7.8\" font-family=\"Helvetica,sans-Serif\" font-size=\"14.00\">class = Malignant</text>\r\n",
       "</g>\r\n",
       "<!-- 4&#45;&gt;5 -->\r\n",
       "<g id=\"edge5\" class=\"edge\"><title>4&#45;&gt;5</title>\r\n",
       "<path fill=\"none\" stroke=\"black\" d=\"M161.179,-103.726C155.742,-94.9703 149.987,-85.7032 144.523,-76.9051\"/>\r\n",
       "<polygon fill=\"black\" stroke=\"black\" points=\"147.428,-74.9484 139.179,-68.2996 141.481,-78.6413 147.428,-74.9484\"/>\r\n",
       "</g>\r\n",
       "<!-- 6 -->\r\n",
       "<g id=\"node7\" class=\"node\"><title>6</title>\r\n",
       "<path fill=\"#e58139\" stroke=\"black\" d=\"M297.5,-68C297.5,-68 211.5,-68 211.5,-68 205.5,-68 199.5,-62 199.5,-56 199.5,-56 199.5,-12 199.5,-12 199.5,-6 205.5,-0 211.5,-0 211.5,-0 297.5,-0 297.5,-0 303.5,-0 309.5,-6 309.5,-12 309.5,-12 309.5,-56 309.5,-56 309.5,-62 303.5,-68 297.5,-68\"/>\r\n",
       "<text text-anchor=\"start\" x=\"225.5\" y=\"-52.8\" font-family=\"Helvetica,sans-Serif\" font-size=\"14.00\">gini = 0.0</text>\r\n",
       "<text text-anchor=\"start\" x=\"215\" y=\"-37.8\" font-family=\"Helvetica,sans-Serif\" font-size=\"14.00\">samples = 1</text>\r\n",
       "<text text-anchor=\"start\" x=\"214\" y=\"-22.8\" font-family=\"Helvetica,sans-Serif\" font-size=\"14.00\">value = [1, 0]</text>\r\n",
       "<text text-anchor=\"start\" x=\"207.5\" y=\"-7.8\" font-family=\"Helvetica,sans-Serif\" font-size=\"14.00\">class = Benign</text>\r\n",
       "</g>\r\n",
       "<!-- 4&#45;&gt;6 -->\r\n",
       "<g id=\"edge6\" class=\"edge\"><title>4&#45;&gt;6</title>\r\n",
       "<path fill=\"none\" stroke=\"black\" d=\"M211.821,-103.726C217.258,-94.9703 223.013,-85.7032 228.477,-76.9051\"/>\r\n",
       "<polygon fill=\"black\" stroke=\"black\" points=\"231.519,-78.6413 233.821,-68.2996 225.572,-74.9484 231.519,-78.6413\"/>\r\n",
       "</g>\r\n",
       "<!-- 8 -->\r\n",
       "<g id=\"node9\" class=\"node\"><title>8</title>\r\n",
       "<path fill=\"#e58139\" stroke=\"black\" d=\"M357.5,-179.5C357.5,-179.5 271.5,-179.5 271.5,-179.5 265.5,-179.5 259.5,-173.5 259.5,-167.5 259.5,-167.5 259.5,-123.5 259.5,-123.5 259.5,-117.5 265.5,-111.5 271.5,-111.5 271.5,-111.5 357.5,-111.5 357.5,-111.5 363.5,-111.5 369.5,-117.5 369.5,-123.5 369.5,-123.5 369.5,-167.5 369.5,-167.5 369.5,-173.5 363.5,-179.5 357.5,-179.5\"/>\r\n",
       "<text text-anchor=\"start\" x=\"285.5\" y=\"-164.3\" font-family=\"Helvetica,sans-Serif\" font-size=\"14.00\">gini = 0.0</text>\r\n",
       "<text text-anchor=\"start\" x=\"275\" y=\"-149.3\" font-family=\"Helvetica,sans-Serif\" font-size=\"14.00\">samples = 2</text>\r\n",
       "<text text-anchor=\"start\" x=\"274\" y=\"-134.3\" font-family=\"Helvetica,sans-Serif\" font-size=\"14.00\">value = [2, 0]</text>\r\n",
       "<text text-anchor=\"start\" x=\"267.5\" y=\"-119.3\" font-family=\"Helvetica,sans-Serif\" font-size=\"14.00\">class = Benign</text>\r\n",
       "</g>\r\n",
       "<!-- 7&#45;&gt;8 -->\r\n",
       "<g id=\"edge8\" class=\"edge\"><title>7&#45;&gt;8</title>\r\n",
       "<path fill=\"none\" stroke=\"black\" d=\"M360.214,-222.907C353.546,-211.763 346.304,-199.658 339.592,-188.439\"/>\r\n",
       "<polygon fill=\"black\" stroke=\"black\" points=\"342.481,-186.451 334.343,-179.667 336.474,-190.045 342.481,-186.451\"/>\r\n",
       "</g>\r\n",
       "<!-- 9 -->\r\n",
       "<g id=\"node10\" class=\"node\"><title>9</title>\r\n",
       "<path fill=\"#399de5\" stroke=\"black\" d=\"M501,-179.5C501,-179.5 400,-179.5 400,-179.5 394,-179.5 388,-173.5 388,-167.5 388,-167.5 388,-123.5 388,-123.5 388,-117.5 394,-111.5 400,-111.5 400,-111.5 501,-111.5 501,-111.5 507,-111.5 513,-117.5 513,-123.5 513,-123.5 513,-167.5 513,-167.5 513,-173.5 507,-179.5 501,-179.5\"/>\r\n",
       "<text text-anchor=\"start\" x=\"421.5\" y=\"-164.3\" font-family=\"Helvetica,sans-Serif\" font-size=\"14.00\">gini = 0.0</text>\r\n",
       "<text text-anchor=\"start\" x=\"411\" y=\"-149.3\" font-family=\"Helvetica,sans-Serif\" font-size=\"14.00\">samples = 4</text>\r\n",
       "<text text-anchor=\"start\" x=\"410\" y=\"-134.3\" font-family=\"Helvetica,sans-Serif\" font-size=\"14.00\">value = [0, 4]</text>\r\n",
       "<text text-anchor=\"start\" x=\"396\" y=\"-119.3\" font-family=\"Helvetica,sans-Serif\" font-size=\"14.00\">class = Malignant</text>\r\n",
       "</g>\r\n",
       "<!-- 7&#45;&gt;9 -->\r\n",
       "<g id=\"edge9\" class=\"edge\"><title>7&#45;&gt;9</title>\r\n",
       "<path fill=\"none\" stroke=\"black\" d=\"M407.398,-222.907C413.685,-211.763 420.513,-199.658 426.842,-188.439\"/>\r\n",
       "<polygon fill=\"black\" stroke=\"black\" points=\"429.926,-190.096 431.79,-179.667 423.829,-186.657 429.926,-190.096\"/>\r\n",
       "</g>\r\n",
       "<!-- 11 -->\r\n",
       "<g id=\"node12\" class=\"node\"><title>11</title>\r\n",
       "<path fill=\"#eca572\" stroke=\"black\" d=\"M635.5,-306C635.5,-306 549.5,-306 549.5,-306 543.5,-306 537.5,-300 537.5,-294 537.5,-294 537.5,-235 537.5,-235 537.5,-229 543.5,-223 549.5,-223 549.5,-223 635.5,-223 635.5,-223 641.5,-223 647.5,-229 647.5,-235 647.5,-235 647.5,-294 647.5,-294 647.5,-300 641.5,-306 635.5,-306\"/>\r\n",
       "<text text-anchor=\"start\" x=\"546\" y=\"-290.8\" font-family=\"Helvetica,sans-Serif\" font-size=\"14.00\">MargAdh ≤ 6.0</text>\r\n",
       "<text text-anchor=\"start\" x=\"555\" y=\"-275.8\" font-family=\"Helvetica,sans-Serif\" font-size=\"14.00\">gini = 0.346</text>\r\n",
       "<text text-anchor=\"start\" x=\"549\" y=\"-260.8\" font-family=\"Helvetica,sans-Serif\" font-size=\"14.00\">samples = 18</text>\r\n",
       "<text text-anchor=\"start\" x=\"548\" y=\"-245.8\" font-family=\"Helvetica,sans-Serif\" font-size=\"14.00\">value = [14, 4]</text>\r\n",
       "<text text-anchor=\"start\" x=\"545.5\" y=\"-230.8\" font-family=\"Helvetica,sans-Serif\" font-size=\"14.00\">class = Benign</text>\r\n",
       "</g>\r\n",
       "<!-- 10&#45;&gt;11 -->\r\n",
       "<g id=\"edge11\" class=\"edge\"><title>10&#45;&gt;11</title>\r\n",
       "<path fill=\"none\" stroke=\"black\" d=\"M592.5,-341.907C592.5,-333.649 592.5,-324.864 592.5,-316.302\"/>\r\n",
       "<polygon fill=\"black\" stroke=\"black\" points=\"596,-316.021 592.5,-306.021 589,-316.021 596,-316.021\"/>\r\n",
       "</g>\r\n",
       "<!-- 16 -->\r\n",
       "<g id=\"node17\" class=\"node\"><title>16</title>\r\n",
       "<path fill=\"#49a5e7\" stroke=\"black\" d=\"M920,-306C920,-306 811,-306 811,-306 805,-306 799,-300 799,-294 799,-294 799,-235 799,-235 799,-229 805,-223 811,-223 811,-223 920,-223 920,-223 926,-223 932,-229 932,-235 932,-235 932,-294 932,-294 932,-300 926,-306 920,-306\"/>\r\n",
       "<text text-anchor=\"start\" x=\"807\" y=\"-290.8\" font-family=\"Helvetica,sans-Serif\" font-size=\"14.00\">UniCell_Size ≤ 4.5</text>\r\n",
       "<text text-anchor=\"start\" x=\"828\" y=\"-275.8\" font-family=\"Helvetica,sans-Serif\" font-size=\"14.00\">gini = 0.139</text>\r\n",
       "<text text-anchor=\"start\" x=\"818\" y=\"-260.8\" font-family=\"Helvetica,sans-Serif\" font-size=\"14.00\">samples = 173</text>\r\n",
       "<text text-anchor=\"start\" x=\"812.5\" y=\"-245.8\" font-family=\"Helvetica,sans-Serif\" font-size=\"14.00\">value = [13, 160]</text>\r\n",
       "<text text-anchor=\"start\" x=\"811\" y=\"-230.8\" font-family=\"Helvetica,sans-Serif\" font-size=\"14.00\">class = Malignant</text>\r\n",
       "</g>\r\n",
       "<!-- 10&#45;&gt;16 -->\r\n",
       "<g id=\"edge16\" class=\"edge\"><title>10&#45;&gt;16</title>\r\n",
       "<path fill=\"none\" stroke=\"black\" d=\"M665.659,-351.146C703.807,-334.797 750.435,-314.813 789.054,-298.263\"/>\r\n",
       "<polygon fill=\"black\" stroke=\"black\" points=\"790.877,-301.289 798.689,-294.133 788.119,-294.855 790.877,-301.289\"/>\r\n",
       "</g>\r\n",
       "<!-- 12 -->\r\n",
       "<g id=\"node13\" class=\"node\"><title>12</title>\r\n",
       "<path fill=\"#e78a47\" stroke=\"black\" d=\"M629.5,-187C629.5,-187 543.5,-187 543.5,-187 537.5,-187 531.5,-181 531.5,-175 531.5,-175 531.5,-116 531.5,-116 531.5,-110 537.5,-104 543.5,-104 543.5,-104 629.5,-104 629.5,-104 635.5,-104 641.5,-110 641.5,-116 641.5,-116 641.5,-175 641.5,-175 641.5,-181 635.5,-187 629.5,-187\"/>\r\n",
       "<text text-anchor=\"start\" x=\"548\" y=\"-171.8\" font-family=\"Helvetica,sans-Serif\" font-size=\"14.00\">Clump ≤ 7.5</text>\r\n",
       "<text text-anchor=\"start\" x=\"549\" y=\"-156.8\" font-family=\"Helvetica,sans-Serif\" font-size=\"14.00\">gini = 0.124</text>\r\n",
       "<text text-anchor=\"start\" x=\"543\" y=\"-141.8\" font-family=\"Helvetica,sans-Serif\" font-size=\"14.00\">samples = 15</text>\r\n",
       "<text text-anchor=\"start\" x=\"542\" y=\"-126.8\" font-family=\"Helvetica,sans-Serif\" font-size=\"14.00\">value = [14, 1]</text>\r\n",
       "<text text-anchor=\"start\" x=\"539.5\" y=\"-111.8\" font-family=\"Helvetica,sans-Serif\" font-size=\"14.00\">class = Benign</text>\r\n",
       "</g>\r\n",
       "<!-- 11&#45;&gt;12 -->\r\n",
       "<g id=\"edge12\" class=\"edge\"><title>11&#45;&gt;12</title>\r\n",
       "<path fill=\"none\" stroke=\"black\" d=\"M590.418,-222.907C589.99,-214.558 589.534,-205.671 589.091,-197.02\"/>\r\n",
       "<polygon fill=\"black\" stroke=\"black\" points=\"592.586,-196.828 588.578,-187.021 585.595,-197.187 592.586,-196.828\"/>\r\n",
       "</g>\r\n",
       "<!-- 15 -->\r\n",
       "<g id=\"node16\" class=\"node\"><title>15</title>\r\n",
       "<path fill=\"#399de5\" stroke=\"black\" d=\"M773,-179.5C773,-179.5 672,-179.5 672,-179.5 666,-179.5 660,-173.5 660,-167.5 660,-167.5 660,-123.5 660,-123.5 660,-117.5 666,-111.5 672,-111.5 672,-111.5 773,-111.5 773,-111.5 779,-111.5 785,-117.5 785,-123.5 785,-123.5 785,-167.5 785,-167.5 785,-173.5 779,-179.5 773,-179.5\"/>\r\n",
       "<text text-anchor=\"start\" x=\"693.5\" y=\"-164.3\" font-family=\"Helvetica,sans-Serif\" font-size=\"14.00\">gini = 0.0</text>\r\n",
       "<text text-anchor=\"start\" x=\"683\" y=\"-149.3\" font-family=\"Helvetica,sans-Serif\" font-size=\"14.00\">samples = 3</text>\r\n",
       "<text text-anchor=\"start\" x=\"682\" y=\"-134.3\" font-family=\"Helvetica,sans-Serif\" font-size=\"14.00\">value = [0, 3]</text>\r\n",
       "<text text-anchor=\"start\" x=\"668\" y=\"-119.3\" font-family=\"Helvetica,sans-Serif\" font-size=\"14.00\">class = Malignant</text>\r\n",
       "</g>\r\n",
       "<!-- 11&#45;&gt;15 -->\r\n",
       "<g id=\"edge15\" class=\"edge\"><title>11&#45;&gt;15</title>\r\n",
       "<path fill=\"none\" stroke=\"black\" d=\"M637.603,-222.907C650.722,-211.101 665.037,-198.217 678.112,-186.45\"/>\r\n",
       "<polygon fill=\"black\" stroke=\"black\" points=\"680.556,-188.958 685.648,-179.667 675.873,-183.755 680.556,-188.958\"/>\r\n",
       "</g>\r\n",
       "<!-- 13 -->\r\n",
       "<g id=\"node14\" class=\"node\"><title>13</title>\r\n",
       "<path fill=\"#e58139\" stroke=\"black\" d=\"M496.5,-68C496.5,-68 410.5,-68 410.5,-68 404.5,-68 398.5,-62 398.5,-56 398.5,-56 398.5,-12 398.5,-12 398.5,-6 404.5,-0 410.5,-0 410.5,-0 496.5,-0 496.5,-0 502.5,-0 508.5,-6 508.5,-12 508.5,-12 508.5,-56 508.5,-56 508.5,-62 502.5,-68 496.5,-68\"/>\r\n",
       "<text text-anchor=\"start\" x=\"424.5\" y=\"-52.8\" font-family=\"Helvetica,sans-Serif\" font-size=\"14.00\">gini = 0.0</text>\r\n",
       "<text text-anchor=\"start\" x=\"410\" y=\"-37.8\" font-family=\"Helvetica,sans-Serif\" font-size=\"14.00\">samples = 14</text>\r\n",
       "<text text-anchor=\"start\" x=\"409\" y=\"-22.8\" font-family=\"Helvetica,sans-Serif\" font-size=\"14.00\">value = [14, 0]</text>\r\n",
       "<text text-anchor=\"start\" x=\"406.5\" y=\"-7.8\" font-family=\"Helvetica,sans-Serif\" font-size=\"14.00\">class = Benign</text>\r\n",
       "</g>\r\n",
       "<!-- 12&#45;&gt;13 -->\r\n",
       "<g id=\"edge13\" class=\"edge\"><title>12&#45;&gt;13</title>\r\n",
       "<path fill=\"none\" stroke=\"black\" d=\"M536.976,-103.726C525.454,-94.2406 513.204,-84.1551 501.739,-74.7159\"/>\r\n",
       "<polygon fill=\"black\" stroke=\"black\" points=\"503.891,-71.9536 493.946,-68.2996 499.442,-77.3577 503.891,-71.9536\"/>\r\n",
       "</g>\r\n",
       "<!-- 14 -->\r\n",
       "<g id=\"node15\" class=\"node\"><title>14</title>\r\n",
       "<path fill=\"#399de5\" stroke=\"black\" d=\"M640,-68C640,-68 539,-68 539,-68 533,-68 527,-62 527,-56 527,-56 527,-12 527,-12 527,-6 533,-0 539,-0 539,-0 640,-0 640,-0 646,-0 652,-6 652,-12 652,-12 652,-56 652,-56 652,-62 646,-68 640,-68\"/>\r\n",
       "<text text-anchor=\"start\" x=\"560.5\" y=\"-52.8\" font-family=\"Helvetica,sans-Serif\" font-size=\"14.00\">gini = 0.0</text>\r\n",
       "<text text-anchor=\"start\" x=\"550\" y=\"-37.8\" font-family=\"Helvetica,sans-Serif\" font-size=\"14.00\">samples = 1</text>\r\n",
       "<text text-anchor=\"start\" x=\"549\" y=\"-22.8\" font-family=\"Helvetica,sans-Serif\" font-size=\"14.00\">value = [0, 1]</text>\r\n",
       "<text text-anchor=\"start\" x=\"535\" y=\"-7.8\" font-family=\"Helvetica,sans-Serif\" font-size=\"14.00\">class = Malignant</text>\r\n",
       "</g>\r\n",
       "<!-- 12&#45;&gt;14 -->\r\n",
       "<g id=\"edge14\" class=\"edge\"><title>12&#45;&gt;14</title>\r\n",
       "<path fill=\"none\" stroke=\"black\" d=\"M587.617,-103.726C587.842,-95.5175 588.079,-86.8595 588.307,-78.56\"/>\r\n",
       "<polygon fill=\"black\" stroke=\"black\" points=\"591.812,-78.3917 588.588,-68.2996 584.815,-78.2 591.812,-78.3917\"/>\r\n",
       "</g>\r\n",
       "<!-- 17 -->\r\n",
       "<g id=\"node18\" class=\"node\"><title>17</title>\r\n",
       "<path fill=\"#74baed\" stroke=\"black\" d=\"M916,-187C916,-187 815,-187 815,-187 809,-187 803,-181 803,-175 803,-175 803,-116 803,-116 803,-110 809,-104 815,-104 815,-104 916,-104 916,-104 922,-104 928,-110 928,-116 928,-116 928,-175 928,-175 928,-181 922,-187 916,-187\"/>\r\n",
       "<text text-anchor=\"start\" x=\"827.5\" y=\"-171.8\" font-family=\"Helvetica,sans-Serif\" font-size=\"14.00\">BareN ≤ 1.5</text>\r\n",
       "<text text-anchor=\"start\" x=\"828\" y=\"-156.8\" font-family=\"Helvetica,sans-Serif\" font-size=\"14.00\">gini = 0.353</text>\r\n",
       "<text text-anchor=\"start\" x=\"822\" y=\"-141.8\" font-family=\"Helvetica,sans-Serif\" font-size=\"14.00\">samples = 48</text>\r\n",
       "<text text-anchor=\"start\" x=\"817\" y=\"-126.8\" font-family=\"Helvetica,sans-Serif\" font-size=\"14.00\">value = [11, 37]</text>\r\n",
       "<text text-anchor=\"start\" x=\"811\" y=\"-111.8\" font-family=\"Helvetica,sans-Serif\" font-size=\"14.00\">class = Malignant</text>\r\n",
       "</g>\r\n",
       "<!-- 16&#45;&gt;17 -->\r\n",
       "<g id=\"edge17\" class=\"edge\"><title>16&#45;&gt;17</title>\r\n",
       "<path fill=\"none\" stroke=\"black\" d=\"M865.5,-222.907C865.5,-214.649 865.5,-205.864 865.5,-197.302\"/>\r\n",
       "<polygon fill=\"black\" stroke=\"black\" points=\"869,-197.021 865.5,-187.021 862,-197.021 869,-197.021\"/>\r\n",
       "</g>\r\n",
       "<!-- 20 -->\r\n",
       "<g id=\"node21\" class=\"node\"><title>20</title>\r\n",
       "<path fill=\"#3c9fe5\" stroke=\"black\" d=\"M1059,-187C1059,-187 958,-187 958,-187 952,-187 946,-181 946,-175 946,-175 946,-116 946,-116 946,-110 952,-104 958,-104 958,-104 1059,-104 1059,-104 1065,-104 1071,-110 1071,-116 1071,-116 1071,-175 1071,-175 1071,-181 1065,-187 1059,-187\"/>\r\n",
       "<text text-anchor=\"start\" x=\"970.5\" y=\"-171.8\" font-family=\"Helvetica,sans-Serif\" font-size=\"14.00\">BareN ≤ 4.5</text>\r\n",
       "<text text-anchor=\"start\" x=\"971\" y=\"-156.8\" font-family=\"Helvetica,sans-Serif\" font-size=\"14.00\">gini = 0.031</text>\r\n",
       "<text text-anchor=\"start\" x=\"961\" y=\"-141.8\" font-family=\"Helvetica,sans-Serif\" font-size=\"14.00\">samples = 125</text>\r\n",
       "<text text-anchor=\"start\" x=\"960\" y=\"-126.8\" font-family=\"Helvetica,sans-Serif\" font-size=\"14.00\">value = [2, 123]</text>\r\n",
       "<text text-anchor=\"start\" x=\"954\" y=\"-111.8\" font-family=\"Helvetica,sans-Serif\" font-size=\"14.00\">class = Malignant</text>\r\n",
       "</g>\r\n",
       "<!-- 16&#45;&gt;20 -->\r\n",
       "<g id=\"edge20\" class=\"edge\"><title>16&#45;&gt;20</title>\r\n",
       "<path fill=\"none\" stroke=\"black\" d=\"M915.113,-222.907C926.76,-213.379 939.263,-203.148 951.215,-193.37\"/>\r\n",
       "<polygon fill=\"black\" stroke=\"black\" points=\"953.451,-196.062 958.975,-187.021 949.019,-190.644 953.451,-196.062\"/>\r\n",
       "</g>\r\n",
       "<!-- 18 -->\r\n",
       "<g id=\"node19\" class=\"node\"><title>18</title>\r\n",
       "<path fill=\"#eeab7b\" stroke=\"black\" d=\"M772.5,-68C772.5,-68 686.5,-68 686.5,-68 680.5,-68 674.5,-62 674.5,-56 674.5,-56 674.5,-12 674.5,-12 674.5,-6 680.5,-0 686.5,-0 686.5,-0 772.5,-0 772.5,-0 778.5,-0 784.5,-6 784.5,-12 784.5,-12 784.5,-56 784.5,-56 784.5,-62 778.5,-68 772.5,-68\"/>\r\n",
       "<text text-anchor=\"start\" x=\"692\" y=\"-52.8\" font-family=\"Helvetica,sans-Serif\" font-size=\"14.00\">gini = 0.375</text>\r\n",
       "<text text-anchor=\"start\" x=\"690\" y=\"-37.8\" font-family=\"Helvetica,sans-Serif\" font-size=\"14.00\">samples = 8</text>\r\n",
       "<text text-anchor=\"start\" x=\"689\" y=\"-22.8\" font-family=\"Helvetica,sans-Serif\" font-size=\"14.00\">value = [6, 2]</text>\r\n",
       "<text text-anchor=\"start\" x=\"682.5\" y=\"-7.8\" font-family=\"Helvetica,sans-Serif\" font-size=\"14.00\">class = Benign</text>\r\n",
       "</g>\r\n",
       "<!-- 17&#45;&gt;18 -->\r\n",
       "<g id=\"edge18\" class=\"edge\"><title>17&#45;&gt;18</title>\r\n",
       "<path fill=\"none\" stroke=\"black\" d=\"M814.859,-103.726C803.077,-94.2406 790.551,-84.1551 778.827,-74.7159\"/>\r\n",
       "<polygon fill=\"black\" stroke=\"black\" points=\"780.843,-71.8448 770.858,-68.2996 776.453,-77.2972 780.843,-71.8448\"/>\r\n",
       "</g>\r\n",
       "<!-- 19 -->\r\n",
       "<g id=\"node20\" class=\"node\"><title>19</title>\r\n",
       "<path fill=\"#55abe9\" stroke=\"black\" d=\"M916,-68C916,-68 815,-68 815,-68 809,-68 803,-62 803,-56 803,-56 803,-12 803,-12 803,-6 809,-0 815,-0 815,-0 916,-0 916,-0 922,-0 928,-6 928,-12 928,-12 928,-56 928,-56 928,-62 922,-68 916,-68\"/>\r\n",
       "<text text-anchor=\"start\" x=\"828\" y=\"-52.8\" font-family=\"Helvetica,sans-Serif\" font-size=\"14.00\">gini = 0.219</text>\r\n",
       "<text text-anchor=\"start\" x=\"822\" y=\"-37.8\" font-family=\"Helvetica,sans-Serif\" font-size=\"14.00\">samples = 40</text>\r\n",
       "<text text-anchor=\"start\" x=\"821\" y=\"-22.8\" font-family=\"Helvetica,sans-Serif\" font-size=\"14.00\">value = [5, 35]</text>\r\n",
       "<text text-anchor=\"start\" x=\"811\" y=\"-7.8\" font-family=\"Helvetica,sans-Serif\" font-size=\"14.00\">class = Malignant</text>\r\n",
       "</g>\r\n",
       "<!-- 17&#45;&gt;19 -->\r\n",
       "<g id=\"edge19\" class=\"edge\"><title>17&#45;&gt;19</title>\r\n",
       "<path fill=\"none\" stroke=\"black\" d=\"M865.5,-103.726C865.5,-95.5175 865.5,-86.8595 865.5,-78.56\"/>\r\n",
       "<polygon fill=\"black\" stroke=\"black\" points=\"869,-78.2996 865.5,-68.2996 862,-78.2996 869,-78.2996\"/>\r\n",
       "</g>\r\n",
       "<!-- 21 -->\r\n",
       "<g id=\"node22\" class=\"node\"><title>21</title>\r\n",
       "<path fill=\"#4ca6e7\" stroke=\"black\" d=\"M1059,-68C1059,-68 958,-68 958,-68 952,-68 946,-62 946,-56 946,-56 946,-12 946,-12 946,-6 952,-0 958,-0 958,-0 1059,-0 1059,-0 1065,-0 1071,-6 1071,-12 1071,-12 1071,-56 1071,-56 1071,-62 1065,-68 1059,-68\"/>\r\n",
       "<text text-anchor=\"start\" x=\"971\" y=\"-52.8\" font-family=\"Helvetica,sans-Serif\" font-size=\"14.00\">gini = 0.159</text>\r\n",
       "<text text-anchor=\"start\" x=\"965\" y=\"-37.8\" font-family=\"Helvetica,sans-Serif\" font-size=\"14.00\">samples = 23</text>\r\n",
       "<text text-anchor=\"start\" x=\"964\" y=\"-22.8\" font-family=\"Helvetica,sans-Serif\" font-size=\"14.00\">value = [2, 21]</text>\r\n",
       "<text text-anchor=\"start\" x=\"954\" y=\"-7.8\" font-family=\"Helvetica,sans-Serif\" font-size=\"14.00\">class = Malignant</text>\r\n",
       "</g>\r\n",
       "<!-- 20&#45;&gt;21 -->\r\n",
       "<g id=\"edge21\" class=\"edge\"><title>20&#45;&gt;21</title>\r\n",
       "<path fill=\"none\" stroke=\"black\" d=\"M1008.5,-103.726C1008.5,-95.5175 1008.5,-86.8595 1008.5,-78.56\"/>\r\n",
       "<polygon fill=\"black\" stroke=\"black\" points=\"1012,-78.2996 1008.5,-68.2996 1005,-78.2996 1012,-78.2996\"/>\r\n",
       "</g>\r\n",
       "<!-- 22 -->\r\n",
       "<g id=\"node23\" class=\"node\"><title>22</title>\r\n",
       "<path fill=\"#399de5\" stroke=\"black\" d=\"M1202,-68C1202,-68 1101,-68 1101,-68 1095,-68 1089,-62 1089,-56 1089,-56 1089,-12 1089,-12 1089,-6 1095,-0 1101,-0 1101,-0 1202,-0 1202,-0 1208,-0 1214,-6 1214,-12 1214,-12 1214,-56 1214,-56 1214,-62 1208,-68 1202,-68\"/>\r\n",
       "<text text-anchor=\"start\" x=\"1122.5\" y=\"-52.8\" font-family=\"Helvetica,sans-Serif\" font-size=\"14.00\">gini = 0.0</text>\r\n",
       "<text text-anchor=\"start\" x=\"1104\" y=\"-37.8\" font-family=\"Helvetica,sans-Serif\" font-size=\"14.00\">samples = 102</text>\r\n",
       "<text text-anchor=\"start\" x=\"1103\" y=\"-22.8\" font-family=\"Helvetica,sans-Serif\" font-size=\"14.00\">value = [0, 102]</text>\r\n",
       "<text text-anchor=\"start\" x=\"1097\" y=\"-7.8\" font-family=\"Helvetica,sans-Serif\" font-size=\"14.00\">class = Malignant</text>\r\n",
       "</g>\r\n",
       "<!-- 20&#45;&gt;22 -->\r\n",
       "<g id=\"edge22\" class=\"edge\"><title>20&#45;&gt;22</title>\r\n",
       "<path fill=\"none\" stroke=\"black\" d=\"M1061.75,-103.726C1074.25,-94.1494 1087.56,-83.9611 1099.99,-74.4438\"/>\r\n",
       "<polygon fill=\"black\" stroke=\"black\" points=\"1102.2,-77.1582 1108.01,-68.2996 1097.95,-71.6004 1102.2,-77.1582\"/>\r\n",
       "</g>\r\n",
       "</g>\r\n",
       "</svg>\r\n"
      ],
      "text/plain": [
       "<graphviz.files.Source at 0x28cec79e5c8>"
      ]
     },
     "execution_count": 17,
     "metadata": {},
     "output_type": "execute_result"
    }
   ],
   "source": [
    "dot_data = tree.export_graphviz(clf, out_file=None, \n",
    "                         feature_names=X_train.columns,  \n",
    "                         class_names=['Benign','Malignant'],  \n",
    "                         filled=True, rounded=True,  \n",
    "                         special_characters=True)  \n",
    "graph = graphviz.Source(dot_data)  \n",
    "graph "
   ]
  },
  {
   "cell_type": "markdown",
   "metadata": {},
   "source": [
    "Grid Search CV"
   ]
  },
  {
   "cell_type": "code",
   "execution_count": 18,
   "metadata": {},
   "outputs": [],
   "source": [
    "depth_range = [3,4,5,6,7,8,9]\n",
    "minsplit_range = [5,10,20,25,30]\n",
    "minleaf_range = [5,10,15]\n",
    "\n",
    "parameters = dict(max_depth=depth_range,\n",
    "                  min_samples_split=minsplit_range, \n",
    "                  min_samples_leaf=minleaf_range)"
   ]
  },
  {
   "cell_type": "code",
   "execution_count": 20,
   "metadata": {},
   "outputs": [
    {
     "name": "stderr",
     "output_type": "stream",
     "text": [
      "C:\\Users\\Lenovo\\Anaconda3\\lib\\site-packages\\sklearn\\model_selection\\_split.py:296: FutureWarning: Setting a random_state has no effect since shuffle is False. This will raise an error in 0.24. You should leave random_state to its default (None), or set shuffle=True.\n",
      "  FutureWarning\n"
     ]
    },
    {
     "data": {
      "text/plain": [
       "GridSearchCV(cv=StratifiedKFold(n_splits=5, random_state=42, shuffle=False),\n",
       "             error_score=nan,\n",
       "             estimator=DecisionTreeClassifier(ccp_alpha=0.0, class_weight=None,\n",
       "                                              criterion='gini', max_depth=None,\n",
       "                                              max_features=None,\n",
       "                                              max_leaf_nodes=None,\n",
       "                                              min_impurity_decrease=0.0,\n",
       "                                              min_impurity_split=None,\n",
       "                                              min_samples_leaf=1,\n",
       "                                              min_samples_split=2,\n",
       "                                              min_weight_fraction_leaf=0.0,\n",
       "                                              presort='deprecated',\n",
       "                                              random_state=2018,\n",
       "                                              splitter='best'),\n",
       "             iid='deprecated', n_jobs=None,\n",
       "             param_grid={'max_depth': [3, 4, 5, 6, 7, 8, 9],\n",
       "                         'min_samples_leaf': [5, 10, 15],\n",
       "                         'min_samples_split': [5, 10, 20, 25, 30]},\n",
       "             pre_dispatch='2*n_jobs', refit=True, return_train_score=False,\n",
       "             scoring='roc_auc', verbose=0)"
      ]
     },
     "execution_count": 20,
     "metadata": {},
     "output_type": "execute_result"
    }
   ],
   "source": [
    "from sklearn.model_selection import StratifiedKFold\n",
    "kfold = StratifiedKFold(n_splits=5, random_state=42)\n",
    "\n",
    "from sklearn.model_selection import GridSearchCV\n",
    "clf = DecisionTreeClassifier(random_state=2018)\n",
    "cv = GridSearchCV(clf, param_grid=parameters,\n",
    "                  cv=kfold,scoring='roc_auc')\n",
    "\n",
    "cv.fit(X,y)"
   ]
  },
  {
   "cell_type": "markdown",
   "metadata": {},
   "source": [
    "Best Parameters"
   ]
  },
  {
   "cell_type": "code",
   "execution_count": 21,
   "metadata": {},
   "outputs": [
    {
     "name": "stdout",
     "output_type": "stream",
     "text": [
      "{'max_depth': 5, 'min_samples_leaf': 10, 'min_samples_split': 25}\n",
      "0.9745351568721133\n"
     ]
    }
   ],
   "source": [
    "print(cv.best_params_)\n",
    "\n",
    "print(cv.best_score_)"
   ]
  },
  {
   "cell_type": "code",
   "execution_count": 22,
   "metadata": {},
   "outputs": [
    {
     "data": {
      "image/svg+xml": [
       "<?xml version=\"1.0\" encoding=\"UTF-8\" standalone=\"no\"?>\r\n",
       "<!DOCTYPE svg PUBLIC \"-//W3C//DTD SVG 1.1//EN\"\r\n",
       " \"http://www.w3.org/Graphics/SVG/1.1/DTD/svg11.dtd\">\r\n",
       "<!-- Generated by graphviz version 2.38.0 (20140413.2041)\r\n",
       " -->\r\n",
       "<!-- Title: Tree Pages: 1 -->\r\n",
       "<svg width=\"917pt\" height=\"671pt\"\r\n",
       " viewBox=\"0.00 0.00 917.00 671.00\" xmlns=\"http://www.w3.org/2000/svg\" xmlns:xlink=\"http://www.w3.org/1999/xlink\">\r\n",
       "<g id=\"graph0\" class=\"graph\" transform=\"scale(1 1) rotate(0) translate(4 667)\">\r\n",
       "<title>Tree</title>\r\n",
       "<polygon fill=\"white\" stroke=\"none\" points=\"-4,4 -4,-667 913,-667 913,4 -4,4\"/>\r\n",
       "<!-- 0 -->\r\n",
       "<g id=\"node1\" class=\"node\"><title>0</title>\r\n",
       "<path fill=\"#f3c3a1\" stroke=\"black\" d=\"M375,-663C375,-663 266,-663 266,-663 260,-663 254,-657 254,-651 254,-651 254,-592 254,-592 254,-586 260,-580 266,-580 266,-580 375,-580 375,-580 381,-580 387,-586 387,-592 387,-592 387,-651 387,-651 387,-657 381,-663 375,-663\"/>\r\n",
       "<text text-anchor=\"start\" x=\"262\" y=\"-647.8\" font-family=\"Helvetica,sans-Serif\" font-size=\"14.00\">UniCell_Size ≤ 2.5</text>\r\n",
       "<text text-anchor=\"start\" x=\"283\" y=\"-632.8\" font-family=\"Helvetica,sans-Serif\" font-size=\"14.00\">gini = 0.452</text>\r\n",
       "<text text-anchor=\"start\" x=\"273\" y=\"-617.8\" font-family=\"Helvetica,sans-Serif\" font-size=\"14.00\">samples = 699</text>\r\n",
       "<text text-anchor=\"start\" x=\"263.5\" y=\"-602.8\" font-family=\"Helvetica,sans-Serif\" font-size=\"14.00\">value = [458, 241]</text>\r\n",
       "<text text-anchor=\"start\" x=\"273.5\" y=\"-587.8\" font-family=\"Helvetica,sans-Serif\" font-size=\"14.00\">class = Benign</text>\r\n",
       "</g>\r\n",
       "<!-- 1 -->\r\n",
       "<g id=\"node2\" class=\"node\"><title>1</title>\r\n",
       "<path fill=\"#e6853f\" stroke=\"black\" d=\"M294.5,-544C294.5,-544 192.5,-544 192.5,-544 186.5,-544 180.5,-538 180.5,-532 180.5,-532 180.5,-473 180.5,-473 180.5,-467 186.5,-461 192.5,-461 192.5,-461 294.5,-461 294.5,-461 300.5,-461 306.5,-467 306.5,-473 306.5,-473 306.5,-532 306.5,-532 306.5,-538 300.5,-544 294.5,-544\"/>\r\n",
       "<text text-anchor=\"start\" x=\"188.5\" y=\"-528.8\" font-family=\"Helvetica,sans-Serif\" font-size=\"14.00\">BChromatin ≤ 4.5</text>\r\n",
       "<text text-anchor=\"start\" x=\"206\" y=\"-513.8\" font-family=\"Helvetica,sans-Serif\" font-size=\"14.00\">gini = 0.054</text>\r\n",
       "<text text-anchor=\"start\" x=\"196\" y=\"-498.8\" font-family=\"Helvetica,sans-Serif\" font-size=\"14.00\">samples = 429</text>\r\n",
       "<text text-anchor=\"start\" x=\"190.5\" y=\"-483.8\" font-family=\"Helvetica,sans-Serif\" font-size=\"14.00\">value = [417, 12]</text>\r\n",
       "<text text-anchor=\"start\" x=\"196.5\" y=\"-468.8\" font-family=\"Helvetica,sans-Serif\" font-size=\"14.00\">class = Benign</text>\r\n",
       "</g>\r\n",
       "<!-- 0&#45;&gt;1 -->\r\n",
       "<g id=\"edge1\" class=\"edge\"><title>0&#45;&gt;1</title>\r\n",
       "<path fill=\"none\" stroke=\"black\" d=\"M293.785,-579.907C287.992,-571.105 281.805,-561.703 275.822,-552.612\"/>\r\n",
       "<polygon fill=\"black\" stroke=\"black\" points=\"278.589,-550.45 270.168,-544.021 272.741,-554.298 278.589,-550.45\"/>\r\n",
       "<text text-anchor=\"middle\" x=\"265.119\" y=\"-564.806\" font-family=\"Helvetica,sans-Serif\" font-size=\"14.00\">True</text>\r\n",
       "</g>\r\n",
       "<!-- 8 -->\r\n",
       "<g id=\"node9\" class=\"node\"><title>8</title>\r\n",
       "<path fill=\"#5cafea\" stroke=\"black\" d=\"M458.5,-544C458.5,-544 336.5,-544 336.5,-544 330.5,-544 324.5,-538 324.5,-532 324.5,-532 324.5,-473 324.5,-473 324.5,-467 330.5,-461 336.5,-461 336.5,-461 458.5,-461 458.5,-461 464.5,-461 470.5,-467 470.5,-473 470.5,-473 470.5,-532 470.5,-532 470.5,-538 464.5,-544 458.5,-544\"/>\r\n",
       "<text text-anchor=\"start\" x=\"332.5\" y=\"-528.8\" font-family=\"Helvetica,sans-Serif\" font-size=\"14.00\">Uni_CellShape ≤ 2.5</text>\r\n",
       "<text text-anchor=\"start\" x=\"360\" y=\"-513.8\" font-family=\"Helvetica,sans-Serif\" font-size=\"14.00\">gini = 0.258</text>\r\n",
       "<text text-anchor=\"start\" x=\"350\" y=\"-498.8\" font-family=\"Helvetica,sans-Serif\" font-size=\"14.00\">samples = 270</text>\r\n",
       "<text text-anchor=\"start\" x=\"344.5\" y=\"-483.8\" font-family=\"Helvetica,sans-Serif\" font-size=\"14.00\">value = [41, 229]</text>\r\n",
       "<text text-anchor=\"start\" x=\"343\" y=\"-468.8\" font-family=\"Helvetica,sans-Serif\" font-size=\"14.00\">class = Malignant</text>\r\n",
       "</g>\r\n",
       "<!-- 0&#45;&gt;8 -->\r\n",
       "<g id=\"edge8\" class=\"edge\"><title>0&#45;&gt;8</title>\r\n",
       "<path fill=\"none\" stroke=\"black\" d=\"M347.215,-579.907C353.008,-571.105 359.195,-561.703 365.178,-552.612\"/>\r\n",
       "<polygon fill=\"black\" stroke=\"black\" points=\"368.259,-554.298 370.832,-544.021 362.411,-550.45 368.259,-554.298\"/>\r\n",
       "<text text-anchor=\"middle\" x=\"375.881\" y=\"-564.806\" font-family=\"Helvetica,sans-Serif\" font-size=\"14.00\">False</text>\r\n",
       "</g>\r\n",
       "<!-- 2 -->\r\n",
       "<g id=\"node3\" class=\"node\"><title>2</title>\r\n",
       "<path fill=\"#e5823b\" stroke=\"black\" d=\"M156,-425C156,-425 67,-425 67,-425 61,-425 55,-419 55,-413 55,-413 55,-354 55,-354 55,-348 61,-342 67,-342 67,-342 156,-342 156,-342 162,-342 168,-348 168,-354 168,-354 168,-413 168,-413 168,-419 162,-425 156,-425\"/>\r\n",
       "<text text-anchor=\"start\" x=\"73.5\" y=\"-409.8\" font-family=\"Helvetica,sans-Serif\" font-size=\"14.00\">BareN ≤ 4.5</text>\r\n",
       "<text text-anchor=\"start\" x=\"74\" y=\"-394.8\" font-family=\"Helvetica,sans-Serif\" font-size=\"14.00\">gini = 0.019</text>\r\n",
       "<text text-anchor=\"start\" x=\"64\" y=\"-379.8\" font-family=\"Helvetica,sans-Serif\" font-size=\"14.00\">samples = 415</text>\r\n",
       "<text text-anchor=\"start\" x=\"63\" y=\"-364.8\" font-family=\"Helvetica,sans-Serif\" font-size=\"14.00\">value = [411, 4]</text>\r\n",
       "<text text-anchor=\"start\" x=\"64.5\" y=\"-349.8\" font-family=\"Helvetica,sans-Serif\" font-size=\"14.00\">class = Benign</text>\r\n",
       "</g>\r\n",
       "<!-- 1&#45;&gt;2 -->\r\n",
       "<g id=\"edge2\" class=\"edge\"><title>1&#45;&gt;2</title>\r\n",
       "<path fill=\"none\" stroke=\"black\" d=\"M197.703,-460.907C187.158,-451.56 175.85,-441.538 165.009,-431.929\"/>\r\n",
       "<polygon fill=\"black\" stroke=\"black\" points=\"167.021,-429.035 157.216,-425.021 162.378,-434.273 167.021,-429.035\"/>\r\n",
       "</g>\r\n",
       "<!-- 7 -->\r\n",
       "<g id=\"node8\" class=\"node\"><title>7</title>\r\n",
       "<path fill=\"#cee6f8\" stroke=\"black\" d=\"M299,-417.5C299,-417.5 198,-417.5 198,-417.5 192,-417.5 186,-411.5 186,-405.5 186,-405.5 186,-361.5 186,-361.5 186,-355.5 192,-349.5 198,-349.5 198,-349.5 299,-349.5 299,-349.5 305,-349.5 311,-355.5 311,-361.5 311,-361.5 311,-405.5 311,-405.5 311,-411.5 305,-417.5 299,-417.5\"/>\r\n",
       "<text text-anchor=\"start\" x=\"215\" y=\"-402.3\" font-family=\"Helvetica,sans-Serif\" font-size=\"14.00\">gini = 0.49</text>\r\n",
       "<text text-anchor=\"start\" x=\"205\" y=\"-387.3\" font-family=\"Helvetica,sans-Serif\" font-size=\"14.00\">samples = 14</text>\r\n",
       "<text text-anchor=\"start\" x=\"208\" y=\"-372.3\" font-family=\"Helvetica,sans-Serif\" font-size=\"14.00\">value = [6, 8]</text>\r\n",
       "<text text-anchor=\"start\" x=\"194\" y=\"-357.3\" font-family=\"Helvetica,sans-Serif\" font-size=\"14.00\">class = Malignant</text>\r\n",
       "</g>\r\n",
       "<!-- 1&#45;&gt;7 -->\r\n",
       "<g id=\"edge7\" class=\"edge\"><title>1&#45;&gt;7</title>\r\n",
       "<path fill=\"none\" stroke=\"black\" d=\"M245.235,-460.907C245.692,-450.204 246.187,-438.615 246.651,-427.776\"/>\r\n",
       "<polygon fill=\"black\" stroke=\"black\" points=\"250.152,-427.807 247.083,-417.667 243.159,-427.508 250.152,-427.807\"/>\r\n",
       "</g>\r\n",
       "<!-- 3 -->\r\n",
       "<g id=\"node4\" class=\"node\"><title>3</title>\r\n",
       "<path fill=\"#e58139\" stroke=\"black\" d=\"M124,-306C124,-306 35,-306 35,-306 29,-306 23,-300 23,-294 23,-294 23,-235 23,-235 23,-229 29,-223 35,-223 35,-223 124,-223 124,-223 130,-223 136,-229 136,-235 136,-235 136,-294 136,-294 136,-300 130,-306 124,-306\"/>\r\n",
       "<text text-anchor=\"start\" x=\"41\" y=\"-290.8\" font-family=\"Helvetica,sans-Serif\" font-size=\"14.00\">Clump ≤ 5.5</text>\r\n",
       "<text text-anchor=\"start\" x=\"42\" y=\"-275.8\" font-family=\"Helvetica,sans-Serif\" font-size=\"14.00\">gini = 0.005</text>\r\n",
       "<text text-anchor=\"start\" x=\"32\" y=\"-260.8\" font-family=\"Helvetica,sans-Serif\" font-size=\"14.00\">samples = 405</text>\r\n",
       "<text text-anchor=\"start\" x=\"31\" y=\"-245.8\" font-family=\"Helvetica,sans-Serif\" font-size=\"14.00\">value = [404, 1]</text>\r\n",
       "<text text-anchor=\"start\" x=\"32.5\" y=\"-230.8\" font-family=\"Helvetica,sans-Serif\" font-size=\"14.00\">class = Benign</text>\r\n",
       "</g>\r\n",
       "<!-- 2&#45;&gt;3 -->\r\n",
       "<g id=\"edge3\" class=\"edge\"><title>2&#45;&gt;3</title>\r\n",
       "<path fill=\"none\" stroke=\"black\" d=\"M100.398,-341.907C98.0894,-333.468 95.6306,-324.477 93.2404,-315.738\"/>\r\n",
       "<polygon fill=\"black\" stroke=\"black\" points=\"96.5968,-314.743 90.5826,-306.021 89.8448,-316.59 96.5968,-314.743\"/>\r\n",
       "</g>\r\n",
       "<!-- 6 -->\r\n",
       "<g id=\"node7\" class=\"node\"><title>6</title>\r\n",
       "<path fill=\"#f0b78e\" stroke=\"black\" d=\"M252.5,-298.5C252.5,-298.5 166.5,-298.5 166.5,-298.5 160.5,-298.5 154.5,-292.5 154.5,-286.5 154.5,-286.5 154.5,-242.5 154.5,-242.5 154.5,-236.5 160.5,-230.5 166.5,-230.5 166.5,-230.5 252.5,-230.5 252.5,-230.5 258.5,-230.5 264.5,-236.5 264.5,-242.5 264.5,-242.5 264.5,-286.5 264.5,-286.5 264.5,-292.5 258.5,-298.5 252.5,-298.5\"/>\r\n",
       "<text text-anchor=\"start\" x=\"176\" y=\"-283.3\" font-family=\"Helvetica,sans-Serif\" font-size=\"14.00\">gini = 0.42</text>\r\n",
       "<text text-anchor=\"start\" x=\"166\" y=\"-268.3\" font-family=\"Helvetica,sans-Serif\" font-size=\"14.00\">samples = 10</text>\r\n",
       "<text text-anchor=\"start\" x=\"169\" y=\"-253.3\" font-family=\"Helvetica,sans-Serif\" font-size=\"14.00\">value = [7, 3]</text>\r\n",
       "<text text-anchor=\"start\" x=\"162.5\" y=\"-238.3\" font-family=\"Helvetica,sans-Serif\" font-size=\"14.00\">class = Benign</text>\r\n",
       "</g>\r\n",
       "<!-- 2&#45;&gt;6 -->\r\n",
       "<g id=\"edge6\" class=\"edge\"><title>2&#45;&gt;6</title>\r\n",
       "<path fill=\"none\" stroke=\"black\" d=\"M145.501,-341.907C155.113,-330.432 165.577,-317.938 175.207,-306.442\"/>\r\n",
       "<polygon fill=\"black\" stroke=\"black\" points=\"177.981,-308.58 181.719,-298.667 172.615,-304.086 177.981,-308.58\"/>\r\n",
       "</g>\r\n",
       "<!-- 4 -->\r\n",
       "<g id=\"node5\" class=\"node\"><title>4</title>\r\n",
       "<path fill=\"#e58139\" stroke=\"black\" d=\"M101,-179.5C101,-179.5 12,-179.5 12,-179.5 6,-179.5 0,-173.5 0,-167.5 0,-167.5 0,-123.5 0,-123.5 0,-117.5 6,-111.5 12,-111.5 12,-111.5 101,-111.5 101,-111.5 107,-111.5 113,-117.5 113,-123.5 113,-123.5 113,-167.5 113,-167.5 113,-173.5 107,-179.5 101,-179.5\"/>\r\n",
       "<text text-anchor=\"start\" x=\"27.5\" y=\"-164.3\" font-family=\"Helvetica,sans-Serif\" font-size=\"14.00\">gini = 0.0</text>\r\n",
       "<text text-anchor=\"start\" x=\"9\" y=\"-149.3\" font-family=\"Helvetica,sans-Serif\" font-size=\"14.00\">samples = 392</text>\r\n",
       "<text text-anchor=\"start\" x=\"8\" y=\"-134.3\" font-family=\"Helvetica,sans-Serif\" font-size=\"14.00\">value = [392, 0]</text>\r\n",
       "<text text-anchor=\"start\" x=\"9.5\" y=\"-119.3\" font-family=\"Helvetica,sans-Serif\" font-size=\"14.00\">class = Benign</text>\r\n",
       "</g>\r\n",
       "<!-- 3&#45;&gt;4 -->\r\n",
       "<g id=\"edge4\" class=\"edge\"><title>3&#45;&gt;4</title>\r\n",
       "<path fill=\"none\" stroke=\"black\" d=\"M71.5203,-222.907C69.4162,-212.204 67.1381,-200.615 65.0073,-189.776\"/>\r\n",
       "<polygon fill=\"black\" stroke=\"black\" points=\"68.3832,-188.804 63.02,-179.667 61.5147,-190.154 68.3832,-188.804\"/>\r\n",
       "</g>\r\n",
       "<!-- 5 -->\r\n",
       "<g id=\"node6\" class=\"node\"><title>5</title>\r\n",
       "<path fill=\"#e78c49\" stroke=\"black\" d=\"M229.5,-179.5C229.5,-179.5 143.5,-179.5 143.5,-179.5 137.5,-179.5 131.5,-173.5 131.5,-167.5 131.5,-167.5 131.5,-123.5 131.5,-123.5 131.5,-117.5 137.5,-111.5 143.5,-111.5 143.5,-111.5 229.5,-111.5 229.5,-111.5 235.5,-111.5 241.5,-117.5 241.5,-123.5 241.5,-123.5 241.5,-167.5 241.5,-167.5 241.5,-173.5 235.5,-179.5 229.5,-179.5\"/>\r\n",
       "<text text-anchor=\"start\" x=\"149\" y=\"-164.3\" font-family=\"Helvetica,sans-Serif\" font-size=\"14.00\">gini = 0.142</text>\r\n",
       "<text text-anchor=\"start\" x=\"143\" y=\"-149.3\" font-family=\"Helvetica,sans-Serif\" font-size=\"14.00\">samples = 13</text>\r\n",
       "<text text-anchor=\"start\" x=\"142\" y=\"-134.3\" font-family=\"Helvetica,sans-Serif\" font-size=\"14.00\">value = [12, 1]</text>\r\n",
       "<text text-anchor=\"start\" x=\"139.5\" y=\"-119.3\" font-family=\"Helvetica,sans-Serif\" font-size=\"14.00\">class = Benign</text>\r\n",
       "</g>\r\n",
       "<!-- 3&#45;&gt;5 -->\r\n",
       "<g id=\"edge5\" class=\"edge\"><title>3&#45;&gt;5</title>\r\n",
       "<path fill=\"none\" stroke=\"black\" d=\"M116.623,-222.907C127.219,-211.321 138.764,-198.698 149.36,-187.111\"/>\r\n",
       "<polygon fill=\"black\" stroke=\"black\" points=\"152.002,-189.408 156.168,-179.667 146.836,-184.684 152.002,-189.408\"/>\r\n",
       "</g>\r\n",
       "<!-- 9 -->\r\n",
       "<g id=\"node10\" class=\"node\"><title>9</title>\r\n",
       "<path fill=\"#eca470\" stroke=\"black\" d=\"M436.5,-417.5C436.5,-417.5 350.5,-417.5 350.5,-417.5 344.5,-417.5 338.5,-411.5 338.5,-405.5 338.5,-405.5 338.5,-361.5 338.5,-361.5 338.5,-355.5 344.5,-349.5 350.5,-349.5 350.5,-349.5 436.5,-349.5 436.5,-349.5 442.5,-349.5 448.5,-355.5 448.5,-361.5 448.5,-361.5 448.5,-405.5 448.5,-405.5 448.5,-411.5 442.5,-417.5 436.5,-417.5\"/>\r\n",
       "<text text-anchor=\"start\" x=\"360\" y=\"-402.3\" font-family=\"Helvetica,sans-Serif\" font-size=\"14.00\">gini = 0.34</text>\r\n",
       "<text text-anchor=\"start\" x=\"350\" y=\"-387.3\" font-family=\"Helvetica,sans-Serif\" font-size=\"14.00\">samples = 23</text>\r\n",
       "<text text-anchor=\"start\" x=\"349\" y=\"-372.3\" font-family=\"Helvetica,sans-Serif\" font-size=\"14.00\">value = [18, 5]</text>\r\n",
       "<text text-anchor=\"start\" x=\"346.5\" y=\"-357.3\" font-family=\"Helvetica,sans-Serif\" font-size=\"14.00\">class = Benign</text>\r\n",
       "</g>\r\n",
       "<!-- 8&#45;&gt;9 -->\r\n",
       "<g id=\"edge9\" class=\"edge\"><title>8&#45;&gt;9</title>\r\n",
       "<path fill=\"none\" stroke=\"black\" d=\"M396.112,-460.907C395.746,-450.204 395.35,-438.615 394.98,-427.776\"/>\r\n",
       "<polygon fill=\"black\" stroke=\"black\" points=\"398.474,-427.541 394.634,-417.667 391.478,-427.781 398.474,-427.541\"/>\r\n",
       "</g>\r\n",
       "<!-- 10 -->\r\n",
       "<g id=\"node11\" class=\"node\"><title>10</title>\r\n",
       "<path fill=\"#4da7e8\" stroke=\"black\" d=\"M588,-425C588,-425 479,-425 479,-425 473,-425 467,-419 467,-413 467,-413 467,-354 467,-354 467,-348 473,-342 479,-342 479,-342 588,-342 588,-342 594,-342 600,-348 600,-354 600,-354 600,-413 600,-413 600,-419 594,-425 588,-425\"/>\r\n",
       "<text text-anchor=\"start\" x=\"475\" y=\"-409.8\" font-family=\"Helvetica,sans-Serif\" font-size=\"14.00\">UniCell_Size ≤ 4.5</text>\r\n",
       "<text text-anchor=\"start\" x=\"496\" y=\"-394.8\" font-family=\"Helvetica,sans-Serif\" font-size=\"14.00\">gini = 0.169</text>\r\n",
       "<text text-anchor=\"start\" x=\"486\" y=\"-379.8\" font-family=\"Helvetica,sans-Serif\" font-size=\"14.00\">samples = 247</text>\r\n",
       "<text text-anchor=\"start\" x=\"480.5\" y=\"-364.8\" font-family=\"Helvetica,sans-Serif\" font-size=\"14.00\">value = [23, 224]</text>\r\n",
       "<text text-anchor=\"start\" x=\"479\" y=\"-349.8\" font-family=\"Helvetica,sans-Serif\" font-size=\"14.00\">class = Malignant</text>\r\n",
       "</g>\r\n",
       "<!-- 8&#45;&gt;10 -->\r\n",
       "<g id=\"edge10\" class=\"edge\"><title>8&#45;&gt;10</title>\r\n",
       "<path fill=\"none\" stroke=\"black\" d=\"M444.685,-460.907C455.655,-451.469 467.426,-441.343 478.694,-431.649\"/>\r\n",
       "<polygon fill=\"black\" stroke=\"black\" points=\"481.101,-434.196 486.399,-425.021 476.536,-428.889 481.101,-434.196\"/>\r\n",
       "</g>\r\n",
       "<!-- 11 -->\r\n",
       "<g id=\"node12\" class=\"node\"><title>11</title>\r\n",
       "<path fill=\"#7ebfee\" stroke=\"black\" d=\"M504,-306C504,-306 403,-306 403,-306 397,-306 391,-300 391,-294 391,-294 391,-235 391,-235 391,-229 397,-223 403,-223 403,-223 504,-223 504,-223 510,-223 516,-229 516,-235 516,-235 516,-294 516,-294 516,-300 510,-306 504,-306\"/>\r\n",
       "<text text-anchor=\"start\" x=\"415.5\" y=\"-290.8\" font-family=\"Helvetica,sans-Serif\" font-size=\"14.00\">BareN ≤ 2.5</text>\r\n",
       "<text text-anchor=\"start\" x=\"416\" y=\"-275.8\" font-family=\"Helvetica,sans-Serif\" font-size=\"14.00\">gini = 0.382</text>\r\n",
       "<text text-anchor=\"start\" x=\"410\" y=\"-260.8\" font-family=\"Helvetica,sans-Serif\" font-size=\"14.00\">samples = 70</text>\r\n",
       "<text text-anchor=\"start\" x=\"405\" y=\"-245.8\" font-family=\"Helvetica,sans-Serif\" font-size=\"14.00\">value = [18, 52]</text>\r\n",
       "<text text-anchor=\"start\" x=\"399\" y=\"-230.8\" font-family=\"Helvetica,sans-Serif\" font-size=\"14.00\">class = Malignant</text>\r\n",
       "</g>\r\n",
       "<!-- 10&#45;&gt;11 -->\r\n",
       "<g id=\"edge11\" class=\"edge\"><title>10&#45;&gt;11</title>\r\n",
       "<path fill=\"none\" stroke=\"black\" d=\"M505.744,-341.907C499.663,-333.014 493.164,-323.509 486.889,-314.331\"/>\r\n",
       "<polygon fill=\"black\" stroke=\"black\" points=\"489.74,-312.3 481.207,-306.021 483.962,-316.251 489.74,-312.3\"/>\r\n",
       "</g>\r\n",
       "<!-- 16 -->\r\n",
       "<g id=\"node17\" class=\"node\"><title>16</title>\r\n",
       "<path fill=\"#3fa0e6\" stroke=\"black\" d=\"M647,-306C647,-306 546,-306 546,-306 540,-306 534,-300 534,-294 534,-294 534,-235 534,-235 534,-229 540,-223 546,-223 546,-223 647,-223 647,-223 653,-223 659,-229 659,-235 659,-235 659,-294 659,-294 659,-300 653,-306 647,-306\"/>\r\n",
       "<text text-anchor=\"start\" x=\"550\" y=\"-290.8\" font-family=\"Helvetica,sans-Serif\" font-size=\"14.00\">MargAdh ≤ 1.5</text>\r\n",
       "<text text-anchor=\"start\" x=\"559\" y=\"-275.8\" font-family=\"Helvetica,sans-Serif\" font-size=\"14.00\">gini = 0.055</text>\r\n",
       "<text text-anchor=\"start\" x=\"549\" y=\"-260.8\" font-family=\"Helvetica,sans-Serif\" font-size=\"14.00\">samples = 177</text>\r\n",
       "<text text-anchor=\"start\" x=\"548\" y=\"-245.8\" font-family=\"Helvetica,sans-Serif\" font-size=\"14.00\">value = [5, 172]</text>\r\n",
       "<text text-anchor=\"start\" x=\"542\" y=\"-230.8\" font-family=\"Helvetica,sans-Serif\" font-size=\"14.00\">class = Malignant</text>\r\n",
       "</g>\r\n",
       "<!-- 10&#45;&gt;16 -->\r\n",
       "<g id=\"edge16\" class=\"edge\"><title>10&#45;&gt;16</title>\r\n",
       "<path fill=\"none\" stroke=\"black\" d=\"M555.358,-341.907C560.049,-333.195 565.056,-323.897 569.904,-314.893\"/>\r\n",
       "<polygon fill=\"black\" stroke=\"black\" points=\"573.022,-316.485 574.681,-306.021 566.858,-313.166 573.022,-316.485\"/>\r\n",
       "</g>\r\n",
       "<!-- 12 -->\r\n",
       "<g id=\"node13\" class=\"node\"><title>12</title>\r\n",
       "<path fill=\"#eeaf81\" stroke=\"black\" d=\"M360.5,-179.5C360.5,-179.5 274.5,-179.5 274.5,-179.5 268.5,-179.5 262.5,-173.5 262.5,-167.5 262.5,-167.5 262.5,-123.5 262.5,-123.5 262.5,-117.5 268.5,-111.5 274.5,-111.5 274.5,-111.5 360.5,-111.5 360.5,-111.5 366.5,-111.5 372.5,-117.5 372.5,-123.5 372.5,-123.5 372.5,-167.5 372.5,-167.5 372.5,-173.5 366.5,-179.5 360.5,-179.5\"/>\r\n",
       "<text text-anchor=\"start\" x=\"280\" y=\"-164.3\" font-family=\"Helvetica,sans-Serif\" font-size=\"14.00\">gini = 0.391</text>\r\n",
       "<text text-anchor=\"start\" x=\"274\" y=\"-149.3\" font-family=\"Helvetica,sans-Serif\" font-size=\"14.00\">samples = 15</text>\r\n",
       "<text text-anchor=\"start\" x=\"273\" y=\"-134.3\" font-family=\"Helvetica,sans-Serif\" font-size=\"14.00\">value = [11, 4]</text>\r\n",
       "<text text-anchor=\"start\" x=\"270.5\" y=\"-119.3\" font-family=\"Helvetica,sans-Serif\" font-size=\"14.00\">class = Benign</text>\r\n",
       "</g>\r\n",
       "<!-- 11&#45;&gt;12 -->\r\n",
       "<g id=\"edge12\" class=\"edge\"><title>11&#45;&gt;12</title>\r\n",
       "<path fill=\"none\" stroke=\"black\" d=\"M406.315,-222.907C392.591,-211.101 377.615,-198.217 363.937,-186.45\"/>\r\n",
       "<polygon fill=\"black\" stroke=\"black\" points=\"365.916,-183.535 356.053,-179.667 361.351,-188.842 365.916,-183.535\"/>\r\n",
       "</g>\r\n",
       "<!-- 13 -->\r\n",
       "<g id=\"node14\" class=\"node\"><title>13</title>\r\n",
       "<path fill=\"#56abe9\" stroke=\"black\" d=\"M504,-187C504,-187 403,-187 403,-187 397,-187 391,-181 391,-175 391,-175 391,-116 391,-116 391,-110 397,-104 403,-104 403,-104 504,-104 504,-104 510,-104 516,-110 516,-116 516,-116 516,-175 516,-175 516,-181 510,-187 504,-187\"/>\r\n",
       "<text text-anchor=\"start\" x=\"415\" y=\"-171.8\" font-family=\"Helvetica,sans-Serif\" font-size=\"14.00\">Clump ≤ 6.5</text>\r\n",
       "<text text-anchor=\"start\" x=\"416\" y=\"-156.8\" font-family=\"Helvetica,sans-Serif\" font-size=\"14.00\">gini = 0.222</text>\r\n",
       "<text text-anchor=\"start\" x=\"410\" y=\"-141.8\" font-family=\"Helvetica,sans-Serif\" font-size=\"14.00\">samples = 55</text>\r\n",
       "<text text-anchor=\"start\" x=\"409\" y=\"-126.8\" font-family=\"Helvetica,sans-Serif\" font-size=\"14.00\">value = [7, 48]</text>\r\n",
       "<text text-anchor=\"start\" x=\"399\" y=\"-111.8\" font-family=\"Helvetica,sans-Serif\" font-size=\"14.00\">class = Malignant</text>\r\n",
       "</g>\r\n",
       "<!-- 11&#45;&gt;13 -->\r\n",
       "<g id=\"edge13\" class=\"edge\"><title>11&#45;&gt;13</title>\r\n",
       "<path fill=\"none\" stroke=\"black\" d=\"M453.5,-222.907C453.5,-214.649 453.5,-205.864 453.5,-197.302\"/>\r\n",
       "<polygon fill=\"black\" stroke=\"black\" points=\"457,-197.021 453.5,-187.021 450,-197.021 457,-197.021\"/>\r\n",
       "</g>\r\n",
       "<!-- 14 -->\r\n",
       "<g id=\"node15\" class=\"node\"><title>14</title>\r\n",
       "<path fill=\"#7fc0ee\" stroke=\"black\" d=\"M432,-68C432,-68 331,-68 331,-68 325,-68 319,-62 319,-56 319,-56 319,-12 319,-12 319,-6 325,-0 331,-0 331,-0 432,-0 432,-0 438,-0 444,-6 444,-12 444,-12 444,-56 444,-56 444,-62 438,-68 432,-68\"/>\r\n",
       "<text text-anchor=\"start\" x=\"344\" y=\"-52.8\" font-family=\"Helvetica,sans-Serif\" font-size=\"14.00\">gini = 0.386</text>\r\n",
       "<text text-anchor=\"start\" x=\"338\" y=\"-37.8\" font-family=\"Helvetica,sans-Serif\" font-size=\"14.00\">samples = 23</text>\r\n",
       "<text text-anchor=\"start\" x=\"337\" y=\"-22.8\" font-family=\"Helvetica,sans-Serif\" font-size=\"14.00\">value = [6, 17]</text>\r\n",
       "<text text-anchor=\"start\" x=\"327\" y=\"-7.8\" font-family=\"Helvetica,sans-Serif\" font-size=\"14.00\">class = Malignant</text>\r\n",
       "</g>\r\n",
       "<!-- 13&#45;&gt;14 -->\r\n",
       "<g id=\"edge14\" class=\"edge\"><title>13&#45;&gt;14</title>\r\n",
       "<path fill=\"none\" stroke=\"black\" d=\"M426.69,-103.726C420.932,-94.9703 414.839,-85.7032 409.054,-76.9051\"/>\r\n",
       "<polygon fill=\"black\" stroke=\"black\" points=\"411.814,-74.7322 403.396,-68.2996 405.965,-78.5781 411.814,-74.7322\"/>\r\n",
       "</g>\r\n",
       "<!-- 15 -->\r\n",
       "<g id=\"node16\" class=\"node\"><title>15</title>\r\n",
       "<path fill=\"#3fa0e6\" stroke=\"black\" d=\"M575,-68C575,-68 474,-68 474,-68 468,-68 462,-62 462,-56 462,-56 462,-12 462,-12 462,-6 468,-0 474,-0 474,-0 575,-0 575,-0 581,-0 587,-6 587,-12 587,-12 587,-56 587,-56 587,-62 581,-68 575,-68\"/>\r\n",
       "<text text-anchor=\"start\" x=\"487\" y=\"-52.8\" font-family=\"Helvetica,sans-Serif\" font-size=\"14.00\">gini = 0.061</text>\r\n",
       "<text text-anchor=\"start\" x=\"481\" y=\"-37.8\" font-family=\"Helvetica,sans-Serif\" font-size=\"14.00\">samples = 32</text>\r\n",
       "<text text-anchor=\"start\" x=\"480\" y=\"-22.8\" font-family=\"Helvetica,sans-Serif\" font-size=\"14.00\">value = [1, 31]</text>\r\n",
       "<text text-anchor=\"start\" x=\"470\" y=\"-7.8\" font-family=\"Helvetica,sans-Serif\" font-size=\"14.00\">class = Malignant</text>\r\n",
       "</g>\r\n",
       "<!-- 13&#45;&gt;15 -->\r\n",
       "<g id=\"edge15\" class=\"edge\"><title>13&#45;&gt;15</title>\r\n",
       "<path fill=\"none\" stroke=\"black\" d=\"M479.938,-103.726C485.615,-94.9703 491.624,-85.7032 497.329,-76.9051\"/>\r\n",
       "<polygon fill=\"black\" stroke=\"black\" points=\"500.405,-78.5943 502.908,-68.2996 494.531,-74.786 500.405,-78.5943\"/>\r\n",
       "</g>\r\n",
       "<!-- 17 -->\r\n",
       "<g id=\"node18\" class=\"node\"><title>17</title>\r\n",
       "<path fill=\"#61b1ea\" stroke=\"black\" d=\"M647,-179.5C647,-179.5 546,-179.5 546,-179.5 540,-179.5 534,-173.5 534,-167.5 534,-167.5 534,-123.5 534,-123.5 534,-117.5 540,-111.5 546,-111.5 546,-111.5 647,-111.5 647,-111.5 653,-111.5 659,-117.5 659,-123.5 659,-123.5 659,-167.5 659,-167.5 659,-173.5 653,-179.5 647,-179.5\"/>\r\n",
       "<text text-anchor=\"start\" x=\"559\" y=\"-164.3\" font-family=\"Helvetica,sans-Serif\" font-size=\"14.00\">gini = 0.278</text>\r\n",
       "<text text-anchor=\"start\" x=\"553\" y=\"-149.3\" font-family=\"Helvetica,sans-Serif\" font-size=\"14.00\">samples = 12</text>\r\n",
       "<text text-anchor=\"start\" x=\"552\" y=\"-134.3\" font-family=\"Helvetica,sans-Serif\" font-size=\"14.00\">value = [2, 10]</text>\r\n",
       "<text text-anchor=\"start\" x=\"542\" y=\"-119.3\" font-family=\"Helvetica,sans-Serif\" font-size=\"14.00\">class = Malignant</text>\r\n",
       "</g>\r\n",
       "<!-- 16&#45;&gt;17 -->\r\n",
       "<g id=\"edge17\" class=\"edge\"><title>16&#45;&gt;17</title>\r\n",
       "<path fill=\"none\" stroke=\"black\" d=\"M596.5,-222.907C596.5,-212.204 596.5,-200.615 596.5,-189.776\"/>\r\n",
       "<polygon fill=\"black\" stroke=\"black\" points=\"600,-189.667 596.5,-179.667 593,-189.667 600,-189.667\"/>\r\n",
       "</g>\r\n",
       "<!-- 18 -->\r\n",
       "<g id=\"node19\" class=\"node\"><title>18</title>\r\n",
       "<path fill=\"#3d9fe5\" stroke=\"black\" d=\"M790,-187C790,-187 689,-187 689,-187 683,-187 677,-181 677,-175 677,-175 677,-116 677,-116 677,-110 683,-104 689,-104 689,-104 790,-104 790,-104 796,-104 802,-110 802,-116 802,-116 802,-175 802,-175 802,-181 796,-187 790,-187\"/>\r\n",
       "<text text-anchor=\"start\" x=\"701.5\" y=\"-171.8\" font-family=\"Helvetica,sans-Serif\" font-size=\"14.00\">BareN ≤ 8.5</text>\r\n",
       "<text text-anchor=\"start\" x=\"702\" y=\"-156.8\" font-family=\"Helvetica,sans-Serif\" font-size=\"14.00\">gini = 0.036</text>\r\n",
       "<text text-anchor=\"start\" x=\"692\" y=\"-141.8\" font-family=\"Helvetica,sans-Serif\" font-size=\"14.00\">samples = 165</text>\r\n",
       "<text text-anchor=\"start\" x=\"691\" y=\"-126.8\" font-family=\"Helvetica,sans-Serif\" font-size=\"14.00\">value = [3, 162]</text>\r\n",
       "<text text-anchor=\"start\" x=\"685\" y=\"-111.8\" font-family=\"Helvetica,sans-Serif\" font-size=\"14.00\">class = Malignant</text>\r\n",
       "</g>\r\n",
       "<!-- 16&#45;&gt;18 -->\r\n",
       "<g id=\"edge18\" class=\"edge\"><title>16&#45;&gt;18</title>\r\n",
       "<path fill=\"none\" stroke=\"black\" d=\"M646.113,-222.907C657.76,-213.379 670.263,-203.148 682.215,-193.37\"/>\r\n",
       "<polygon fill=\"black\" stroke=\"black\" points=\"684.451,-196.062 689.975,-187.021 680.019,-190.644 684.451,-196.062\"/>\r\n",
       "</g>\r\n",
       "<!-- 19 -->\r\n",
       "<g id=\"node20\" class=\"node\"><title>19</title>\r\n",
       "<path fill=\"#43a2e6\" stroke=\"black\" d=\"M754,-68C754,-68 653,-68 653,-68 647,-68 641,-62 641,-56 641,-56 641,-12 641,-12 641,-6 647,-0 653,-0 653,-0 754,-0 754,-0 760,-0 766,-6 766,-12 766,-12 766,-56 766,-56 766,-62 760,-68 754,-68\"/>\r\n",
       "<text text-anchor=\"start\" x=\"666\" y=\"-52.8\" font-family=\"Helvetica,sans-Serif\" font-size=\"14.00\">gini = 0.089</text>\r\n",
       "<text text-anchor=\"start\" x=\"660\" y=\"-37.8\" font-family=\"Helvetica,sans-Serif\" font-size=\"14.00\">samples = 64</text>\r\n",
       "<text text-anchor=\"start\" x=\"659\" y=\"-22.8\" font-family=\"Helvetica,sans-Serif\" font-size=\"14.00\">value = [3, 61]</text>\r\n",
       "<text text-anchor=\"start\" x=\"649\" y=\"-7.8\" font-family=\"Helvetica,sans-Serif\" font-size=\"14.00\">class = Malignant</text>\r\n",
       "</g>\r\n",
       "<!-- 18&#45;&gt;19 -->\r\n",
       "<g id=\"edge19\" class=\"edge\"><title>18&#45;&gt;19</title>\r\n",
       "<path fill=\"none\" stroke=\"black\" d=\"M726.095,-103.726C723.336,-95.3351 720.423,-86.4745 717.639,-78.0072\"/>\r\n",
       "<polygon fill=\"black\" stroke=\"black\" points=\"720.896,-76.7062 714.448,-68.2996 714.246,-78.8925 720.896,-76.7062\"/>\r\n",
       "</g>\r\n",
       "<!-- 20 -->\r\n",
       "<g id=\"node21\" class=\"node\"><title>20</title>\r\n",
       "<path fill=\"#399de5\" stroke=\"black\" d=\"M897,-68C897,-68 796,-68 796,-68 790,-68 784,-62 784,-56 784,-56 784,-12 784,-12 784,-6 790,-0 796,-0 796,-0 897,-0 897,-0 903,-0 909,-6 909,-12 909,-12 909,-56 909,-56 909,-62 903,-68 897,-68\"/>\r\n",
       "<text text-anchor=\"start\" x=\"817.5\" y=\"-52.8\" font-family=\"Helvetica,sans-Serif\" font-size=\"14.00\">gini = 0.0</text>\r\n",
       "<text text-anchor=\"start\" x=\"799\" y=\"-37.8\" font-family=\"Helvetica,sans-Serif\" font-size=\"14.00\">samples = 101</text>\r\n",
       "<text text-anchor=\"start\" x=\"798\" y=\"-22.8\" font-family=\"Helvetica,sans-Serif\" font-size=\"14.00\">value = [0, 101]</text>\r\n",
       "<text text-anchor=\"start\" x=\"792\" y=\"-7.8\" font-family=\"Helvetica,sans-Serif\" font-size=\"14.00\">class = Malignant</text>\r\n",
       "</g>\r\n",
       "<!-- 18&#45;&gt;20 -->\r\n",
       "<g id=\"edge20\" class=\"edge\"><title>18&#45;&gt;20</title>\r\n",
       "<path fill=\"none\" stroke=\"black\" d=\"M779.343,-103.726C788.345,-94.5142 797.899,-84.7364 806.891,-75.5343\"/>\r\n",
       "<polygon fill=\"black\" stroke=\"black\" points=\"809.475,-77.898 813.961,-68.2996 804.468,-73.0057 809.475,-77.898\"/>\r\n",
       "</g>\r\n",
       "</g>\r\n",
       "</svg>\r\n"
      ],
      "text/plain": [
       "<graphviz.files.Source at 0x28cec884a48>"
      ]
     },
     "execution_count": 22,
     "metadata": {},
     "output_type": "execute_result"
    }
   ],
   "source": [
    "best_model = cv.best_estimator_\n",
    "from sklearn import tree\n",
    "dot_data = tree.export_graphviz(best_model, out_file=None, \n",
    "                         feature_names=X_train.columns,  \n",
    "                         class_names=['Benign','Malignant'],  \n",
    "                         filled=True, rounded=True,  \n",
    "                         special_characters=True)  \n",
    "graph = graphviz.Source(dot_data)  \n",
    "graph "
   ]
  },
  {
   "cell_type": "markdown",
   "metadata": {},
   "source": [
    "OR"
   ]
  },
  {
   "cell_type": "code",
   "execution_count": 23,
   "metadata": {},
   "outputs": [
    {
     "data": {
      "text/plain": [
       "[Text(143.4857142857143, 199.32, 'UniCell_Size <= 2.5\\ngini = 0.452\\nsamples = 699\\nvalue = [458, 241]\\nclass = Benign'),\n",
       " Text(95.65714285714286, 163.07999999999998, 'BChromatin <= 4.5\\ngini = 0.054\\nsamples = 429\\nvalue = [417, 12]\\nclass = Benign'),\n",
       " Text(71.74285714285715, 126.83999999999999, 'BareN <= 4.5\\ngini = 0.019\\nsamples = 415\\nvalue = [411, 4]\\nclass = Benign'),\n",
       " Text(47.82857142857143, 90.6, 'Clump <= 5.5\\ngini = 0.005\\nsamples = 405\\nvalue = [404, 1]\\nclass = Benign'),\n",
       " Text(23.914285714285715, 54.359999999999985, 'gini = 0.0\\nsamples = 392\\nvalue = [392, 0]\\nclass = Benign'),\n",
       " Text(71.74285714285715, 54.359999999999985, 'gini = 0.142\\nsamples = 13\\nvalue = [12, 1]\\nclass = Benign'),\n",
       " Text(95.65714285714286, 90.6, 'gini = 0.42\\nsamples = 10\\nvalue = [7, 3]\\nclass = Benign'),\n",
       " Text(119.57142857142857, 126.83999999999999, 'gini = 0.49\\nsamples = 14\\nvalue = [6, 8]\\nclass = Malignant'),\n",
       " Text(191.31428571428572, 163.07999999999998, 'Uni_CellShape <= 2.5\\ngini = 0.258\\nsamples = 270\\nvalue = [41, 229]\\nclass = Malignant'),\n",
       " Text(167.4, 126.83999999999999, 'gini = 0.34\\nsamples = 23\\nvalue = [18, 5]\\nclass = Benign'),\n",
       " Text(215.22857142857143, 126.83999999999999, 'UniCell_Size <= 4.5\\ngini = 0.169\\nsamples = 247\\nvalue = [23, 224]\\nclass = Malignant'),\n",
       " Text(167.4, 90.6, 'BareN <= 2.5\\ngini = 0.382\\nsamples = 70\\nvalue = [18, 52]\\nclass = Malignant'),\n",
       " Text(143.4857142857143, 54.359999999999985, 'gini = 0.391\\nsamples = 15\\nvalue = [11, 4]\\nclass = Benign'),\n",
       " Text(191.31428571428572, 54.359999999999985, 'Clump <= 6.5\\ngini = 0.222\\nsamples = 55\\nvalue = [7, 48]\\nclass = Malignant'),\n",
       " Text(167.4, 18.119999999999976, 'gini = 0.386\\nsamples = 23\\nvalue = [6, 17]\\nclass = Malignant'),\n",
       " Text(215.22857142857143, 18.119999999999976, 'gini = 0.061\\nsamples = 32\\nvalue = [1, 31]\\nclass = Malignant'),\n",
       " Text(263.0571428571429, 90.6, 'MargAdh <= 1.5\\ngini = 0.055\\nsamples = 177\\nvalue = [5, 172]\\nclass = Malignant'),\n",
       " Text(239.14285714285714, 54.359999999999985, 'gini = 0.278\\nsamples = 12\\nvalue = [2, 10]\\nclass = Malignant'),\n",
       " Text(286.9714285714286, 54.359999999999985, 'BareN <= 8.5\\ngini = 0.036\\nsamples = 165\\nvalue = [3, 162]\\nclass = Malignant'),\n",
       " Text(263.0571428571429, 18.119999999999976, 'gini = 0.089\\nsamples = 64\\nvalue = [3, 61]\\nclass = Malignant'),\n",
       " Text(310.8857142857143, 18.119999999999976, 'gini = 0.0\\nsamples = 101\\nvalue = [0, 101]\\nclass = Malignant')]"
      ]
     },
     "execution_count": 23,
     "metadata": {},
     "output_type": "execute_result"
    },
    {
     "data": {
      "image/png": "[encoded data removed]",
      "text/plain": [
       "<Figure size 432x288 with 1 Axes>"
      ]
     },
     "metadata": {
      "needs_background": "light"
     },
     "output_type": "display_data"
    }
   ],
   "source": [
    "tree.plot_tree(best_model,feature_names=X.columns,\n",
    "               class_names=['Benign','Malignant'],\n",
    "               filled=True) "
   ]
  },
  {
   "cell_type": "markdown",
   "metadata": {},
   "source": [
    "Ploting"
   ]
  },
  {
   "cell_type": "code",
   "execution_count": 24,
   "metadata": {},
   "outputs": [
    {
     "data": {
      "image/png": "[encoded data removed]",
      "text/plain": [
       "<Figure size 432x288 with 1 Axes>"
      ]
     },
     "metadata": {
      "needs_background": "light"
     },
     "output_type": "display_data"
    }
   ],
   "source": [
    "import matplotlib.pyplot as plt\n",
    "\n",
    "best_model.feature_importances_\n",
    "\n",
    "ind = np.arange(9)\n",
    "plt.bar(ind,best_model.feature_importances_)\n",
    "plt.xticks(ind,(X.columns),rotation=45)\n",
    "plt.title('Feature Importance')\n",
    "plt.xlabel(\"Variables\")\n",
    "plt.show()"
   ]
  }
 ],
 "metadata": {
  "kernelspec": {
   "display_name": "Python 3",
   "language": "python",
   "name": "python3"
  },
  "language_info": {
   "codemirror_mode": {
    "name": "ipython",
    "version": 3
   },
   "file_extension": ".py",
   "mimetype": "text/x-python",
   "name": "python",
   "nbconvert_exporter": "python",
   "pygments_lexer": "ipython3",
   "version": "3.7.4"
  }
 },
 "nbformat": 4,
 "nbformat_minor": 2
}
