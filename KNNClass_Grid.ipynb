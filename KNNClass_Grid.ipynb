{
 "cells": [
  {
   "cell_type": "markdown",
   "metadata": {},
   "source": [
    "# KNNClass_Grid"
   ]
  },
  {
   "cell_type": "markdown",
   "metadata": {},
   "source": [
    "Importing Library as follows"
   ]
  },
  {
   "cell_type": "code",
   "execution_count": 1,
   "metadata": {},
   "outputs": [],
   "source": [
    "import pandas as pd"
   ]
  },
  {
   "cell_type": "markdown",
   "metadata": {},
   "source": [
    "Importing dataset form local host"
   ]
  },
  {
   "cell_type": "code",
   "execution_count": 2,
   "metadata": {},
   "outputs": [],
   "source": [
    "df = pd.read_csv(\"D:/Statistics (Python)/Cases/Wisconsin/BreastCancer.csv\")"
   ]
  },
  {
   "cell_type": "code",
   "execution_count": 3,
   "metadata": {},
   "outputs": [],
   "source": [
    "dum_df = pd.get_dummies(df)\n",
    "dum_df = pd.get_dummies(df, drop_first=True)"
   ]
  },
  {
   "cell_type": "code",
   "execution_count": 4,
   "metadata": {},
   "outputs": [],
   "source": [
    "from sklearn.neighbors import KNeighborsClassifier"
   ]
  },
  {
   "cell_type": "code",
   "execution_count": 5,
   "metadata": {},
   "outputs": [],
   "source": [
    "X = dum_df[['Code', 'Clump', 'UniCell_Size', 'Uni_CellShape', 'MargAdh', 'SEpith','BareN', 'BChromatin', 'NoemN', 'Mitoses']]\n",
    "y = dum_df['Class_Malignant']"
   ]
  },
  {
   "cell_type": "markdown",
   "metadata": {},
   "source": [
    "Test for single k at a time"
   ]
  },
  {
   "cell_type": "code",
   "execution_count": 6,
   "metadata": {},
   "outputs": [],
   "source": [
    "from sklearn.model_selection import cross_val_score\n",
    "from sklearn.model_selection import StratifiedKFold"
   ]
  },
  {
   "cell_type": "code",
   "execution_count": 7,
   "metadata": {},
   "outputs": [
    {
     "name": "stderr",
     "output_type": "stream",
     "text": [
      "C:\\Users\\Lenovo\\Anaconda3\\lib\\site-packages\\sklearn\\model_selection\\_split.py:296: FutureWarning: Setting a random_state has no effect since shuffle is False. This will raise an error in 0.24. You should leave random_state to its default (None), or set shuffle=True.\n",
      "  FutureWarning\n"
     ]
    }
   ],
   "source": [
    "kfold = StratifiedKFold(n_splits=5, random_state=42)"
   ]
  },
  {
   "cell_type": "code",
   "execution_count": 8,
   "metadata": {},
   "outputs": [],
   "source": [
    "log_reg = KNeighborsClassifier(n_neighbors=9)"
   ]
  },
  {
   "cell_type": "code",
   "execution_count": 9,
   "metadata": {},
   "outputs": [],
   "source": [
    "results = cross_val_score(log_reg, X, y, cv=kfold, \n",
    "                          scoring='roc_auc')"
   ]
  },
  {
   "cell_type": "code",
   "execution_count": 10,
   "metadata": {},
   "outputs": [
    {
     "name": "stdout",
     "output_type": "stream",
     "text": [
      "[0.53804348 0.34397645 0.26834239 0.31733573 0.53125   ]\n"
     ]
    }
   ],
   "source": [
    "print(results)"
   ]
  },
  {
   "cell_type": "code",
   "execution_count": 11,
   "metadata": {},
   "outputs": [
    {
     "name": "stdout",
     "output_type": "stream",
     "text": [
      "ROC AUC: 0.3998 (0.1128)\n"
     ]
    }
   ],
   "source": [
    "print(\"ROC AUC: %.4f (%.4f)\" % (results.mean(), results.std()))"
   ]
  },
  {
   "cell_type": "markdown",
   "metadata": {},
   "source": [
    "Testing all Ks at a time"
   ]
  },
  {
   "cell_type": "code",
   "execution_count": 12,
   "metadata": {},
   "outputs": [],
   "source": [
    "from sklearn.model_selection import GridSearchCV\n",
    "import numpy as np"
   ]
  },
  {
   "cell_type": "code",
   "execution_count": 13,
   "metadata": {},
   "outputs": [
    {
     "name": "stdout",
     "output_type": "stream",
     "text": [
      "{'n_neighbors': array([ 1,  3,  5,  7,  9, 11])}\n"
     ]
    }
   ],
   "source": [
    "parameters = {'n_neighbors': np.array([1,3,5,7,9,11])}\n",
    "print(parameters)"
   ]
  },
  {
   "cell_type": "code",
   "execution_count": 14,
   "metadata": {},
   "outputs": [],
   "source": [
    "from sklearn.model_selection import StratifiedKFold"
   ]
  },
  {
   "cell_type": "code",
   "execution_count": 15,
   "metadata": {},
   "outputs": [
    {
     "name": "stderr",
     "output_type": "stream",
     "text": [
      "C:\\Users\\Lenovo\\Anaconda3\\lib\\site-packages\\sklearn\\model_selection\\_split.py:296: FutureWarning: Setting a random_state has no effect since shuffle is False. This will raise an error in 0.24. You should leave random_state to its default (None), or set shuffle=True.\n",
      "  FutureWarning\n"
     ]
    }
   ],
   "source": [
    "kfold = StratifiedKFold(n_splits=5, random_state=42)"
   ]
  },
  {
   "cell_type": "code",
   "execution_count": 16,
   "metadata": {},
   "outputs": [],
   "source": [
    "knn = KNeighborsClassifier()"
   ]
  },
  {
   "cell_type": "markdown",
   "metadata": {},
   "source": [
    " Tuned according to accuracy score"
   ]
  },
  {
   "cell_type": "code",
   "execution_count": 17,
   "metadata": {},
   "outputs": [
    {
     "name": "stdout",
     "output_type": "stream",
     "text": [
      "{'mean_fit_time': array([0.00552483, 0.00367069, 0.00659065, 0.00120287, 0.00333853,\n",
      "       0.01656575]), 'std_fit_time': array([0.00144612, 0.00330557, 0.00808998, 0.00240574, 0.00619103,\n",
      "       0.00055546]), 'mean_score_time': array([0.01004734, 0.01035309, 0.01299753, 0.01469831, 0.00984254,\n",
      "       0.00019922]), 'std_score_time': array([0.00224189, 0.00627922, 0.00599932, 0.00308151, 0.0080438 ,\n",
      "       0.00039845]), 'param_n_neighbors': masked_array(data=[1, 3, 5, 7, 9, 11],\n",
      "             mask=[False, False, False, False, False, False],\n",
      "       fill_value='?',\n",
      "            dtype=object), 'params': [{'n_neighbors': 1}, {'n_neighbors': 3}, {'n_neighbors': 5}, {'n_neighbors': 7}, {'n_neighbors': 9}, {'n_neighbors': 11}], 'split0_test_score': array([0.34285714, 0.34285714, 0.34285714, 0.34285714, 0.34285714,\n",
      "       0.34285714]), 'split1_test_score': array([0.33571429, 0.33571429, 0.33571429, 0.33571429, 0.32142857,\n",
      "       0.32142857]), 'split2_test_score': array([0.19285714, 0.20714286, 0.19285714, 0.21428571, 0.22857143,\n",
      "       0.27857143]), 'split3_test_score': array([0.31428571, 0.31428571, 0.32857143, 0.39285714, 0.4       ,\n",
      "       0.40714286]), 'split4_test_score': array([0.6618705 , 0.6618705 , 0.65467626, 0.65467626, 0.65467626,\n",
      "       0.65467626]), 'mean_test_score': array([0.36951696, 0.3723741 , 0.37093525, 0.38807811, 0.38950668,\n",
      "       0.40093525]), 'std_test_score': array([0.1559379 , 0.15277368, 0.15234458, 0.1456627 , 0.14362171,\n",
      "       0.13348432]), 'rank_test_score': array([6, 4, 5, 3, 2, 1])}\n"
     ]
    }
   ],
   "source": [
    "cv = GridSearchCV(knn, param_grid=parameters,cv=kfold)\n",
    "\n",
    "cv.fit( X , y )\n",
    "\n",
    "print(cv.cv_results_  )"
   ]
  },
  {
   "cell_type": "markdown",
   "metadata": {},
   "source": [
    " Results Table of Grid Search CV"
   ]
  },
  {
   "cell_type": "code",
   "execution_count": 18,
   "metadata": {},
   "outputs": [
    {
     "name": "stdout",
     "output_type": "stream",
     "text": [
      "{'n_neighbors': 11}\n",
      "0.40093525179856115\n"
     ]
    }
   ],
   "source": [
    "df_cv = pd.DataFrame(cv.cv_results_  )\n",
    "\n",
    "print(cv.best_params_)\n",
    "\n",
    "print(cv.best_score_)"
   ]
  },
  {
   "cell_type": "markdown",
   "metadata": {},
   "source": [
    "***OR***"
   ]
  },
  {
   "cell_type": "markdown",
   "metadata": {},
   "source": [
    " Tuned according to AUC score"
   ]
  },
  {
   "cell_type": "code",
   "execution_count": 20,
   "metadata": {},
   "outputs": [
    {
     "name": "stdout",
     "output_type": "stream",
     "text": [
      "{'mean_fit_time': array([0.00410204, 0.00565481, 0.00502892, 0.00337839, 0.00312428,\n",
      "       0.00958905]), 'std_fit_time': array([0.00118643, 0.00591989, 0.00678869, 0.00614126, 0.00624857,\n",
      "       0.00783939]), 'mean_score_time': array([0.00603352, 0.00253491, 0.00628233, 0.00626569, 0.00624804,\n",
      "       0.00312419]), 'std_score_time': array([0.00142417, 0.0020947 , 0.00769425, 0.00767392, 0.00765226,\n",
      "       0.00624838]), 'param_n_neighbors': masked_array(data=[1, 3, 5, 7, 9, 11],\n",
      "             mask=[False, False, False, False, False, False],\n",
      "       fill_value='?',\n",
      "            dtype=object), 'params': [{'n_neighbors': 1}, {'n_neighbors': 3}, {'n_neighbors': 5}, {'n_neighbors': 7}, {'n_neighbors': 9}, {'n_neighbors': 11}], 'split0_test_score': array([0.5       , 0.50543478, 0.51630435, 0.53804348, 0.53804348,\n",
      "       0.54891304]), 'split1_test_score': array([0.36005435, 0.35688406, 0.34431612, 0.34397645, 0.34397645,\n",
      "       0.34397645]), 'split2_test_score': array([0.23143116, 0.23856431, 0.26098279, 0.26381341, 0.26834239,\n",
      "       0.27943841]), 'split3_test_score': array([0.32653061, 0.32529715, 0.32933393, 0.33740749, 0.31733573,\n",
      "       0.3035434 ]), 'split4_test_score': array([0.51041667, 0.53125   , 0.53125   , 0.53125   , 0.53125   ,\n",
      "       0.53125   ]), 'mean_test_score': array([0.38568656, 0.39148606, 0.39643744, 0.40289816, 0.39978961,\n",
      "       0.40142426]), 'std_test_score': array([0.10637324, 0.11088877, 0.10780536, 0.11121494, 0.11277242,\n",
      "       0.11521209]), 'rank_test_score': array([6, 5, 4, 1, 3, 2])}\n"
     ]
    }
   ],
   "source": [
    "cv = GridSearchCV(knn, param_grid=parameters,\n",
    "                  cv=kfold,scoring='roc_auc')\n",
    "cv.fit( X , y )\n",
    "\n",
    "print(cv.cv_results_  )"
   ]
  },
  {
   "cell_type": "markdown",
   "metadata": {},
   "source": [
    " Table of Grid Search CV Results"
   ]
  },
  {
   "cell_type": "code",
   "execution_count": 22,
   "metadata": {},
   "outputs": [
    {
     "name": "stdout",
     "output_type": "stream",
     "text": [
      "{'n_neighbors': 7}\n",
      "0.4028981647604096\n"
     ]
    }
   ],
   "source": [
    "df_cv = pd.DataFrame(cv.cv_results_  )\n",
    "\n",
    "print(cv.best_params_)\n",
    "\n",
    "print(cv.best_score_)"
   ]
  },
  {
   "cell_type": "markdown",
   "metadata": {},
   "source": [
    "***OR***"
   ]
  },
  {
   "cell_type": "markdown",
   "metadata": {},
   "source": [
    " Tuned according to negative log loss score"
   ]
  },
  {
   "cell_type": "code",
   "execution_count": 25,
   "metadata": {},
   "outputs": [
    {
     "name": "stdout",
     "output_type": "stream",
     "text": [
      "{'mean_fit_time': array([0.00447049, 0.00589948, 0.00615454, 0.00624828, 0.00968719,\n",
      "       0.00690246]), 'std_fit_time': array([0.0008235 , 0.00202938, 0.006984  , 0.00765255, 0.00791492,\n",
      "       0.00845375]), 'mean_score_time': array([0.00299916, 0.0057559 , 0.00414672, 0.        , 0.00042434,\n",
      "       0.00627279]), 'std_score_time': array([0.00217986, 0.00231449, 0.00596118, 0.        , 0.00051971,\n",
      "       0.00768257]), 'param_n_neighbors': masked_array(data=[1, 3, 5, 7, 9, 11],\n",
      "             mask=[False, False, False, False, False, False],\n",
      "       fill_value='?',\n",
      "            dtype=object), 'params': [{'n_neighbors': 1}, {'n_neighbors': 3}, {'n_neighbors': 5}, {'n_neighbors': 7}, {'n_neighbors': 9}, {'n_neighbors': 11}], 'split0_test_score': array([-22.69743565, -22.45857163, -21.98188773, -21.05289921,\n",
      "       -21.04192324,  -1.53920348]), 'split1_test_score': array([-22.9439927 , -22.71092674, -22.72451105, -22.730219  ,\n",
      "       -22.73510689, -22.73474254]), 'split2_test_score': array([-27.878195  , -26.9128425 , -23.84985191, -22.87015059,\n",
      "       -21.91421016, -19.58063796]), 'split3_test_score': array([-23.68410363, -22.97040773, -19.14825376, -18.64885696,\n",
      "       -17.94514637, -17.48382885]), 'split4_test_score': array([-11.67857907, -11.20034264, -11.20139432, -11.20573929,\n",
      "       -11.20410702, -11.20231033]), 'mean_test_score': array([-21.77646121, -21.25061825, -19.78117976, -19.30157301,\n",
      "       -18.96809874, -14.50814463]), 'std_test_score': array([5.38607097, 5.28428143, 4.56231786, 4.32495236, 4.20705764,\n",
      "       7.50178343]), 'rank_test_score': array([6, 5, 4, 3, 2, 1])}\n"
     ]
    }
   ],
   "source": [
    "cv = GridSearchCV(knn, param_grid=parameters,\n",
    "                  cv=kfold,scoring='neg_log_loss')\n",
    "\n",
    "cv.fit( X , y )\n",
    "\n",
    "print(cv.cv_results_  )"
   ]
  },
  {
   "cell_type": "markdown",
   "metadata": {},
   "source": [
    " Table of Grid Search CV Results"
   ]
  },
  {
   "cell_type": "code",
   "execution_count": 27,
   "metadata": {},
   "outputs": [
    {
     "name": "stdout",
     "output_type": "stream",
     "text": [
      "{'n_neighbors': 11}\n",
      "-14.508144632940994\n"
     ]
    }
   ],
   "source": [
    "df_cv = pd.DataFrame(cv.cv_results_  )\n",
    "\n",
    "print(cv.best_params_)\n",
    "\n",
    "print(cv.best_score_)"
   ]
  }
 ],
 "metadata": {
  "kernelspec": {
   "display_name": "Python 3",
   "language": "python",
   "name": "python3"
  },
  "language_info": {
   "codemirror_mode": {
    "name": "ipython",
    "version": 3
   },
   "file_extension": ".py",
   "mimetype": "text/x-python",
   "name": "python",
   "nbconvert_exporter": "python",
   "pygments_lexer": "ipython3",
   "version": "3.7.4"
  }
 },
 "nbformat": 4,
 "nbformat_minor": 2
}
