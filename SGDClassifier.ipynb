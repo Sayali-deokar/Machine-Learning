{
 "cells": [
  {
   "cell_type": "markdown",
   "metadata": {},
   "source": [
    "# SGDClassifier"
   ]
  },
  {
   "cell_type": "markdown",
   "metadata": {},
   "source": [
    "Importing Library as follows"
   ]
  },
  {
   "cell_type": "code",
   "execution_count": 1,
   "metadata": {},
   "outputs": [],
   "source": [
    "import pandas as pd\n",
    "import numpy as np"
   ]
  },
  {
   "cell_type": "markdown",
   "metadata": {},
   "source": [
    "Importing dataset form local host and get dummy variables"
   ]
  },
  {
   "cell_type": "code",
   "execution_count": 2,
   "metadata": {},
   "outputs": [],
   "source": [
    "Default = pd.read_csv(\"D:/Statistics (Python)/Datasets/Default.csv\")\n",
    "dum_Default = pd.get_dummies(Default, drop_first=True)"
   ]
  },
  {
   "cell_type": "markdown",
   "metadata": {},
   "source": [
    "Considering only Student variable"
   ]
  },
  {
   "cell_type": "code",
   "execution_count": 3,
   "metadata": {},
   "outputs": [],
   "source": [
    "X = dum_Default.iloc[:,[0,1,3]]\n",
    "y = dum_Default.iloc[:,2]"
   ]
  },
  {
   "cell_type": "markdown",
   "metadata": {},
   "source": [
    " Import the necessary modules"
   ]
  },
  {
   "cell_type": "code",
   "execution_count": 4,
   "metadata": {},
   "outputs": [],
   "source": [
    "from sklearn.model_selection import train_test_split \n",
    "from sklearn.metrics import confusion_matrix, classification_report\n",
    "from sklearn.metrics import accuracy_score"
   ]
  },
  {
   "cell_type": "markdown",
   "metadata": {},
   "source": [
    " Create training and test sets"
   ]
  },
  {
   "cell_type": "code",
   "execution_count": 5,
   "metadata": {},
   "outputs": [],
   "source": [
    "X_train, X_test, y_train, y_test = train_test_split(X, y, test_size = 0.4, \n",
    "                                                    random_state=42)"
   ]
  },
  {
   "cell_type": "markdown",
   "metadata": {},
   "source": [
    "***SGD Classifier***"
   ]
  },
  {
   "cell_type": "code",
   "execution_count": 6,
   "metadata": {},
   "outputs": [],
   "source": [
    "from sklearn.linear_model import SGDClassifier\n",
    "sgdClass = SGDClassifier(loss='log',random_state=2019)\n",
    "sgdClass.fit(X_train,y_train)\n",
    "y_pred = sgdClass.predict(X_test)"
   ]
  },
  {
   "cell_type": "code",
   "execution_count": 7,
   "metadata": {},
   "outputs": [
    {
     "name": "stdout",
     "output_type": "stream",
     "text": [
      "[[3839   26]\n",
      " [ 131    4]]\n"
     ]
    }
   ],
   "source": [
    "print(confusion_matrix(y_test, y_pred))"
   ]
  },
  {
   "cell_type": "code",
   "execution_count": 8,
   "metadata": {},
   "outputs": [
    {
     "name": "stdout",
     "output_type": "stream",
     "text": [
      "              precision    recall  f1-score   support\n",
      "\n",
      "           0       0.97      0.99      0.98      3865\n",
      "           1       0.13      0.03      0.05       135\n",
      "\n",
      "    accuracy                           0.96      4000\n",
      "   macro avg       0.55      0.51      0.51      4000\n",
      "weighted avg       0.94      0.96      0.95      4000\n",
      "\n"
     ]
    }
   ],
   "source": [
    "print(classification_report(y_test, y_pred))"
   ]
  },
  {
   "cell_type": "code",
   "execution_count": 9,
   "metadata": {},
   "outputs": [
    {
     "name": "stdout",
     "output_type": "stream",
     "text": [
      "0.96075\n"
     ]
    }
   ],
   "source": [
    "print(accuracy_score(y_test,y_pred))"
   ]
  },
  {
   "cell_type": "markdown",
   "metadata": {},
   "source": [
    "**ROC**"
   ]
  },
  {
   "cell_type": "markdown",
   "metadata": {},
   "source": [
    "Import necessary modules"
   ]
  },
  {
   "cell_type": "code",
   "execution_count": 10,
   "metadata": {},
   "outputs": [],
   "source": [
    "from sklearn.metrics import roc_curve, roc_auc_score"
   ]
  },
  {
   "cell_type": "markdown",
   "metadata": {},
   "source": [
    "Compute predicted probabilities: y_pred_prob"
   ]
  },
  {
   "cell_type": "code",
   "execution_count": 11,
   "metadata": {},
   "outputs": [],
   "source": [
    "y_pred_prob = sgdClass.predict_proba(X_test)[:,1]"
   ]
  },
  {
   "cell_type": "markdown",
   "metadata": {},
   "source": [
    "Generate ROC curve values: fpr, tpr, thresholds"
   ]
  },
  {
   "cell_type": "code",
   "execution_count": 12,
   "metadata": {},
   "outputs": [],
   "source": [
    "fpr, tpr, thresholds = roc_curve(y_test, y_pred_prob)"
   ]
  },
  {
   "cell_type": "markdown",
   "metadata": {},
   "source": [
    " Plot ROC curve"
   ]
  },
  {
   "cell_type": "code",
   "execution_count": 14,
   "metadata": {},
   "outputs": [
    {
     "data": {
      "image/png": "[encoded data removed]",
      "text/plain": [
       "<Figure size 432x288 with 1 Axes>"
      ]
     },
     "metadata": {
      "needs_background": "light"
     },
     "output_type": "display_data"
    },
    {
     "data": {
      "text/plain": [
       "0.5114512960567295"
      ]
     },
     "execution_count": 14,
     "metadata": {},
     "output_type": "execute_result"
    }
   ],
   "source": [
    "import matplotlib.pyplot as plt\n",
    "plt.plot([0, 1], [0, 1], 'k--')\n",
    "plt.plot(fpr, tpr)\n",
    "plt.xlabel('False Positive Rate')\n",
    "plt.ylabel('True Positive Rate')\n",
    "plt.title('ROC Curve')\n",
    "plt.show()\n",
    "roc_auc_score(y_test, y_pred_prob)"
   ]
  },
  {
   "cell_type": "markdown",
   "metadata": {},
   "source": [
    "Model Tunning"
   ]
  },
  {
   "cell_type": "code",
   "execution_count": 15,
   "metadata": {},
   "outputs": [
    {
     "name": "stdout",
     "output_type": "stream",
     "text": [
      "Fitting 5 folds for each of 40 candidates, totalling 200 fits\n",
      "[CV] eta0=0.001, learning_rate=constant ..............................\n"
     ]
    },
    {
     "name": "stderr",
     "output_type": "stream",
     "text": [
      "[Parallel(n_jobs=1)]: Using backend SequentialBackend with 1 concurrent workers.\n",
      "[Parallel(n_jobs=1)]: Done   1 out of   1 | elapsed:    0.0s remaining:    0.0s\n"
     ]
    },
    {
     "name": "stdout",
     "output_type": "stream",
     "text": [
      "[CV] ............... eta0=0.001, learning_rate=constant, total=   0.1s\n",
      "[CV] eta0=0.001, learning_rate=constant ..............................\n",
      "[CV] ............... eta0=0.001, learning_rate=constant, total=   0.1s\n",
      "[CV] eta0=0.001, learning_rate=constant ..............................\n",
      "[CV] ............... eta0=0.001, learning_rate=constant, total=   0.0s\n",
      "[CV] eta0=0.001, learning_rate=constant ..............................\n",
      "[CV] ............... eta0=0.001, learning_rate=constant, total=   0.0s\n",
      "[CV] eta0=0.001, learning_rate=constant ..............................\n",
      "[CV] ............... eta0=0.001, learning_rate=constant, total=   0.0s\n",
      "[CV] eta0=0.001, learning_rate=adaptive ..............................\n",
      "[CV] ............... eta0=0.001, learning_rate=adaptive, total=   0.2s\n",
      "[CV] eta0=0.001, learning_rate=adaptive ..............................\n",
      "[CV] ............... eta0=0.001, learning_rate=adaptive, total=   0.2s\n",
      "[CV] eta0=0.001, learning_rate=adaptive ..............................\n",
      "[CV] ............... eta0=0.001, learning_rate=adaptive, total=   0.2s\n",
      "[CV] eta0=0.001, learning_rate=adaptive ..............................\n",
      "[CV] ............... eta0=0.001, learning_rate=adaptive, total=   0.2s\n",
      "[CV] eta0=0.001, learning_rate=adaptive ..............................\n",
      "[CV] ............... eta0=0.001, learning_rate=adaptive, total=   0.2s\n",
      "[CV] eta0=0.001, learning_rate=invscaling ............................\n",
      "[CV] ............. eta0=0.001, learning_rate=invscaling, total=   0.3s\n",
      "[CV] eta0=0.001, learning_rate=invscaling ............................\n",
      "[CV] ............. eta0=0.001, learning_rate=invscaling, total=   0.2s\n",
      "[CV] eta0=0.001, learning_rate=invscaling ............................\n",
      "[CV] ............. eta0=0.001, learning_rate=invscaling, total=   0.2s\n",
      "[CV] eta0=0.001, learning_rate=invscaling ............................\n",
      "[CV] ............. eta0=0.001, learning_rate=invscaling, total=   0.3s\n",
      "[CV] eta0=0.001, learning_rate=invscaling ............................\n",
      "[CV] ............. eta0=0.001, learning_rate=invscaling, total=   0.2s\n",
      "[CV] eta0=0.001, learning_rate=optimal ...............................\n",
      "[CV] ................ eta0=0.001, learning_rate=optimal, total=   0.5s\n",
      "[CV] eta0=0.001, learning_rate=optimal ...............................\n",
      "[CV] ................ eta0=0.001, learning_rate=optimal, total=   0.3s\n",
      "[CV] eta0=0.001, learning_rate=optimal ...............................\n",
      "[CV] ................ eta0=0.001, learning_rate=optimal, total=   0.3s\n",
      "[CV] eta0=0.001, learning_rate=optimal ...............................\n",
      "[CV] ................ eta0=0.001, learning_rate=optimal, total=   0.3s\n",
      "[CV] eta0=0.001, learning_rate=optimal ...............................\n",
      "[CV] ................ eta0=0.001, learning_rate=optimal, total=   0.3s\n",
      "[CV] eta0=0.13422222222222224, learning_rate=constant ................\n",
      "[CV] . eta0=0.13422222222222224, learning_rate=constant, total=   0.0s\n",
      "[CV] eta0=0.13422222222222224, learning_rate=constant ................\n",
      "[CV] . eta0=0.13422222222222224, learning_rate=constant, total=   0.0s\n",
      "[CV] eta0=0.13422222222222224, learning_rate=constant ................\n",
      "[CV] . eta0=0.13422222222222224, learning_rate=constant, total=   0.0s\n",
      "[CV] eta0=0.13422222222222224, learning_rate=constant ................\n",
      "[CV] . eta0=0.13422222222222224, learning_rate=constant, total=   0.0s\n",
      "[CV] eta0=0.13422222222222224, learning_rate=constant ................\n",
      "[CV] . eta0=0.13422222222222224, learning_rate=constant, total=   0.0s\n",
      "[CV] eta0=0.13422222222222224, learning_rate=adaptive ................\n",
      "[CV] . eta0=0.13422222222222224, learning_rate=adaptive, total=   0.2s\n",
      "[CV] eta0=0.13422222222222224, learning_rate=adaptive ................\n",
      "[CV] . eta0=0.13422222222222224, learning_rate=adaptive, total=   0.3s\n",
      "[CV] eta0=0.13422222222222224, learning_rate=adaptive ................\n",
      "[CV] . eta0=0.13422222222222224, learning_rate=adaptive, total=   0.4s\n",
      "[CV] eta0=0.13422222222222224, learning_rate=adaptive ................\n",
      "[CV] . eta0=0.13422222222222224, learning_rate=adaptive, total=   0.3s\n",
      "[CV] eta0=0.13422222222222224, learning_rate=adaptive ................\n",
      "[CV] . eta0=0.13422222222222224, learning_rate=adaptive, total=   0.4s\n",
      "[CV] eta0=0.13422222222222224, learning_rate=invscaling ..............\n",
      "[CV]  eta0=0.13422222222222224, learning_rate=invscaling, total=   0.3s\n",
      "[CV] eta0=0.13422222222222224, learning_rate=invscaling ..............\n",
      "[CV]  eta0=0.13422222222222224, learning_rate=invscaling, total=   0.3s\n",
      "[CV] eta0=0.13422222222222224, learning_rate=invscaling ..............\n",
      "[CV]  eta0=0.13422222222222224, learning_rate=invscaling, total=   0.2s\n",
      "[CV] eta0=0.13422222222222224, learning_rate=invscaling ..............\n",
      "[CV]  eta0=0.13422222222222224, learning_rate=invscaling, total=   0.4s\n",
      "[CV] eta0=0.13422222222222224, learning_rate=invscaling ..............\n",
      "[CV]  eta0=0.13422222222222224, learning_rate=invscaling, total=   0.3s\n",
      "[CV] eta0=0.13422222222222224, learning_rate=optimal .................\n",
      "[CV] .. eta0=0.13422222222222224, learning_rate=optimal, total=   0.4s\n",
      "[CV] eta0=0.13422222222222224, learning_rate=optimal .................\n",
      "[CV] .. eta0=0.13422222222222224, learning_rate=optimal, total=   0.3s\n",
      "[CV] eta0=0.13422222222222224, learning_rate=optimal .................\n",
      "[CV] .. eta0=0.13422222222222224, learning_rate=optimal, total=   0.3s\n",
      "[CV] eta0=0.13422222222222224, learning_rate=optimal .................\n",
      "[CV] .. eta0=0.13422222222222224, learning_rate=optimal, total=   0.4s\n",
      "[CV] eta0=0.13422222222222224, learning_rate=optimal .................\n",
      "[CV] .. eta0=0.13422222222222224, learning_rate=optimal, total=   0.3s\n",
      "[CV] eta0=0.2674444444444445, learning_rate=constant .................\n",
      "[CV] .. eta0=0.2674444444444445, learning_rate=constant, total=   0.0s\n",
      "[CV] eta0=0.2674444444444445, learning_rate=constant .................\n",
      "[CV] .. eta0=0.2674444444444445, learning_rate=constant, total=   0.0s\n",
      "[CV] eta0=0.2674444444444445, learning_rate=constant .................\n",
      "[CV] .. eta0=0.2674444444444445, learning_rate=constant, total=   0.0s\n",
      "[CV] eta0=0.2674444444444445, learning_rate=constant .................\n",
      "[CV] .. eta0=0.2674444444444445, learning_rate=constant, total=   0.0s\n",
      "[CV] eta0=0.2674444444444445, learning_rate=constant .................\n",
      "[CV] .. eta0=0.2674444444444445, learning_rate=constant, total=   0.0s\n",
      "[CV] eta0=0.2674444444444445, learning_rate=adaptive .................\n",
      "[CV] .. eta0=0.2674444444444445, learning_rate=adaptive, total=   0.3s\n",
      "[CV] eta0=0.2674444444444445, learning_rate=adaptive .................\n",
      "[CV] .. eta0=0.2674444444444445, learning_rate=adaptive, total=   0.4s\n",
      "[CV] eta0=0.2674444444444445, learning_rate=adaptive .................\n",
      "[CV] .. eta0=0.2674444444444445, learning_rate=adaptive, total=   0.4s\n",
      "[CV] eta0=0.2674444444444445, learning_rate=adaptive .................\n",
      "[CV] .. eta0=0.2674444444444445, learning_rate=adaptive, total=   0.3s\n",
      "[CV] eta0=0.2674444444444445, learning_rate=adaptive .................\n",
      "[CV] .. eta0=0.2674444444444445, learning_rate=adaptive, total=   0.4s\n",
      "[CV] eta0=0.2674444444444445, learning_rate=invscaling ...............\n",
      "[CV]  eta0=0.2674444444444445, learning_rate=invscaling, total=   0.3s\n",
      "[CV] eta0=0.2674444444444445, learning_rate=invscaling ...............\n",
      "[CV]  eta0=0.2674444444444445, learning_rate=invscaling, total=   0.4s\n",
      "[CV] eta0=0.2674444444444445, learning_rate=invscaling ...............\n",
      "[CV]  eta0=0.2674444444444445, learning_rate=invscaling, total=   0.4s\n",
      "[CV] eta0=0.2674444444444445, learning_rate=invscaling ...............\n",
      "[CV]  eta0=0.2674444444444445, learning_rate=invscaling, total=   0.4s\n",
      "[CV] eta0=0.2674444444444445, learning_rate=invscaling ...............\n",
      "[CV]  eta0=0.2674444444444445, learning_rate=invscaling, total=   0.2s\n",
      "[CV] eta0=0.2674444444444445, learning_rate=optimal ..................\n",
      "[CV] ... eta0=0.2674444444444445, learning_rate=optimal, total=   0.4s\n",
      "[CV] eta0=0.2674444444444445, learning_rate=optimal ..................\n",
      "[CV] ... eta0=0.2674444444444445, learning_rate=optimal, total=   0.3s\n",
      "[CV] eta0=0.2674444444444445, learning_rate=optimal ..................\n",
      "[CV] ... eta0=0.2674444444444445, learning_rate=optimal, total=   0.3s\n",
      "[CV] eta0=0.2674444444444445, learning_rate=optimal ..................\n"
     ]
    },
    {
     "name": "stdout",
     "output_type": "stream",
     "text": [
      "[CV] ... eta0=0.2674444444444445, learning_rate=optimal, total=   0.3s\n",
      "[CV] eta0=0.2674444444444445, learning_rate=optimal ..................\n",
      "[CV] ... eta0=0.2674444444444445, learning_rate=optimal, total=   0.4s\n",
      "[CV] eta0=0.4006666666666667, learning_rate=constant .................\n",
      "[CV] .. eta0=0.4006666666666667, learning_rate=constant, total=   0.0s\n",
      "[CV] eta0=0.4006666666666667, learning_rate=constant .................\n",
      "[CV] .. eta0=0.4006666666666667, learning_rate=constant, total=   0.0s\n",
      "[CV] eta0=0.4006666666666667, learning_rate=constant .................\n",
      "[CV] .. eta0=0.4006666666666667, learning_rate=constant, total=   0.0s\n",
      "[CV] eta0=0.4006666666666667, learning_rate=constant .................\n",
      "[CV] .. eta0=0.4006666666666667, learning_rate=constant, total=   0.0s\n",
      "[CV] eta0=0.4006666666666667, learning_rate=constant .................\n",
      "[CV] .. eta0=0.4006666666666667, learning_rate=constant, total=   0.0s\n",
      "[CV] eta0=0.4006666666666667, learning_rate=adaptive .................\n",
      "[CV] .. eta0=0.4006666666666667, learning_rate=adaptive, total=   0.4s\n",
      "[CV] eta0=0.4006666666666667, learning_rate=adaptive .................\n",
      "[CV] .. eta0=0.4006666666666667, learning_rate=adaptive, total=   0.4s\n",
      "[CV] eta0=0.4006666666666667, learning_rate=adaptive .................\n",
      "[CV] .. eta0=0.4006666666666667, learning_rate=adaptive, total=   0.4s\n",
      "[CV] eta0=0.4006666666666667, learning_rate=adaptive .................\n",
      "[CV] .. eta0=0.4006666666666667, learning_rate=adaptive, total=   0.3s\n",
      "[CV] eta0=0.4006666666666667, learning_rate=adaptive .................\n",
      "[CV] .. eta0=0.4006666666666667, learning_rate=adaptive, total=   0.4s\n",
      "[CV] eta0=0.4006666666666667, learning_rate=invscaling ...............\n",
      "[CV]  eta0=0.4006666666666667, learning_rate=invscaling, total=   0.3s\n",
      "[CV] eta0=0.4006666666666667, learning_rate=invscaling ...............\n",
      "[CV]  eta0=0.4006666666666667, learning_rate=invscaling, total=   0.3s\n",
      "[CV] eta0=0.4006666666666667, learning_rate=invscaling ...............\n",
      "[CV]  eta0=0.4006666666666667, learning_rate=invscaling, total=   0.2s\n",
      "[CV] eta0=0.4006666666666667, learning_rate=invscaling ...............\n",
      "[CV]  eta0=0.4006666666666667, learning_rate=invscaling, total=   0.4s\n",
      "[CV] eta0=0.4006666666666667, learning_rate=invscaling ...............\n",
      "[CV]  eta0=0.4006666666666667, learning_rate=invscaling, total=   0.2s\n",
      "[CV] eta0=0.4006666666666667, learning_rate=optimal ..................\n",
      "[CV] ... eta0=0.4006666666666667, learning_rate=optimal, total=   0.4s\n",
      "[CV] eta0=0.4006666666666667, learning_rate=optimal ..................\n",
      "[CV] ... eta0=0.4006666666666667, learning_rate=optimal, total=   0.3s\n",
      "[CV] eta0=0.4006666666666667, learning_rate=optimal ..................\n",
      "[CV] ... eta0=0.4006666666666667, learning_rate=optimal, total=   0.4s\n",
      "[CV] eta0=0.4006666666666667, learning_rate=optimal ..................\n",
      "[CV] ... eta0=0.4006666666666667, learning_rate=optimal, total=   0.3s\n",
      "[CV] eta0=0.4006666666666667, learning_rate=optimal ..................\n",
      "[CV] ... eta0=0.4006666666666667, learning_rate=optimal, total=   0.3s\n",
      "[CV] eta0=0.533888888888889, learning_rate=constant ..................\n",
      "[CV] ... eta0=0.533888888888889, learning_rate=constant, total=   0.0s\n",
      "[CV] eta0=0.533888888888889, learning_rate=constant ..................\n",
      "[CV] ... eta0=0.533888888888889, learning_rate=constant, total=   0.0s\n",
      "[CV] eta0=0.533888888888889, learning_rate=constant ..................\n",
      "[CV] ... eta0=0.533888888888889, learning_rate=constant, total=   0.0s\n",
      "[CV] eta0=0.533888888888889, learning_rate=constant ..................\n",
      "[CV] ... eta0=0.533888888888889, learning_rate=constant, total=   0.0s\n",
      "[CV] eta0=0.533888888888889, learning_rate=constant ..................\n",
      "[CV] ... eta0=0.533888888888889, learning_rate=constant, total=   0.0s\n",
      "[CV] eta0=0.533888888888889, learning_rate=adaptive ..................\n",
      "[CV] ... eta0=0.533888888888889, learning_rate=adaptive, total=   0.3s\n",
      "[CV] eta0=0.533888888888889, learning_rate=adaptive ..................\n",
      "[CV] ... eta0=0.533888888888889, learning_rate=adaptive, total=   0.3s\n",
      "[CV] eta0=0.533888888888889, learning_rate=adaptive ..................\n",
      "[CV] ... eta0=0.533888888888889, learning_rate=adaptive, total=   0.3s\n",
      "[CV] eta0=0.533888888888889, learning_rate=adaptive ..................\n",
      "[CV] ... eta0=0.533888888888889, learning_rate=adaptive, total=   0.3s\n",
      "[CV] eta0=0.533888888888889, learning_rate=adaptive ..................\n",
      "[CV] ... eta0=0.533888888888889, learning_rate=adaptive, total=   0.3s\n",
      "[CV] eta0=0.533888888888889, learning_rate=invscaling ................\n",
      "[CV] . eta0=0.533888888888889, learning_rate=invscaling, total=   0.3s\n",
      "[CV] eta0=0.533888888888889, learning_rate=invscaling ................\n",
      "[CV] . eta0=0.533888888888889, learning_rate=invscaling, total=   0.2s\n",
      "[CV] eta0=0.533888888888889, learning_rate=invscaling ................\n",
      "[CV] . eta0=0.533888888888889, learning_rate=invscaling, total=   0.3s\n",
      "[CV] eta0=0.533888888888889, learning_rate=invscaling ................\n",
      "[CV] . eta0=0.533888888888889, learning_rate=invscaling, total=   0.3s\n",
      "[CV] eta0=0.533888888888889, learning_rate=invscaling ................\n",
      "[CV] . eta0=0.533888888888889, learning_rate=invscaling, total=   0.3s\n",
      "[CV] eta0=0.533888888888889, learning_rate=optimal ...................\n",
      "[CV] .... eta0=0.533888888888889, learning_rate=optimal, total=   0.4s\n",
      "[CV] eta0=0.533888888888889, learning_rate=optimal ...................\n",
      "[CV] .... eta0=0.533888888888889, learning_rate=optimal, total=   0.3s\n",
      "[CV] eta0=0.533888888888889, learning_rate=optimal ...................\n",
      "[CV] .... eta0=0.533888888888889, learning_rate=optimal, total=   0.3s\n",
      "[CV] eta0=0.533888888888889, learning_rate=optimal ...................\n",
      "[CV] .... eta0=0.533888888888889, learning_rate=optimal, total=   0.3s\n",
      "[CV] eta0=0.533888888888889, learning_rate=optimal ...................\n",
      "[CV] .... eta0=0.533888888888889, learning_rate=optimal, total=   0.3s\n",
      "[CV] eta0=0.6671111111111112, learning_rate=constant .................\n",
      "[CV] .. eta0=0.6671111111111112, learning_rate=constant, total=   0.0s\n",
      "[CV] eta0=0.6671111111111112, learning_rate=constant .................\n",
      "[CV] .. eta0=0.6671111111111112, learning_rate=constant, total=   0.0s\n",
      "[CV] eta0=0.6671111111111112, learning_rate=constant .................\n",
      "[CV] .. eta0=0.6671111111111112, learning_rate=constant, total=   0.0s\n",
      "[CV] eta0=0.6671111111111112, learning_rate=constant .................\n",
      "[CV] .. eta0=0.6671111111111112, learning_rate=constant, total=   0.0s\n",
      "[CV] eta0=0.6671111111111112, learning_rate=constant .................\n",
      "[CV] .. eta0=0.6671111111111112, learning_rate=constant, total=   0.0s\n",
      "[CV] eta0=0.6671111111111112, learning_rate=adaptive .................\n",
      "[CV] .. eta0=0.6671111111111112, learning_rate=adaptive, total=   0.3s\n",
      "[CV] eta0=0.6671111111111112, learning_rate=adaptive .................\n",
      "[CV] .. eta0=0.6671111111111112, learning_rate=adaptive, total=   0.3s\n",
      "[CV] eta0=0.6671111111111112, learning_rate=adaptive .................\n",
      "[CV] .. eta0=0.6671111111111112, learning_rate=adaptive, total=   0.3s\n",
      "[CV] eta0=0.6671111111111112, learning_rate=adaptive .................\n",
      "[CV] .. eta0=0.6671111111111112, learning_rate=adaptive, total=   0.3s\n",
      "[CV] eta0=0.6671111111111112, learning_rate=adaptive .................\n",
      "[CV] .. eta0=0.6671111111111112, learning_rate=adaptive, total=   0.3s\n",
      "[CV] eta0=0.6671111111111112, learning_rate=invscaling ...............\n",
      "[CV]  eta0=0.6671111111111112, learning_rate=invscaling, total=   0.2s\n",
      "[CV] eta0=0.6671111111111112, learning_rate=invscaling ...............\n",
      "[CV]  eta0=0.6671111111111112, learning_rate=invscaling, total=   0.2s\n",
      "[CV] eta0=0.6671111111111112, learning_rate=invscaling ...............\n",
      "[CV]  eta0=0.6671111111111112, learning_rate=invscaling, total=   0.3s\n",
      "[CV] eta0=0.6671111111111112, learning_rate=invscaling ...............\n",
      "[CV]  eta0=0.6671111111111112, learning_rate=invscaling, total=   0.2s\n",
      "[CV] eta0=0.6671111111111112, learning_rate=invscaling ...............\n",
      "[CV]  eta0=0.6671111111111112, learning_rate=invscaling, total=   0.2s\n",
      "[CV] eta0=0.6671111111111112, learning_rate=optimal ..................\n",
      "[CV] ... eta0=0.6671111111111112, learning_rate=optimal, total=   0.4s\n",
      "[CV] eta0=0.6671111111111112, learning_rate=optimal ..................\n"
     ]
    },
    {
     "name": "stdout",
     "output_type": "stream",
     "text": [
      "[CV] ... eta0=0.6671111111111112, learning_rate=optimal, total=   0.3s\n",
      "[CV] eta0=0.6671111111111112, learning_rate=optimal ..................\n",
      "[CV] ... eta0=0.6671111111111112, learning_rate=optimal, total=   0.3s\n",
      "[CV] eta0=0.6671111111111112, learning_rate=optimal ..................\n",
      "[CV] ... eta0=0.6671111111111112, learning_rate=optimal, total=   0.3s\n",
      "[CV] eta0=0.6671111111111112, learning_rate=optimal ..................\n",
      "[CV] ... eta0=0.6671111111111112, learning_rate=optimal, total=   0.3s\n",
      "[CV] eta0=0.8003333333333335, learning_rate=constant .................\n",
      "[CV] .. eta0=0.8003333333333335, learning_rate=constant, total=   0.0s\n",
      "[CV] eta0=0.8003333333333335, learning_rate=constant .................\n",
      "[CV] .. eta0=0.8003333333333335, learning_rate=constant, total=   0.1s\n",
      "[CV] eta0=0.8003333333333335, learning_rate=constant .................\n",
      "[CV] .. eta0=0.8003333333333335, learning_rate=constant, total=   0.0s\n",
      "[CV] eta0=0.8003333333333335, learning_rate=constant .................\n",
      "[CV] .. eta0=0.8003333333333335, learning_rate=constant, total=   0.0s\n",
      "[CV] eta0=0.8003333333333335, learning_rate=constant .................\n",
      "[CV] .. eta0=0.8003333333333335, learning_rate=constant, total=   0.0s\n",
      "[CV] eta0=0.8003333333333335, learning_rate=adaptive .................\n",
      "[CV] .. eta0=0.8003333333333335, learning_rate=adaptive, total=   0.3s\n",
      "[CV] eta0=0.8003333333333335, learning_rate=adaptive .................\n",
      "[CV] .. eta0=0.8003333333333335, learning_rate=adaptive, total=   0.3s\n",
      "[CV] eta0=0.8003333333333335, learning_rate=adaptive .................\n",
      "[CV] .. eta0=0.8003333333333335, learning_rate=adaptive, total=   0.3s\n",
      "[CV] eta0=0.8003333333333335, learning_rate=adaptive .................\n",
      "[CV] .. eta0=0.8003333333333335, learning_rate=adaptive, total=   0.3s\n",
      "[CV] eta0=0.8003333333333335, learning_rate=adaptive .................\n",
      "[CV] .. eta0=0.8003333333333335, learning_rate=adaptive, total=   0.3s\n",
      "[CV] eta0=0.8003333333333335, learning_rate=invscaling ...............\n",
      "[CV]  eta0=0.8003333333333335, learning_rate=invscaling, total=   0.2s\n",
      "[CV] eta0=0.8003333333333335, learning_rate=invscaling ...............\n",
      "[CV]  eta0=0.8003333333333335, learning_rate=invscaling, total=   0.4s\n",
      "[CV] eta0=0.8003333333333335, learning_rate=invscaling ...............\n",
      "[CV]  eta0=0.8003333333333335, learning_rate=invscaling, total=   0.2s\n",
      "[CV] eta0=0.8003333333333335, learning_rate=invscaling ...............\n",
      "[CV]  eta0=0.8003333333333335, learning_rate=invscaling, total=   0.3s\n",
      "[CV] eta0=0.8003333333333335, learning_rate=invscaling ...............\n",
      "[CV]  eta0=0.8003333333333335, learning_rate=invscaling, total=   0.2s\n",
      "[CV] eta0=0.8003333333333335, learning_rate=optimal ..................\n",
      "[CV] ... eta0=0.8003333333333335, learning_rate=optimal, total=   0.4s\n",
      "[CV] eta0=0.8003333333333335, learning_rate=optimal ..................\n",
      "[CV] ... eta0=0.8003333333333335, learning_rate=optimal, total=   0.3s\n",
      "[CV] eta0=0.8003333333333335, learning_rate=optimal ..................\n",
      "[CV] ... eta0=0.8003333333333335, learning_rate=optimal, total=   0.4s\n",
      "[CV] eta0=0.8003333333333335, learning_rate=optimal ..................\n",
      "[CV] ... eta0=0.8003333333333335, learning_rate=optimal, total=   0.3s\n",
      "[CV] eta0=0.8003333333333335, learning_rate=optimal ..................\n",
      "[CV] ... eta0=0.8003333333333335, learning_rate=optimal, total=   0.3s\n",
      "[CV] eta0=0.9335555555555557, learning_rate=constant .................\n",
      "[CV] .. eta0=0.9335555555555557, learning_rate=constant, total=   0.0s\n",
      "[CV] eta0=0.9335555555555557, learning_rate=constant .................\n",
      "[CV] .. eta0=0.9335555555555557, learning_rate=constant, total=   0.0s\n",
      "[CV] eta0=0.9335555555555557, learning_rate=constant .................\n",
      "[CV] .. eta0=0.9335555555555557, learning_rate=constant, total=   0.0s\n",
      "[CV] eta0=0.9335555555555557, learning_rate=constant .................\n",
      "[CV] .. eta0=0.9335555555555557, learning_rate=constant, total=   0.0s\n",
      "[CV] eta0=0.9335555555555557, learning_rate=constant .................\n",
      "[CV] .. eta0=0.9335555555555557, learning_rate=constant, total=   0.0s\n",
      "[CV] eta0=0.9335555555555557, learning_rate=adaptive .................\n",
      "[CV] .. eta0=0.9335555555555557, learning_rate=adaptive, total=   0.3s\n",
      "[CV] eta0=0.9335555555555557, learning_rate=adaptive .................\n",
      "[CV] .. eta0=0.9335555555555557, learning_rate=adaptive, total=   0.3s\n",
      "[CV] eta0=0.9335555555555557, learning_rate=adaptive .................\n",
      "[CV] .. eta0=0.9335555555555557, learning_rate=adaptive, total=   0.3s\n",
      "[CV] eta0=0.9335555555555557, learning_rate=adaptive .................\n",
      "[CV] .. eta0=0.9335555555555557, learning_rate=adaptive, total=   0.3s\n",
      "[CV] eta0=0.9335555555555557, learning_rate=adaptive .................\n",
      "[CV] .. eta0=0.9335555555555557, learning_rate=adaptive, total=   0.4s\n",
      "[CV] eta0=0.9335555555555557, learning_rate=invscaling ...............\n",
      "[CV]  eta0=0.9335555555555557, learning_rate=invscaling, total=   0.3s\n",
      "[CV] eta0=0.9335555555555557, learning_rate=invscaling ...............\n",
      "[CV]  eta0=0.9335555555555557, learning_rate=invscaling, total=   0.4s\n",
      "[CV] eta0=0.9335555555555557, learning_rate=invscaling ...............\n",
      "[CV]  eta0=0.9335555555555557, learning_rate=invscaling, total=   0.3s\n",
      "[CV] eta0=0.9335555555555557, learning_rate=invscaling ...............\n",
      "[CV]  eta0=0.9335555555555557, learning_rate=invscaling, total=   0.3s\n",
      "[CV] eta0=0.9335555555555557, learning_rate=invscaling ...............\n",
      "[CV]  eta0=0.9335555555555557, learning_rate=invscaling, total=   0.2s\n",
      "[CV] eta0=0.9335555555555557, learning_rate=optimal ..................\n",
      "[CV] ... eta0=0.9335555555555557, learning_rate=optimal, total=   0.4s\n",
      "[CV] eta0=0.9335555555555557, learning_rate=optimal ..................\n",
      "[CV] ... eta0=0.9335555555555557, learning_rate=optimal, total=   0.3s\n",
      "[CV] eta0=0.9335555555555557, learning_rate=optimal ..................\n",
      "[CV] ... eta0=0.9335555555555557, learning_rate=optimal, total=   0.3s\n",
      "[CV] eta0=0.9335555555555557, learning_rate=optimal ..................\n",
      "[CV] ... eta0=0.9335555555555557, learning_rate=optimal, total=   0.4s\n",
      "[CV] eta0=0.9335555555555557, learning_rate=optimal ..................\n",
      "[CV] ... eta0=0.9335555555555557, learning_rate=optimal, total=   0.3s\n",
      "[CV] eta0=1.0667777777777778, learning_rate=constant .................\n",
      "[CV] .. eta0=1.0667777777777778, learning_rate=constant, total=   0.0s\n",
      "[CV] eta0=1.0667777777777778, learning_rate=constant .................\n",
      "[CV] .. eta0=1.0667777777777778, learning_rate=constant, total=   0.0s\n",
      "[CV] eta0=1.0667777777777778, learning_rate=constant .................\n",
      "[CV] .. eta0=1.0667777777777778, learning_rate=constant, total=   0.0s\n",
      "[CV] eta0=1.0667777777777778, learning_rate=constant .................\n",
      "[CV] .. eta0=1.0667777777777778, learning_rate=constant, total=   0.0s\n",
      "[CV] eta0=1.0667777777777778, learning_rate=constant .................\n",
      "[CV] .. eta0=1.0667777777777778, learning_rate=constant, total=   0.0s\n",
      "[CV] eta0=1.0667777777777778, learning_rate=adaptive .................\n",
      "[CV] .. eta0=1.0667777777777778, learning_rate=adaptive, total=   0.3s\n",
      "[CV] eta0=1.0667777777777778, learning_rate=adaptive .................\n",
      "[CV] .. eta0=1.0667777777777778, learning_rate=adaptive, total=   0.3s\n",
      "[CV] eta0=1.0667777777777778, learning_rate=adaptive .................\n",
      "[CV] .. eta0=1.0667777777777778, learning_rate=adaptive, total=   0.3s\n",
      "[CV] eta0=1.0667777777777778, learning_rate=adaptive .................\n",
      "[CV] .. eta0=1.0667777777777778, learning_rate=adaptive, total=   0.3s\n",
      "[CV] eta0=1.0667777777777778, learning_rate=adaptive .................\n",
      "[CV] .. eta0=1.0667777777777778, learning_rate=adaptive, total=   0.3s\n",
      "[CV] eta0=1.0667777777777778, learning_rate=invscaling ...............\n",
      "[CV]  eta0=1.0667777777777778, learning_rate=invscaling, total=   0.3s\n",
      "[CV] eta0=1.0667777777777778, learning_rate=invscaling ...............\n",
      "[CV]  eta0=1.0667777777777778, learning_rate=invscaling, total=   0.3s\n",
      "[CV] eta0=1.0667777777777778, learning_rate=invscaling ...............\n",
      "[CV]  eta0=1.0667777777777778, learning_rate=invscaling, total=   0.3s\n",
      "[CV] eta0=1.0667777777777778, learning_rate=invscaling ...............\n",
      "[CV]  eta0=1.0667777777777778, learning_rate=invscaling, total=   0.2s\n",
      "[CV] eta0=1.0667777777777778, learning_rate=invscaling ...............\n",
      "[CV]  eta0=1.0667777777777778, learning_rate=invscaling, total=   0.2s\n",
      "[CV] eta0=1.0667777777777778, learning_rate=optimal ..................\n"
     ]
    },
    {
     "name": "stdout",
     "output_type": "stream",
     "text": [
      "[CV] ... eta0=1.0667777777777778, learning_rate=optimal, total=   0.4s\n",
      "[CV] eta0=1.0667777777777778, learning_rate=optimal ..................\n",
      "[CV] ... eta0=1.0667777777777778, learning_rate=optimal, total=   0.3s\n",
      "[CV] eta0=1.0667777777777778, learning_rate=optimal ..................\n",
      "[CV] ... eta0=1.0667777777777778, learning_rate=optimal, total=   0.3s\n",
      "[CV] eta0=1.0667777777777778, learning_rate=optimal ..................\n",
      "[CV] ... eta0=1.0667777777777778, learning_rate=optimal, total=   0.3s\n",
      "[CV] eta0=1.0667777777777778, learning_rate=optimal ..................\n",
      "[CV] ... eta0=1.0667777777777778, learning_rate=optimal, total=   0.3s\n",
      "[CV] eta0=1.2, learning_rate=constant ................................\n",
      "[CV] ................. eta0=1.2, learning_rate=constant, total=   0.0s\n",
      "[CV] eta0=1.2, learning_rate=constant ................................\n",
      "[CV] ................. eta0=1.2, learning_rate=constant, total=   0.0s\n",
      "[CV] eta0=1.2, learning_rate=constant ................................\n",
      "[CV] ................. eta0=1.2, learning_rate=constant, total=   0.1s\n",
      "[CV] eta0=1.2, learning_rate=constant ................................\n",
      "[CV] ................. eta0=1.2, learning_rate=constant, total=   0.0s\n",
      "[CV] eta0=1.2, learning_rate=constant ................................\n",
      "[CV] ................. eta0=1.2, learning_rate=constant, total=   0.0s\n",
      "[CV] eta0=1.2, learning_rate=adaptive ................................\n",
      "[CV] ................. eta0=1.2, learning_rate=adaptive, total=   0.3s\n",
      "[CV] eta0=1.2, learning_rate=adaptive ................................\n",
      "[CV] ................. eta0=1.2, learning_rate=adaptive, total=   0.3s\n",
      "[CV] eta0=1.2, learning_rate=adaptive ................................\n",
      "[CV] ................. eta0=1.2, learning_rate=adaptive, total=   0.3s\n",
      "[CV] eta0=1.2, learning_rate=adaptive ................................\n",
      "[CV] ................. eta0=1.2, learning_rate=adaptive, total=   0.3s\n",
      "[CV] eta0=1.2, learning_rate=adaptive ................................\n",
      "[CV] ................. eta0=1.2, learning_rate=adaptive, total=   0.3s\n",
      "[CV] eta0=1.2, learning_rate=invscaling ..............................\n",
      "[CV] ............... eta0=1.2, learning_rate=invscaling, total=   0.2s\n",
      "[CV] eta0=1.2, learning_rate=invscaling ..............................\n",
      "[CV] ............... eta0=1.2, learning_rate=invscaling, total=   0.2s\n",
      "[CV] eta0=1.2, learning_rate=invscaling ..............................\n",
      "[CV] ............... eta0=1.2, learning_rate=invscaling, total=   0.4s\n",
      "[CV] eta0=1.2, learning_rate=invscaling ..............................\n",
      "[CV] ............... eta0=1.2, learning_rate=invscaling, total=   0.4s\n",
      "[CV] eta0=1.2, learning_rate=invscaling ..............................\n",
      "[CV] ............... eta0=1.2, learning_rate=invscaling, total=   0.2s\n",
      "[CV] eta0=1.2, learning_rate=optimal .................................\n",
      "[CV] .................. eta0=1.2, learning_rate=optimal, total=   0.4s\n",
      "[CV] eta0=1.2, learning_rate=optimal .................................\n",
      "[CV] .................. eta0=1.2, learning_rate=optimal, total=   0.3s\n",
      "[CV] eta0=1.2, learning_rate=optimal .................................\n",
      "[CV] .................. eta0=1.2, learning_rate=optimal, total=   0.3s\n",
      "[CV] eta0=1.2, learning_rate=optimal .................................\n",
      "[CV] .................. eta0=1.2, learning_rate=optimal, total=   0.3s\n",
      "[CV] eta0=1.2, learning_rate=optimal .................................\n",
      "[CV] .................. eta0=1.2, learning_rate=optimal, total=   0.3s\n"
     ]
    },
    {
     "name": "stderr",
     "output_type": "stream",
     "text": [
      "[Parallel(n_jobs=1)]: Done 200 out of 200 | elapsed:   48.5s finished\n"
     ]
    },
    {
     "data": {
      "text/plain": [
       "GridSearchCV(cv=5, error_score=nan,\n",
       "             estimator=SGDClassifier(alpha=0.0001, average=False,\n",
       "                                     class_weight=None, early_stopping=False,\n",
       "                                     epsilon=0.1, eta0=1e-05,\n",
       "                                     fit_intercept=True, l1_ratio=0.15,\n",
       "                                     learning_rate='optimal', loss='log',\n",
       "                                     max_iter=1000, n_iter_no_change=5,\n",
       "                                     n_jobs=None, penalty='l2', power_t=0.5,\n",
       "                                     random_state=2019, shuffle=True, tol=0.001,\n",
       "                                     validation_fraction=0.1,...\n",
       "             iid='deprecated', n_jobs=None,\n",
       "             param_grid={'eta0': array([1.00000000e-03, 1.34222222e-01, 2.67444444e-01, 4.00666667e-01,\n",
       "       5.33888889e-01, 6.67111111e-01, 8.00333333e-01, 9.33555556e-01,\n",
       "       1.06677778e+00, 1.20000000e+00]),\n",
       "                         'learning_rate': ['constant', 'adaptive', 'invscaling',\n",
       "                                           'optimal']},\n",
       "             pre_dispatch='2*n_jobs', refit=True, return_train_score=False,\n",
       "             scoring='roc_auc', verbose=2)"
      ]
     },
     "execution_count": 15,
     "metadata": {},
     "output_type": "execute_result"
    }
   ],
   "source": [
    "from sklearn.model_selection import GridSearchCV\n",
    "\n",
    "eta_range = np.linspace(0.001,1.2,10)\n",
    "lr_range = ['constant','adaptive','invscaling','optimal']\n",
    "sgdClass = SGDClassifier(loss='log',\n",
    "                         eta0=0.00001,random_state=2019)\n",
    "parameters = dict( eta0 = eta_range , learning_rate =lr_range)\n",
    "svmGrid = GridSearchCV(sgdClass, param_grid=parameters, cv=5,\n",
    "                       scoring='roc_auc',verbose=2)\n",
    "svmGrid.fit(X, y)"
   ]
  },
  {
   "cell_type": "markdown",
   "metadata": {},
   "source": [
    "Best Parameters"
   ]
  },
  {
   "cell_type": "code",
   "execution_count": 16,
   "metadata": {},
   "outputs": [
    {
     "name": "stdout",
     "output_type": "stream",
     "text": [
      "{'eta0': 0.6671111111111112, 'learning_rate': 'adaptive'}\n",
      "0.9420920869429562\n"
     ]
    }
   ],
   "source": [
    "print(svmGrid.best_params_)\n",
    "\n",
    "print(svmGrid.best_score_)"
   ]
  }
 ],
 "metadata": {
  "kernelspec": {
   "display_name": "Python 3",
   "language": "python",
   "name": "python3"
  },
  "language_info": {
   "codemirror_mode": {
    "name": "ipython",
    "version": 3
   },
   "file_extension": ".py",
   "mimetype": "text/x-python",
   "name": "python",
   "nbconvert_exporter": "python",
   "pygments_lexer": "ipython3",
   "version": "3.7.4"
  }
 },
 "nbformat": 4,
 "nbformat_minor": 2
}
