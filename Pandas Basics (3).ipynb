{
 "cells": [
  {
   "cell_type": "markdown",
   "metadata": {},
   "source": [
    "# **pandas** Basics"
   ]
  },
  {
   "cell_type": "markdown",
   "metadata": {},
   "source": [
    "1. Given is the dictionary object"
   ]
  },
  {
   "cell_type": "code",
   "execution_count": 1,
   "metadata": {},
   "outputs": [],
   "source": [
    "wpa = {'North America':{'med_wpa':65022,'mean_wpa':391690,'adult_000':271933},\n",
    "       'Europe':{'med_wpa':18153,'mean_wpa':144903,'adult_000':589373},\n",
    "       'China':{'med_wpa':16333,'mean_wpa':47810,'adult_000':1085003},\n",
    "       'Latin America':{'med_wpa':4372,'mean_wpa':18605,'adult_000':432919},\n",
    "       'India':{'med_wpa':1289,'mean_wpa':7024,'adult_000':850210}\n",
    "      }"
   ]
  },
  {
   "cell_type": "code",
   "execution_count": 2,
   "metadata": {},
   "outputs": [
    {
     "data": {
      "text/plain": [
       "{'North America': {'med_wpa': 65022, 'mean_wpa': 391690, 'adult_000': 271933},\n",
       " 'Europe': {'med_wpa': 18153, 'mean_wpa': 144903, 'adult_000': 589373},\n",
       " 'China': {'med_wpa': 16333, 'mean_wpa': 47810, 'adult_000': 1085003},\n",
       " 'Latin America': {'med_wpa': 4372, 'mean_wpa': 18605, 'adult_000': 432919},\n",
       " 'India': {'med_wpa': 1289, 'mean_wpa': 7024, 'adult_000': 850210}}"
      ]
     },
     "execution_count": 2,
     "metadata": {},
     "output_type": "execute_result"
    }
   ],
   "source": [
    "wpa"
   ]
  },
  {
   "cell_type": "markdown",
   "metadata": {},
   "source": [
    "Create a **pandas** data frame object *wpa_df* from the above given dictionary object. Also display the view of the data frame"
   ]
  },
  {
   "cell_type": "code",
   "execution_count": 3,
   "metadata": {},
   "outputs": [
    {
     "data": {
      "text/html": [
       "<div>\n",
       "<style scoped>\n",
       "    .dataframe tbody tr th:only-of-type {\n",
       "        vertical-align: middle;\n",
       "    }\n",
       "\n",
       "    .dataframe tbody tr th {\n",
       "        vertical-align: top;\n",
       "    }\n",
       "\n",
       "    .dataframe thead th {\n",
       "        text-align: right;\n",
       "    }\n",
       "</style>\n",
       "<table border=\"1\" class=\"dataframe\">\n",
       "  <thead>\n",
       "    <tr style=\"text-align: right;\">\n",
       "      <th></th>\n",
       "      <th>North America</th>\n",
       "      <th>Europe</th>\n",
       "      <th>China</th>\n",
       "      <th>Latin America</th>\n",
       "      <th>India</th>\n",
       "    </tr>\n",
       "  </thead>\n",
       "  <tbody>\n",
       "    <tr>\n",
       "      <td>med_wpa</td>\n",
       "      <td>65022</td>\n",
       "      <td>18153</td>\n",
       "      <td>16333</td>\n",
       "      <td>4372</td>\n",
       "      <td>1289</td>\n",
       "    </tr>\n",
       "    <tr>\n",
       "      <td>mean_wpa</td>\n",
       "      <td>391690</td>\n",
       "      <td>144903</td>\n",
       "      <td>47810</td>\n",
       "      <td>18605</td>\n",
       "      <td>7024</td>\n",
       "    </tr>\n",
       "    <tr>\n",
       "      <td>adult_000</td>\n",
       "      <td>271933</td>\n",
       "      <td>589373</td>\n",
       "      <td>1085003</td>\n",
       "      <td>432919</td>\n",
       "      <td>850210</td>\n",
       "    </tr>\n",
       "  </tbody>\n",
       "</table>\n",
       "</div>"
      ],
      "text/plain": [
       "           North America  Europe    China  Latin America   India\n",
       "med_wpa            65022   18153    16333           4372    1289\n",
       "mean_wpa          391690  144903    47810          18605    7024\n",
       "adult_000         271933  589373  1085003         432919  850210"
      ]
     },
     "execution_count": 3,
     "metadata": {},
     "output_type": "execute_result"
    }
   ],
   "source": [
    "import pandas as pd\n",
    "wpa_df=pd.DataFrame(wpa)\n",
    "wpa_df"
   ]
  },
  {
   "cell_type": "markdown",
   "metadata": {},
   "source": [
    "2. Import the file *Cars93.csv* from the folder datasets into pandas data frame object  \n",
    "a. store it in the object **cars_df** "
   ]
  },
  {
   "cell_type": "code",
   "execution_count": 4,
   "metadata": {},
   "outputs": [
    {
     "data": {
      "text/plain": [
       "(3, 5)"
      ]
     },
     "execution_count": 4,
     "metadata": {},
     "output_type": "execute_result"
    }
   ],
   "source": [
    "wpa_df.shape"
   ]
  },
  {
   "cell_type": "code",
   "execution_count": 5,
   "metadata": {},
   "outputs": [
    {
     "data": {
      "text/plain": [
       "<bound method NDFrame.head of            North America  Europe    China  Latin America   India\n",
       "med_wpa            65022   18153    16333           4372    1289\n",
       "mean_wpa          391690  144903    47810          18605    7024\n",
       "adult_000         271933  589373  1085003         432919  850210>"
      ]
     },
     "execution_count": 5,
     "metadata": {},
     "output_type": "execute_result"
    }
   ],
   "source": [
    "wpa_df.head"
   ]
  }
 ],
 "metadata": {
  "kernelspec": {
   "display_name": "Python 3",
   "language": "python",
   "name": "python3"
  },
  "language_info": {
   "codemirror_mode": {
    "name": "ipython",
    "version": 3
   },
   "file_extension": ".py",
   "mimetype": "text/x-python",
   "name": "python",
   "nbconvert_exporter": "python",
   "pygments_lexer": "ipython3",
   "version": "3.7.4"
  }
 },
 "nbformat": 4,
 "nbformat_minor": 2
}
