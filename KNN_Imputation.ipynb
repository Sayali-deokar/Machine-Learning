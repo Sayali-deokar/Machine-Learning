{
 "cells": [
  {
   "cell_type": "markdown",
   "metadata": {},
   "source": [
    "# KNN_Imputation"
   ]
  },
  {
   "cell_type": "markdown",
   "metadata": {},
   "source": [
    "Importing Library as follows"
   ]
  },
  {
   "cell_type": "code",
   "execution_count": 1,
   "metadata": {},
   "outputs": [],
   "source": [
    "import numpy as np\n",
    "from sklearn.impute import KNNImputer"
   ]
  },
  {
   "cell_type": "code",
   "execution_count": 2,
   "metadata": {},
   "outputs": [],
   "source": [
    "X = np.array( [[1,     2,    np.nan],\n",
    "               [8,     6.3,  5.6], \n",
    "               [1.2,   2.3,  4],\n",
    "               [1.25,  2.35, 5],\n",
    "               [1.2,   2.3,  3],\n",
    "               [np.nan,6,    5],\n",
    "               [10,    6.43, 5.61]\n",
    "               ])"
   ]
  },
  {
   "cell_type": "code",
   "execution_count": 3,
   "metadata": {},
   "outputs": [
    {
     "data": {
      "text/plain": [
       "array([[ 1.  ,  2.  ,  3.5 ],\n",
       "       [ 8.  ,  6.3 ,  5.6 ],\n",
       "       [ 1.2 ,  2.3 ,  4.  ],\n",
       "       [ 1.25,  2.35,  5.  ],\n",
       "       [ 1.2 ,  2.3 ,  3.  ],\n",
       "       [ 9.  ,  6.  ,  5.  ],\n",
       "       [10.  ,  6.43,  5.61]])"
      ]
     },
     "execution_count": 3,
     "metadata": {},
     "output_type": "execute_result"
    }
   ],
   "source": [
    "imputer = KNNImputer(n_neighbors=2)\n",
    "imputer.fit_transform(X)"
   ]
  }
 ],
 "metadata": {
  "kernelspec": {
   "display_name": "Python 3",
   "language": "python",
   "name": "python3"
  },
  "language_info": {
   "codemirror_mode": {
    "name": "ipython",
    "version": 3
   },
   "file_extension": ".py",
   "mimetype": "text/x-python",
   "name": "python",
   "nbconvert_exporter": "python",
   "pygments_lexer": "ipython3",
   "version": "3.7.4"
  }
 },
 "nbformat": 4,
 "nbformat_minor": 2
}
