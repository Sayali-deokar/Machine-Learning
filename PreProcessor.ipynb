{
 "cells": [
  {
   "cell_type": "markdown",
   "metadata": {},
   "source": [
    "# PreProcessor"
   ]
  },
  {
   "cell_type": "markdown",
   "metadata": {},
   "source": [
    "Importing Library as follows"
   ]
  },
  {
   "cell_type": "code",
   "execution_count": 1,
   "metadata": {},
   "outputs": [],
   "source": [
    "import pandas as pd"
   ]
  },
  {
   "cell_type": "markdown",
   "metadata": {},
   "source": [
    "Importing dataset form local host and get dummy variables"
   ]
  },
  {
   "cell_type": "code",
   "execution_count": 2,
   "metadata": {},
   "outputs": [
    {
     "data": {
      "text/html": [
       "<div>\n",
       "<style scoped>\n",
       "    .dataframe tbody tr th:only-of-type {\n",
       "        vertical-align: middle;\n",
       "    }\n",
       "\n",
       "    .dataframe tbody tr th {\n",
       "        vertical-align: top;\n",
       "    }\n",
       "\n",
       "    .dataframe thead th {\n",
       "        text-align: right;\n",
       "    }\n",
       "</style>\n",
       "<table border=\"1\" class=\"dataframe\">\n",
       "  <thead>\n",
       "    <tr style=\"text-align: right;\">\n",
       "      <th></th>\n",
       "      <th>Min.Price</th>\n",
       "      <th>Price</th>\n",
       "      <th>Max.Price</th>\n",
       "      <th>MPG.city</th>\n",
       "      <th>MPG.highway</th>\n",
       "      <th>EngineSize</th>\n",
       "      <th>Horsepower</th>\n",
       "      <th>RPM</th>\n",
       "      <th>Rev.per.mile</th>\n",
       "      <th>Fuel.tank.capacity</th>\n",
       "      <th>...</th>\n",
       "      <th>AirBags_None</th>\n",
       "      <th>DriveTrain_Front</th>\n",
       "      <th>DriveTrain_Rear</th>\n",
       "      <th>Cylinders_4</th>\n",
       "      <th>Cylinders_5</th>\n",
       "      <th>Cylinders_6</th>\n",
       "      <th>Cylinders_8</th>\n",
       "      <th>Cylinders_rotary</th>\n",
       "      <th>Man.trans.avail_Yes</th>\n",
       "      <th>Origin_non-USA</th>\n",
       "    </tr>\n",
       "    <tr>\n",
       "      <th>Model</th>\n",
       "      <th></th>\n",
       "      <th></th>\n",
       "      <th></th>\n",
       "      <th></th>\n",
       "      <th></th>\n",
       "      <th></th>\n",
       "      <th></th>\n",
       "      <th></th>\n",
       "      <th></th>\n",
       "      <th></th>\n",
       "      <th></th>\n",
       "      <th></th>\n",
       "      <th></th>\n",
       "      <th></th>\n",
       "      <th></th>\n",
       "      <th></th>\n",
       "      <th></th>\n",
       "      <th></th>\n",
       "      <th></th>\n",
       "      <th></th>\n",
       "      <th></th>\n",
       "    </tr>\n",
       "  </thead>\n",
       "  <tbody>\n",
       "    <tr>\n",
       "      <td>Integra</td>\n",
       "      <td>12.9</td>\n",
       "      <td>15.9</td>\n",
       "      <td>18.8</td>\n",
       "      <td>25</td>\n",
       "      <td>31</td>\n",
       "      <td>1.8</td>\n",
       "      <td>140</td>\n",
       "      <td>6300</td>\n",
       "      <td>2890</td>\n",
       "      <td>13.2</td>\n",
       "      <td>...</td>\n",
       "      <td>1</td>\n",
       "      <td>1</td>\n",
       "      <td>0</td>\n",
       "      <td>1</td>\n",
       "      <td>0</td>\n",
       "      <td>0</td>\n",
       "      <td>0</td>\n",
       "      <td>0</td>\n",
       "      <td>1</td>\n",
       "      <td>1</td>\n",
       "    </tr>\n",
       "    <tr>\n",
       "      <td>Legend</td>\n",
       "      <td>29.2</td>\n",
       "      <td>33.9</td>\n",
       "      <td>38.7</td>\n",
       "      <td>18</td>\n",
       "      <td>25</td>\n",
       "      <td>3.2</td>\n",
       "      <td>200</td>\n",
       "      <td>5500</td>\n",
       "      <td>2335</td>\n",
       "      <td>18.0</td>\n",
       "      <td>...</td>\n",
       "      <td>0</td>\n",
       "      <td>1</td>\n",
       "      <td>0</td>\n",
       "      <td>0</td>\n",
       "      <td>0</td>\n",
       "      <td>1</td>\n",
       "      <td>0</td>\n",
       "      <td>0</td>\n",
       "      <td>1</td>\n",
       "      <td>1</td>\n",
       "    </tr>\n",
       "    <tr>\n",
       "      <td>90</td>\n",
       "      <td>25.9</td>\n",
       "      <td>29.1</td>\n",
       "      <td>32.3</td>\n",
       "      <td>20</td>\n",
       "      <td>26</td>\n",
       "      <td>2.8</td>\n",
       "      <td>172</td>\n",
       "      <td>5500</td>\n",
       "      <td>2280</td>\n",
       "      <td>16.9</td>\n",
       "      <td>...</td>\n",
       "      <td>0</td>\n",
       "      <td>1</td>\n",
       "      <td>0</td>\n",
       "      <td>0</td>\n",
       "      <td>0</td>\n",
       "      <td>1</td>\n",
       "      <td>0</td>\n",
       "      <td>0</td>\n",
       "      <td>1</td>\n",
       "      <td>1</td>\n",
       "    </tr>\n",
       "    <tr>\n",
       "      <td>100</td>\n",
       "      <td>30.8</td>\n",
       "      <td>37.7</td>\n",
       "      <td>44.6</td>\n",
       "      <td>19</td>\n",
       "      <td>26</td>\n",
       "      <td>2.8</td>\n",
       "      <td>172</td>\n",
       "      <td>5500</td>\n",
       "      <td>2535</td>\n",
       "      <td>21.1</td>\n",
       "      <td>...</td>\n",
       "      <td>0</td>\n",
       "      <td>1</td>\n",
       "      <td>0</td>\n",
       "      <td>0</td>\n",
       "      <td>0</td>\n",
       "      <td>1</td>\n",
       "      <td>0</td>\n",
       "      <td>0</td>\n",
       "      <td>1</td>\n",
       "      <td>1</td>\n",
       "    </tr>\n",
       "    <tr>\n",
       "      <td>535i</td>\n",
       "      <td>23.7</td>\n",
       "      <td>30.0</td>\n",
       "      <td>36.2</td>\n",
       "      <td>22</td>\n",
       "      <td>30</td>\n",
       "      <td>3.5</td>\n",
       "      <td>208</td>\n",
       "      <td>5700</td>\n",
       "      <td>2545</td>\n",
       "      <td>21.1</td>\n",
       "      <td>...</td>\n",
       "      <td>0</td>\n",
       "      <td>0</td>\n",
       "      <td>1</td>\n",
       "      <td>1</td>\n",
       "      <td>0</td>\n",
       "      <td>0</td>\n",
       "      <td>0</td>\n",
       "      <td>0</td>\n",
       "      <td>1</td>\n",
       "      <td>1</td>\n",
       "    </tr>\n",
       "    <tr>\n",
       "      <td>Century</td>\n",
       "      <td>14.2</td>\n",
       "      <td>15.7</td>\n",
       "      <td>17.3</td>\n",
       "      <td>22</td>\n",
       "      <td>31</td>\n",
       "      <td>2.2</td>\n",
       "      <td>110</td>\n",
       "      <td>5200</td>\n",
       "      <td>2565</td>\n",
       "      <td>16.4</td>\n",
       "      <td>...</td>\n",
       "      <td>0</td>\n",
       "      <td>1</td>\n",
       "      <td>0</td>\n",
       "      <td>1</td>\n",
       "      <td>0</td>\n",
       "      <td>0</td>\n",
       "      <td>0</td>\n",
       "      <td>0</td>\n",
       "      <td>0</td>\n",
       "      <td>0</td>\n",
       "    </tr>\n",
       "    <tr>\n",
       "      <td>LeSabre</td>\n",
       "      <td>19.9</td>\n",
       "      <td>20.8</td>\n",
       "      <td>21.7</td>\n",
       "      <td>19</td>\n",
       "      <td>28</td>\n",
       "      <td>3.8</td>\n",
       "      <td>170</td>\n",
       "      <td>4800</td>\n",
       "      <td>1570</td>\n",
       "      <td>18.0</td>\n",
       "      <td>...</td>\n",
       "      <td>0</td>\n",
       "      <td>1</td>\n",
       "      <td>0</td>\n",
       "      <td>0</td>\n",
       "      <td>0</td>\n",
       "      <td>1</td>\n",
       "      <td>0</td>\n",
       "      <td>0</td>\n",
       "      <td>0</td>\n",
       "      <td>0</td>\n",
       "    </tr>\n",
       "    <tr>\n",
       "      <td>Roadmaster</td>\n",
       "      <td>22.6</td>\n",
       "      <td>23.7</td>\n",
       "      <td>24.9</td>\n",
       "      <td>16</td>\n",
       "      <td>25</td>\n",
       "      <td>5.7</td>\n",
       "      <td>180</td>\n",
       "      <td>4000</td>\n",
       "      <td>1320</td>\n",
       "      <td>23.0</td>\n",
       "      <td>...</td>\n",
       "      <td>0</td>\n",
       "      <td>0</td>\n",
       "      <td>1</td>\n",
       "      <td>0</td>\n",
       "      <td>0</td>\n",
       "      <td>1</td>\n",
       "      <td>0</td>\n",
       "      <td>0</td>\n",
       "      <td>0</td>\n",
       "      <td>0</td>\n",
       "    </tr>\n",
       "    <tr>\n",
       "      <td>Riviera</td>\n",
       "      <td>26.3</td>\n",
       "      <td>26.3</td>\n",
       "      <td>26.3</td>\n",
       "      <td>19</td>\n",
       "      <td>27</td>\n",
       "      <td>3.8</td>\n",
       "      <td>170</td>\n",
       "      <td>4800</td>\n",
       "      <td>1690</td>\n",
       "      <td>18.8</td>\n",
       "      <td>...</td>\n",
       "      <td>0</td>\n",
       "      <td>1</td>\n",
       "      <td>0</td>\n",
       "      <td>0</td>\n",
       "      <td>0</td>\n",
       "      <td>1</td>\n",
       "      <td>0</td>\n",
       "      <td>0</td>\n",
       "      <td>0</td>\n",
       "      <td>0</td>\n",
       "    </tr>\n",
       "    <tr>\n",
       "      <td>DeVille</td>\n",
       "      <td>33.0</td>\n",
       "      <td>34.7</td>\n",
       "      <td>36.3</td>\n",
       "      <td>16</td>\n",
       "      <td>25</td>\n",
       "      <td>4.9</td>\n",
       "      <td>200</td>\n",
       "      <td>4100</td>\n",
       "      <td>1510</td>\n",
       "      <td>18.0</td>\n",
       "      <td>...</td>\n",
       "      <td>0</td>\n",
       "      <td>1</td>\n",
       "      <td>0</td>\n",
       "      <td>0</td>\n",
       "      <td>0</td>\n",
       "      <td>0</td>\n",
       "      <td>1</td>\n",
       "      <td>0</td>\n",
       "      <td>0</td>\n",
       "      <td>0</td>\n",
       "    </tr>\n",
       "  </tbody>\n",
       "</table>\n",
       "<p>10 rows × 65 columns</p>\n",
       "</div>"
      ],
      "text/plain": [
       "            Min.Price  Price  Max.Price  MPG.city  MPG.highway  EngineSize  \\\n",
       "Model                                                                        \n",
       "Integra          12.9   15.9       18.8        25           31         1.8   \n",
       "Legend           29.2   33.9       38.7        18           25         3.2   \n",
       "90               25.9   29.1       32.3        20           26         2.8   \n",
       "100              30.8   37.7       44.6        19           26         2.8   \n",
       "535i             23.7   30.0       36.2        22           30         3.5   \n",
       "Century          14.2   15.7       17.3        22           31         2.2   \n",
       "LeSabre          19.9   20.8       21.7        19           28         3.8   \n",
       "Roadmaster       22.6   23.7       24.9        16           25         5.7   \n",
       "Riviera          26.3   26.3       26.3        19           27         3.8   \n",
       "DeVille          33.0   34.7       36.3        16           25         4.9   \n",
       "\n",
       "            Horsepower   RPM  Rev.per.mile  Fuel.tank.capacity  ...  \\\n",
       "Model                                                           ...   \n",
       "Integra            140  6300          2890                13.2  ...   \n",
       "Legend             200  5500          2335                18.0  ...   \n",
       "90                 172  5500          2280                16.9  ...   \n",
       "100                172  5500          2535                21.1  ...   \n",
       "535i               208  5700          2545                21.1  ...   \n",
       "Century            110  5200          2565                16.4  ...   \n",
       "LeSabre            170  4800          1570                18.0  ...   \n",
       "Roadmaster         180  4000          1320                23.0  ...   \n",
       "Riviera            170  4800          1690                18.8  ...   \n",
       "DeVille            200  4100          1510                18.0  ...   \n",
       "\n",
       "            AirBags_None  DriveTrain_Front  DriveTrain_Rear  Cylinders_4  \\\n",
       "Model                                                                      \n",
       "Integra                1                 1                0            1   \n",
       "Legend                 0                 1                0            0   \n",
       "90                     0                 1                0            0   \n",
       "100                    0                 1                0            0   \n",
       "535i                   0                 0                1            1   \n",
       "Century                0                 1                0            1   \n",
       "LeSabre                0                 1                0            0   \n",
       "Roadmaster             0                 0                1            0   \n",
       "Riviera                0                 1                0            0   \n",
       "DeVille                0                 1                0            0   \n",
       "\n",
       "            Cylinders_5  Cylinders_6  Cylinders_8  Cylinders_rotary  \\\n",
       "Model                                                                 \n",
       "Integra               0            0            0                 0   \n",
       "Legend                0            1            0                 0   \n",
       "90                    0            1            0                 0   \n",
       "100                   0            1            0                 0   \n",
       "535i                  0            0            0                 0   \n",
       "Century               0            0            0                 0   \n",
       "LeSabre               0            1            0                 0   \n",
       "Roadmaster            0            1            0                 0   \n",
       "Riviera               0            1            0                 0   \n",
       "DeVille               0            0            1                 0   \n",
       "\n",
       "            Man.trans.avail_Yes  Origin_non-USA  \n",
       "Model                                            \n",
       "Integra                       1               1  \n",
       "Legend                        1               1  \n",
       "90                            1               1  \n",
       "100                           1               1  \n",
       "535i                          1               1  \n",
       "Century                       0               0  \n",
       "LeSabre                       0               0  \n",
       "Roadmaster                    0               0  \n",
       "Riviera                       0               0  \n",
       "DeVille                       0               0  \n",
       "\n",
       "[10 rows x 65 columns]"
      ]
     },
     "execution_count": 2,
     "metadata": {},
     "output_type": "execute_result"
    }
   ],
   "source": [
    "cars = pd.read_csv(\"D:/Statistics (Python)/Datasets/Cars93.csv\")\n",
    "\n",
    "cars.head(n=10)\n",
    "cars.set_index('Model',inplace=True)\n",
    "\n",
    "dum_cars = pd.get_dummies(cars, drop_first=True)\n",
    "\n",
    "dum_cars.head(n=10)"
   ]
  },
  {
   "cell_type": "markdown",
   "metadata": {},
   "source": [
    "Label Encoding"
   ]
  },
  {
   "cell_type": "code",
   "execution_count": 4,
   "metadata": {},
   "outputs": [
    {
     "name": "stdout",
     "output_type": "stream",
     "text": [
      "[0 1 0 0 2 0 1 1 0 2 0]\n"
     ]
    }
   ],
   "source": [
    "from sklearn.preprocessing import LabelEncoder\n",
    "lbcode = LabelEncoder()\n",
    "y = ['a','b','a','a','c','a','b','b','a','c','a']\n",
    "trny = lbcode.fit_transform(y)\n",
    "print(trny)"
   ]
  },
  {
   "cell_type": "markdown",
   "metadata": {},
   "source": [
    "Importing dataset form local host"
   ]
  },
  {
   "cell_type": "code",
   "execution_count": 5,
   "metadata": {},
   "outputs": [
    {
     "data": {
      "text/plain": [
       "(76, 25)"
      ]
     },
     "execution_count": 5,
     "metadata": {},
     "output_type": "execute_result"
    }
   ],
   "source": [
    "carsMissing = pd.read_csv(\"D:/Statistics (Python)/Datasets/Cars93Missing.csv\",index_col=1)\n",
    "\n",
    "carsMissing.shape\n",
    "\n",
    "carsDropNA = carsMissing.dropna()\n",
    "carsDropNA.shape"
   ]
  },
  {
   "cell_type": "markdown",
   "metadata": {},
   "source": [
    "Dummying the data"
   ]
  },
  {
   "cell_type": "code",
   "execution_count": 6,
   "metadata": {},
   "outputs": [],
   "source": [
    "dum_cars_miss = pd.get_dummies(carsMissing, drop_first=True)"
   ]
  },
  {
   "cell_type": "code",
   "execution_count": 7,
   "metadata": {},
   "outputs": [
    {
     "data": {
      "text/plain": [
       "(93, 65)"
      ]
     },
     "execution_count": 7,
     "metadata": {},
     "output_type": "execute_result"
    }
   ],
   "source": [
    "from sklearn.impute import SimpleImputer\n",
    "imp = SimpleImputer(strategy='mean')\n",
    "carsImputed = imp.fit_transform(dum_cars_miss)\n",
    "\n",
    "df_carsImputed = pd.DataFrame(carsImputed,columns= dum_cars_miss.columns)\n",
    "\n",
    "dum_cars_miss.shape\n",
    "carsImputed.shape\n",
    "df_carsImputed.shape"
   ]
  },
  {
   "cell_type": "markdown",
   "metadata": {},
   "source": [
    "Importing dataset form local host"
   ]
  },
  {
   "cell_type": "code",
   "execution_count": 8,
   "metadata": {},
   "outputs": [
    {
     "data": {
      "text/plain": [
       "(water      78.1840\n",
       " protein     6.2120\n",
       " fat        10.3080\n",
       " lactose     4.1320\n",
       " ash         0.8632\n",
       " dtype: float64, water      12.558939\n",
       " protein     3.578751\n",
       " fat        10.305491\n",
       " lactose     1.794819\n",
       " ash         0.494625\n",
       " dtype: float64)"
      ]
     },
     "execution_count": 8,
     "metadata": {},
     "output_type": "execute_result"
    }
   ],
   "source": [
    "import numpy as np\n",
    "milk = pd.read_csv(\"D:/Statistics (Python)/Datasets/milk.csv\",index_col=0)\n",
    "milk.head()\n",
    "np.mean(milk), np.std(milk)"
   ]
  },
  {
   "cell_type": "code",
   "execution_count": 9,
   "metadata": {},
   "outputs": [],
   "source": [
    "from sklearn.preprocessing import StandardScaler\n",
    "scaler = StandardScaler()\n",
    "scaler.fit(milk)\n",
    "milkscaled=scaler.transform(milk)"
   ]
  },
  {
   "cell_type": "markdown",
   "metadata": {},
   "source": [
    " OR"
   ]
  },
  {
   "cell_type": "code",
   "execution_count": 10,
   "metadata": {},
   "outputs": [
    {
     "data": {
      "text/plain": [
       "(4.440892098500626e-18, 1.0)"
      ]
     },
     "execution_count": 10,
     "metadata": {},
     "output_type": "execute_result"
    }
   ],
   "source": [
    "milkscaled=scaler.fit_transform(milk)\n",
    "\n",
    "np.mean(milkscaled[:,0]), np.std(milkscaled[:,0])\n",
    "np.mean(milkscaled[:,1]), np.std(milkscaled[:,1])\n",
    "np.mean(milkscaled[:,2]), np.std(milkscaled[:,2])\n",
    "np.mean(milkscaled[:,3]), np.std(milkscaled[:,3])\n",
    "np.mean(milkscaled[:,4]), np.std(milkscaled[:,4])"
   ]
  },
  {
   "cell_type": "markdown",
   "metadata": {},
   "source": [
    "Converting numpy array to pandas"
   ]
  },
  {
   "cell_type": "code",
   "execution_count": 11,
   "metadata": {},
   "outputs": [
    {
     "data": {
      "text/plain": [
       "array([[0.95824176, 0.06837607, 0.06097561, 0.86956522, 0.06363636],\n",
       "       [0.95604396, 0.13675214, 0.04146341, 0.92753623, 0.03636364],\n",
       "       [0.9978022 , 0.09401709, 0.0097561 , 0.89855072, 0.13636364],\n",
       "       [1.        , 0.        , 0.08536585, 0.63768116, 0.        ]])"
      ]
     },
     "execution_count": 11,
     "metadata": {},
     "output_type": "execute_result"
    }
   ],
   "source": [
    "df_milk = pd.DataFrame(milkscaled,columns=milk.columns,\n",
    "                       index=milk.index)\n",
    "\n",
    "from sklearn.preprocessing import MinMaxScaler\n",
    "minmax = MinMaxScaler()\n",
    "minmax.fit(milk)\n",
    "minmaxMilk = minmax.transform(milk)\n",
    "minmaxMilk[1:5,]"
   ]
  },
  {
   "cell_type": "markdown",
   "metadata": {},
   "source": [
    "OR"
   ]
  },
  {
   "cell_type": "code",
   "execution_count": 12,
   "metadata": {},
   "outputs": [],
   "source": [
    "minmaxMilk = minmax.fit_transform(milk)"
   ]
  }
 ],
 "metadata": {
  "kernelspec": {
   "display_name": "Python 3",
   "language": "python",
   "name": "python3"
  },
  "language_info": {
   "codemirror_mode": {
    "name": "ipython",
    "version": 3
   },
   "file_extension": ".py",
   "mimetype": "text/x-python",
   "name": "python",
   "nbconvert_exporter": "python",
   "pygments_lexer": "ipython3",
   "version": "3.7.4"
  }
 },
 "nbformat": 4,
 "nbformat_minor": 2
}
