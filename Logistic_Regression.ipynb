{
 "cells": [
  {
   "cell_type": "markdown",
   "metadata": {},
   "source": [
    "# Logistic_Reggresion"
   ]
  },
  {
   "cell_type": "markdown",
   "metadata": {},
   "source": [
    "Importing Library as follows"
   ]
  },
  {
   "cell_type": "code",
   "execution_count": 1,
   "metadata": {},
   "outputs": [],
   "source": [
    "import pandas as pd\n",
    "import numpy as np"
   ]
  },
  {
   "cell_type": "markdown",
   "metadata": {},
   "source": [
    "Importing dataset form local host and get dummy variables"
   ]
  },
  {
   "cell_type": "code",
   "execution_count": 2,
   "metadata": {},
   "outputs": [],
   "source": [
    "Default = pd.read_csv(\"D:/Statistics (Python)/Datasets/Default.csv\")\n",
    "dum_Default = pd.get_dummies(Default, drop_first=True)"
   ]
  },
  {
   "cell_type": "markdown",
   "metadata": {},
   "source": [
    "*** Considering only Student variable***"
   ]
  },
  {
   "cell_type": "markdown",
   "metadata": {},
   "source": [
    "X=pd.DataFrame(dum_Default['student_Yes'])"
   ]
  },
  {
   "cell_type": "code",
   "execution_count": 5,
   "metadata": {},
   "outputs": [],
   "source": [
    "X = dum_Default.iloc[:,[0,1,3]]\n",
    "y = dum_Default.iloc[:,2]"
   ]
  },
  {
   "cell_type": "markdown",
   "metadata": {},
   "source": [
    " Import the necessary modules"
   ]
  },
  {
   "cell_type": "code",
   "execution_count": 6,
   "metadata": {},
   "outputs": [],
   "source": [
    "from sklearn.linear_model import LogisticRegression\n",
    "from sklearn.model_selection import train_test_split \n",
    "from sklearn.metrics import confusion_matrix, classification_report\n",
    "from sklearn.metrics import accuracy_score"
   ]
  },
  {
   "cell_type": "markdown",
   "metadata": {},
   "source": [
    " Create training and test sets"
   ]
  },
  {
   "cell_type": "code",
   "execution_count": 7,
   "metadata": {},
   "outputs": [],
   "source": [
    "X_train, X_test, y_train, y_test = train_test_split(X, y, test_size = 0.4, \n",
    "                                                    random_state=42)"
   ]
  },
  {
   "cell_type": "markdown",
   "metadata": {},
   "source": [
    "Create the classifier: logreg"
   ]
  },
  {
   "cell_type": "code",
   "execution_count": 9,
   "metadata": {},
   "outputs": [],
   "source": [
    "logreg = LogisticRegression()"
   ]
  },
  {
   "cell_type": "markdown",
   "metadata": {},
   "source": [
    "Fit the classifier to the training data"
   ]
  },
  {
   "cell_type": "code",
   "execution_count": 10,
   "metadata": {},
   "outputs": [
    {
     "data": {
      "text/plain": [
       "LogisticRegression(C=1.0, class_weight=None, dual=False, fit_intercept=True,\n",
       "                   intercept_scaling=1, l1_ratio=None, max_iter=100,\n",
       "                   multi_class='auto', n_jobs=None, penalty='l2',\n",
       "                   random_state=None, solver='lbfgs', tol=0.0001, verbose=0,\n",
       "                   warm_start=False)"
      ]
     },
     "execution_count": 10,
     "metadata": {},
     "output_type": "execute_result"
    }
   ],
   "source": [
    "logreg.fit(X_train,y_train)"
   ]
  },
  {
   "cell_type": "markdown",
   "metadata": {},
   "source": [
    "Predict the labels of the test set: y_pred"
   ]
  },
  {
   "cell_type": "code",
   "execution_count": 11,
   "metadata": {},
   "outputs": [],
   "source": [
    "y_pred = logreg.predict(X_test)"
   ]
  },
  {
   "cell_type": "markdown",
   "metadata": {},
   "source": [
    " Compute and print the confusion matrix and classification report"
   ]
  },
  {
   "cell_type": "code",
   "execution_count": 12,
   "metadata": {},
   "outputs": [
    {
     "name": "stdout",
     "output_type": "stream",
     "text": [
      "[[3862    3]\n",
      " [ 135    0]]\n"
     ]
    }
   ],
   "source": [
    "print(confusion_matrix(y_test, y_pred))"
   ]
  },
  {
   "cell_type": "code",
   "execution_count": 13,
   "metadata": {},
   "outputs": [
    {
     "name": "stdout",
     "output_type": "stream",
     "text": [
      "              precision    recall  f1-score   support\n",
      "\n",
      "           0       0.97      1.00      0.98      3865\n",
      "           1       0.00      0.00      0.00       135\n",
      "\n",
      "    accuracy                           0.97      4000\n",
      "   macro avg       0.48      0.50      0.49      4000\n",
      "weighted avg       0.93      0.97      0.95      4000\n",
      "\n"
     ]
    }
   ],
   "source": [
    "print(classification_report(y_test, y_pred))"
   ]
  },
  {
   "cell_type": "code",
   "execution_count": 14,
   "metadata": {},
   "outputs": [
    {
     "name": "stdout",
     "output_type": "stream",
     "text": [
      "0.9655\n"
     ]
    }
   ],
   "source": [
    "print(accuracy_score(y_test,y_pred))"
   ]
  },
  {
   "cell_type": "markdown",
   "metadata": {},
   "source": [
    "***ROC***"
   ]
  },
  {
   "cell_type": "markdown",
   "metadata": {},
   "source": [
    " Import necessary modules"
   ]
  },
  {
   "cell_type": "code",
   "execution_count": 15,
   "metadata": {},
   "outputs": [],
   "source": [
    "from sklearn.metrics import roc_curve, roc_auc_score"
   ]
  },
  {
   "cell_type": "markdown",
   "metadata": {},
   "source": [
    " Compute predicted probabilities: y_pred_prob"
   ]
  },
  {
   "cell_type": "code",
   "execution_count": 16,
   "metadata": {},
   "outputs": [],
   "source": [
    "y_pred_prob = logreg.predict_proba(X_test)[:,1]"
   ]
  },
  {
   "cell_type": "markdown",
   "metadata": {},
   "source": [
    " Generate ROC curve values: fpr, tpr, thresholds"
   ]
  },
  {
   "cell_type": "code",
   "execution_count": 17,
   "metadata": {},
   "outputs": [],
   "source": [
    "fpr, tpr, thresholds = roc_curve(y_test, y_pred_prob)"
   ]
  },
  {
   "cell_type": "markdown",
   "metadata": {},
   "source": [
    " Plot ROC curve"
   ]
  },
  {
   "cell_type": "code",
   "execution_count": 19,
   "metadata": {},
   "outputs": [
    {
     "data": {
      "image/png": "[encoded data removed]",
      "text/plain": [
       "<Figure size 432x288 with 1 Axes>"
      ]
     },
     "metadata": {
      "needs_background": "light"
     },
     "output_type": "display_data"
    }
   ],
   "source": [
    "import matplotlib.pyplot as plt\n",
    "plt.plot([0, 1], [0, 1], 'k--')\n",
    "plt.plot(fpr, tpr)\n",
    "plt.xlabel('False Positive Rate')\n",
    "plt.ylabel('True Positive Rate')\n",
    "plt.title('ROC Curve')\n",
    "plt.show()"
   ]
  },
  {
   "cell_type": "code",
   "execution_count": 20,
   "metadata": {},
   "outputs": [
    {
     "data": {
      "text/plain": [
       "0.5686857361889703"
      ]
     },
     "execution_count": 20,
     "metadata": {},
     "output_type": "execute_result"
    }
   ],
   "source": [
    "roc_auc_score(y_test, y_pred_prob)"
   ]
  },
  {
   "cell_type": "markdown",
   "metadata": {},
   "source": [
    " Tuning Logistic with C "
   ]
  },
  {
   "cell_type": "code",
   "execution_count": 22,
   "metadata": {},
   "outputs": [],
   "source": [
    "from sklearn.model_selection import GridSearchCV\n",
    "c_space = np.array([0.01,0.1,0.25,0.3,0.5,0.6,0.7,0.9,1,1.1,1.2,1.5])\n",
    "param_grid = {'C': c_space}\n",
    "\n",
    "logreg = LogisticRegression(penalty='l2')"
   ]
  },
  {
   "cell_type": "markdown",
   "metadata": {},
   "source": [
    " Instantiate the GridSearchCV object: logreg_cv"
   ]
  },
  {
   "cell_type": "code",
   "execution_count": 23,
   "metadata": {},
   "outputs": [],
   "source": [
    "logreg_cv = GridSearchCV(logreg, param_grid, cv=5)"
   ]
  },
  {
   "cell_type": "markdown",
   "metadata": {},
   "source": [
    " Fit it to the data"
   ]
  },
  {
   "cell_type": "code",
   "execution_count": 24,
   "metadata": {},
   "outputs": [
    {
     "name": "stdout",
     "output_type": "stream",
     "text": [
      "{'mean_fit_time': array([0.08332858, 0.08534708, 0.08927965, 0.07663593, 0.07340193,\n",
      "       0.0822516 , 0.09364514, 0.08952436, 0.07570372, 0.07941313,\n",
      "       0.08295693, 0.08332043]), 'std_fit_time': array([0.01731764, 0.02368931, 0.01704805, 0.01285214, 0.01393461,\n",
      "       0.01343148, 0.02723626, 0.01365995, 0.01819289, 0.01198088,\n",
      "       0.00906715, 0.0102167 ]), 'mean_score_time': array([0.0006043 , 0.00672812, 0.00052862, 0.00627337, 0.        ,\n",
      "       0.00354843, 0.00547161, 0.00110321, 0.003124  , 0.00019941,\n",
      "       0.00045156, 0.        ]), 'std_score_time': array([0.00120859, 0.00824085, 0.00105724, 0.00768329, 0.        ,\n",
      "       0.00660939, 0.00163561, 0.00097507, 0.006248  , 0.00039883,\n",
      "       0.00090313, 0.        ]), 'param_C': masked_array(data=[0.01, 0.1, 0.25, 0.3, 0.5, 0.6, 0.7, 0.9, 1.0, 1.1,\n",
      "                   1.2, 1.5],\n",
      "             mask=[False, False, False, False, False, False, False, False,\n",
      "                   False, False, False, False],\n",
      "       fill_value='?',\n",
      "            dtype=object), 'params': [{'C': 0.01}, {'C': 0.1}, {'C': 0.25}, {'C': 0.3}, {'C': 0.5}, {'C': 0.6}, {'C': 0.7}, {'C': 0.9}, {'C': 1.0}, {'C': 1.1}, {'C': 1.2}, {'C': 1.5}], 'split0_test_score': array([0.967 , 0.966 , 0.975 , 0.975 , 0.975 , 0.975 , 0.975 , 0.975 ,\n",
      "       0.975 , 0.9755, 0.9755, 0.9755]), 'split1_test_score': array([0.966 , 0.969 , 0.969 , 0.969 , 0.9685, 0.9685, 0.974 , 0.9685,\n",
      "       0.9685, 0.9685, 0.9685, 0.9685]), 'split2_test_score': array([0.967 , 0.971 , 0.968 , 0.968 , 0.968 , 0.9685, 0.9685, 0.9685,\n",
      "       0.9685, 0.9685, 0.9685, 0.9685]), 'split3_test_score': array([0.9735, 0.966 , 0.9725, 0.9675, 0.968 , 0.972 , 0.9675, 0.9675,\n",
      "       0.9675, 0.9675, 0.9675, 0.9675]), 'split4_test_score': array([0.9745, 0.9735, 0.965 , 0.9655, 0.965 , 0.965 , 0.965 , 0.9645,\n",
      "       0.9645, 0.964 , 0.964 , 0.964 ]), 'mean_test_score': array([0.9696, 0.9691, 0.9699, 0.969 , 0.9689, 0.9698, 0.97  , 0.9688,\n",
      "       0.9688, 0.9688, 0.9688, 0.9688]), 'std_test_score': array([0.00362491, 0.00290517, 0.00349857, 0.00320936, 0.00329242,\n",
      "       0.00341467, 0.00386005, 0.00342929, 0.00342929, 0.00373631,\n",
      "       0.00373631, 0.00373631]), 'rank_test_score': array([ 4,  5,  2,  6,  7,  3,  1,  8,  8, 10, 10, 10])}\n"
     ]
    }
   ],
   "source": [
    "logreg_cv.fit(X,y)\n",
    "\n",
    "print(logreg_cv.cv_results_ )"
   ]
  },
  {
   "cell_type": "code",
   "execution_count": 25,
   "metadata": {},
   "outputs": [
    {
     "name": "stdout",
     "output_type": "stream",
     "text": [
      "0.97\n"
     ]
    }
   ],
   "source": [
    "print(logreg_cv.best_score_)"
   ]
  },
  {
   "cell_type": "code",
   "execution_count": 26,
   "metadata": {},
   "outputs": [
    {
     "name": "stdout",
     "output_type": "stream",
     "text": [
      "{'C': 0.7}\n"
     ]
    }
   ],
   "source": [
    "print(logreg_cv.best_params_)"
   ]
  }
 ],
 "metadata": {
  "kernelspec": {
   "display_name": "Python 3",
   "language": "python",
   "name": "python3"
  },
  "language_info": {
   "codemirror_mode": {
    "name": "ipython",
    "version": 3
   },
   "file_extension": ".py",
   "mimetype": "text/x-python",
   "name": "python",
   "nbconvert_exporter": "python",
   "pygments_lexer": "ipython3",
   "version": "3.7.4"
  }
 },
 "nbformat": 4,
 "nbformat_minor": 2
}
