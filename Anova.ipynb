{
 "cells": [
  {
   "cell_type": "markdown",
   "metadata": {},
   "source": [
    "# Anova"
   ]
  },
  {
   "cell_type": "markdown",
   "metadata": {},
   "source": [
    "Importing Library as follows"
   ]
  },
  {
   "cell_type": "code",
   "execution_count": 1,
   "metadata": {},
   "outputs": [],
   "source": [
    "import pandas as pd\n",
    "\n",
    "from statsmodels.stats.anova import anova_lm\n",
    "from statsmodels.formula.api import ols"
   ]
  },
  {
   "cell_type": "markdown",
   "metadata": {},
   "source": [
    "****Example 1****"
   ]
  },
  {
   "cell_type": "markdown",
   "metadata": {},
   "source": [
    "Importing dataset form local host"
   ]
  },
  {
   "cell_type": "code",
   "execution_count": 2,
   "metadata": {},
   "outputs": [
    {
     "name": "stdout",
     "output_type": "stream",
     "text": [
      "                 sum_sq    df          F    PR(>F)\n",
      "Treatments  1551.607762   3.0  18.293252  0.000006\n",
      "Residual     565.457238  20.0        NaN       NaN\n"
     ]
    }
   ],
   "source": [
    "agr = pd.read_csv(\"D:/Statistics (Python)/Datasets/Yield.csv\")\n",
    "agrYield = ols('Yield ~ Treatments', data=agr).fit()\n",
    "table = anova_lm(agrYield, typ=2)\n",
    "print(table)"
   ]
  },
  {
   "cell_type": "markdown",
   "metadata": {},
   "source": [
    "Post Hoc Tukey HSD "
   ]
  },
  {
   "cell_type": "code",
   "execution_count": 3,
   "metadata": {},
   "outputs": [
    {
     "data": {
      "text/html": [
       "<div>\n",
       "<style scoped>\n",
       "    .dataframe tbody tr th:only-of-type {\n",
       "        vertical-align: middle;\n",
       "    }\n",
       "\n",
       "    .dataframe tbody tr th {\n",
       "        vertical-align: top;\n",
       "    }\n",
       "\n",
       "    .dataframe thead th {\n",
       "        text-align: right;\n",
       "    }\n",
       "</style>\n",
       "<table border=\"1\" class=\"dataframe\">\n",
       "  <thead>\n",
       "    <tr style=\"text-align: right;\">\n",
       "      <th></th>\n",
       "      <th>group1</th>\n",
       "      <th>group2</th>\n",
       "      <th>meandiff</th>\n",
       "      <th>p-adj</th>\n",
       "      <th>lower</th>\n",
       "      <th>upper</th>\n",
       "      <th>reject</th>\n",
       "    </tr>\n",
       "  </thead>\n",
       "  <tbody>\n",
       "    <tr>\n",
       "      <td>0</td>\n",
       "      <td>I</td>\n",
       "      <td>II</td>\n",
       "      <td>13.0976</td>\n",
       "      <td>0.0014</td>\n",
       "      <td>4.8174</td>\n",
       "      <td>21.3779</td>\n",
       "      <td>True</td>\n",
       "    </tr>\n",
       "    <tr>\n",
       "      <td>1</td>\n",
       "      <td>I</td>\n",
       "      <td>III</td>\n",
       "      <td>-0.6567</td>\n",
       "      <td>0.9000</td>\n",
       "      <td>-9.6689</td>\n",
       "      <td>8.3556</td>\n",
       "      <td>False</td>\n",
       "    </tr>\n",
       "    <tr>\n",
       "      <td>2</td>\n",
       "      <td>I</td>\n",
       "      <td>IV</td>\n",
       "      <td>18.1000</td>\n",
       "      <td>0.0010</td>\n",
       "      <td>9.5072</td>\n",
       "      <td>26.6928</td>\n",
       "      <td>True</td>\n",
       "    </tr>\n",
       "    <tr>\n",
       "      <td>3</td>\n",
       "      <td>II</td>\n",
       "      <td>III</td>\n",
       "      <td>-13.7543</td>\n",
       "      <td>0.0014</td>\n",
       "      <td>-22.4690</td>\n",
       "      <td>-5.0396</td>\n",
       "      <td>True</td>\n",
       "    </tr>\n",
       "    <tr>\n",
       "      <td>4</td>\n",
       "      <td>II</td>\n",
       "      <td>IV</td>\n",
       "      <td>5.0024</td>\n",
       "      <td>0.3546</td>\n",
       "      <td>-3.2779</td>\n",
       "      <td>13.2826</td>\n",
       "      <td>False</td>\n",
       "    </tr>\n",
       "    <tr>\n",
       "      <td>5</td>\n",
       "      <td>III</td>\n",
       "      <td>IV</td>\n",
       "      <td>18.7567</td>\n",
       "      <td>0.0010</td>\n",
       "      <td>9.7444</td>\n",
       "      <td>27.7689</td>\n",
       "      <td>True</td>\n",
       "    </tr>\n",
       "  </tbody>\n",
       "</table>\n",
       "</div>"
      ],
      "text/plain": [
       "  group1 group2  meandiff   p-adj    lower    upper  reject\n",
       "0      I     II   13.0976  0.0014   4.8174  21.3779    True\n",
       "1      I    III   -0.6567  0.9000  -9.6689   8.3556   False\n",
       "2      I     IV   18.1000  0.0010   9.5072  26.6928    True\n",
       "3     II    III  -13.7543  0.0014 -22.4690  -5.0396    True\n",
       "4     II     IV    5.0024  0.3546  -3.2779  13.2826   False\n",
       "5    III     IV   18.7567  0.0010   9.7444  27.7689    True"
      ]
     },
     "execution_count": 3,
     "metadata": {},
     "output_type": "execute_result"
    }
   ],
   "source": [
    "from statsmodels.stats.multicomp import pairwise_tukeyhsd\n",
    "\n",
    "compare = pairwise_tukeyhsd(agr.Yield, agr.Treatments, alpha=0.05)\n",
    "compare._results_table.data\n",
    "compare.confint\n",
    "compare.reject\n",
    "\n",
    "dd = pd.DataFrame(compare._results_table.data[1:],\n",
    "                  columns=compare._results_table.data[0])\n",
    "dd"
   ]
  },
  {
   "cell_type": "markdown",
   "metadata": {},
   "source": [
    "***Example 2***"
   ]
  },
  {
   "cell_type": "code",
   "execution_count": 4,
   "metadata": {},
   "outputs": [
    {
     "name": "stdout",
     "output_type": "stream",
     "text": [
      "               sum_sq    df         F    PR(>F)\n",
      "Treat      918.986916   2.0  8.650628  0.000444\n",
      "Residual  3665.057528  69.0       NaN       NaN\n"
     ]
    }
   ],
   "source": [
    "anorexia = pd.read_csv(\"D:/Statistics (Python)/Datasets/anorexia.csv\")\n",
    "anoPost = ols('Postwt ~ Treat', data=anorexia).fit()\n",
    "table = anova_lm(anoPost, typ=2)\n",
    "print(table)"
   ]
  },
  {
   "cell_type": "markdown",
   "metadata": {},
   "source": [
    "Post Hoc Tukey HSD"
   ]
  },
  {
   "cell_type": "code",
   "execution_count": 5,
   "metadata": {},
   "outputs": [
    {
     "data": {
      "text/html": [
       "<div>\n",
       "<style scoped>\n",
       "    .dataframe tbody tr th:only-of-type {\n",
       "        vertical-align: middle;\n",
       "    }\n",
       "\n",
       "    .dataframe tbody tr th {\n",
       "        vertical-align: top;\n",
       "    }\n",
       "\n",
       "    .dataframe thead th {\n",
       "        text-align: right;\n",
       "    }\n",
       "</style>\n",
       "<table border=\"1\" class=\"dataframe\">\n",
       "  <thead>\n",
       "    <tr style=\"text-align: right;\">\n",
       "      <th></th>\n",
       "      <th>group1</th>\n",
       "      <th>group2</th>\n",
       "      <th>meandiff</th>\n",
       "      <th>p-adj</th>\n",
       "      <th>lower</th>\n",
       "      <th>upper</th>\n",
       "      <th>reject</th>\n",
       "    </tr>\n",
       "  </thead>\n",
       "  <tbody>\n",
       "    <tr>\n",
       "      <td>0</td>\n",
       "      <td>CBT</td>\n",
       "      <td>Cont</td>\n",
       "      <td>-4.5889</td>\n",
       "      <td>0.0581</td>\n",
       "      <td>-9.3038</td>\n",
       "      <td>0.1261</td>\n",
       "      <td>False</td>\n",
       "    </tr>\n",
       "    <tr>\n",
       "      <td>1</td>\n",
       "      <td>CBT</td>\n",
       "      <td>FT</td>\n",
       "      <td>4.7976</td>\n",
       "      <td>0.0865</td>\n",
       "      <td>-0.5350</td>\n",
       "      <td>10.1301</td>\n",
       "      <td>False</td>\n",
       "    </tr>\n",
       "    <tr>\n",
       "      <td>2</td>\n",
       "      <td>Cont</td>\n",
       "      <td>FT</td>\n",
       "      <td>9.3864</td>\n",
       "      <td>0.0010</td>\n",
       "      <td>3.9414</td>\n",
       "      <td>14.8315</td>\n",
       "      <td>True</td>\n",
       "    </tr>\n",
       "  </tbody>\n",
       "</table>\n",
       "</div>"
      ],
      "text/plain": [
       "  group1 group2  meandiff   p-adj   lower    upper  reject\n",
       "0    CBT   Cont   -4.5889  0.0581 -9.3038   0.1261   False\n",
       "1    CBT     FT    4.7976  0.0865 -0.5350  10.1301   False\n",
       "2   Cont     FT    9.3864  0.0010  3.9414  14.8315    True"
      ]
     },
     "execution_count": 5,
     "metadata": {},
     "output_type": "execute_result"
    }
   ],
   "source": [
    "from statsmodels.stats.multicomp import pairwise_tukeyhsd\n",
    "\n",
    "compare = pairwise_tukeyhsd(anorexia.Postwt, anorexia.Treat, alpha=0.05)\n",
    "compare._results_table.data\n",
    "compare.confint\n",
    "compare.reject\n",
    "\n",
    "dd = pd.DataFrame(compare._results_table.data[1:],\n",
    "                  columns=compare._results_table.data[0])\n",
    "dd"
   ]
  }
 ],
 "metadata": {
  "kernelspec": {
   "display_name": "Python 3",
   "language": "python",
   "name": "python3"
  },
  "language_info": {
   "codemirror_mode": {
    "name": "ipython",
    "version": 3
   },
   "file_extension": ".py",
   "mimetype": "text/x-python",
   "name": "python",
   "nbconvert_exporter": "python",
   "pygments_lexer": "ipython3",
   "version": "3.7.4"
  }
 },
 "nbformat": 4,
 "nbformat_minor": 2
}
