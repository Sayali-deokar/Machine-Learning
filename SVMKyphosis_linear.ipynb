{
 "cells": [
  {
   "cell_type": "markdown",
   "metadata": {},
   "source": [
    "# SVMKyphosis_linear"
   ]
  },
  {
   "cell_type": "markdown",
   "metadata": {},
   "source": [
    "Importing Library as follows"
   ]
  },
  {
   "cell_type": "code",
   "execution_count": 2,
   "metadata": {},
   "outputs": [],
   "source": [
    "import pandas as pd\n",
    "import numpy as np"
   ]
  },
  {
   "cell_type": "markdown",
   "metadata": {},
   "source": [
    "Importing dataset form local host and get dummy variables"
   ]
  },
  {
   "cell_type": "code",
   "execution_count": 5,
   "metadata": {},
   "outputs": [],
   "source": [
    "df = pd.read_csv(\"D:/Statistics (Python)/Cases/Kyphosis/Kyphosis.csv\")\n",
    "\n",
    "dum_df = pd.get_dummies(df, drop_first=True)"
   ]
  },
  {
   "cell_type": "markdown",
   "metadata": {},
   "source": [
    "Import the necessary modules"
   ]
  },
  {
   "cell_type": "code",
   "execution_count": 7,
   "metadata": {},
   "outputs": [],
   "source": [
    "from sklearn.model_selection import train_test_split \n",
    "from sklearn.metrics import confusion_matrix\n",
    "from sklearn.metrics import classification_report, accuracy_score\n",
    "from sklearn.svm import SVC"
   ]
  },
  {
   "cell_type": "code",
   "execution_count": 8,
   "metadata": {},
   "outputs": [],
   "source": [
    "X = dum_df.iloc[:,0:3]\n",
    "y = dum_df.iloc[:,3]"
   ]
  },
  {
   "cell_type": "markdown",
   "metadata": {},
   "source": [
    " Create training and test sets"
   ]
  },
  {
   "cell_type": "code",
   "execution_count": 9,
   "metadata": {},
   "outputs": [],
   "source": [
    "X_train, X_test, y_train, y_test = train_test_split(X, y,test_size = 0.3, \n",
    "                                                    random_state=42,\n",
    "                                                    stratify=y)\n",
    "\n",
    "svc = SVC(probability = True,kernel='linear')\n",
    "fitSVC = svc.fit(X_train, y_train)\n",
    "y_pred = fitSVC.predict(X_test)"
   ]
  },
  {
   "cell_type": "code",
   "execution_count": 10,
   "metadata": {},
   "outputs": [
    {
     "name": "stdout",
     "output_type": "stream",
     "text": [
      "[[20  0]\n",
      " [ 5  0]]\n"
     ]
    }
   ],
   "source": [
    "print(confusion_matrix(y_test, y_pred))"
   ]
  },
  {
   "cell_type": "code",
   "execution_count": 13,
   "metadata": {},
   "outputs": [
    {
     "name": "stdout",
     "output_type": "stream",
     "text": [
      "              precision    recall  f1-score   support\n",
      "\n",
      "           0       0.80      1.00      0.89        20\n",
      "           1       0.00      0.00      0.00         5\n",
      "\n",
      "    accuracy                           0.80        25\n",
      "   macro avg       0.40      0.50      0.44        25\n",
      "weighted avg       0.64      0.80      0.71        25\n",
      "\n"
     ]
    }
   ],
   "source": [
    "print(classification_report(y_test, y_pred))"
   ]
  },
  {
   "cell_type": "code",
   "execution_count": 14,
   "metadata": {},
   "outputs": [
    {
     "name": "stdout",
     "output_type": "stream",
     "text": [
      "0.8\n"
     ]
    }
   ],
   "source": [
    "print(accuracy_score(y_test, y_pred))"
   ]
  },
  {
   "cell_type": "markdown",
   "metadata": {},
   "source": [
    " ROC"
   ]
  },
  {
   "cell_type": "code",
   "execution_count": 15,
   "metadata": {},
   "outputs": [],
   "source": [
    "from sklearn.metrics import roc_curve, roc_auc_score"
   ]
  },
  {
   "cell_type": "markdown",
   "metadata": {},
   "source": [
    " Compute predicted probabilities: y_pred_prob"
   ]
  },
  {
   "cell_type": "code",
   "execution_count": 16,
   "metadata": {},
   "outputs": [],
   "source": [
    "y_pred_prob = svc.predict_proba(X_test)[:,1]"
   ]
  },
  {
   "cell_type": "markdown",
   "metadata": {},
   "source": [
    " Generate ROC curve values: fpr, tpr, thresholds"
   ]
  },
  {
   "cell_type": "code",
   "execution_count": 17,
   "metadata": {},
   "outputs": [],
   "source": [
    "fpr, tpr, thresholds = roc_curve(y_test, y_pred_prob)"
   ]
  },
  {
   "cell_type": "markdown",
   "metadata": {},
   "source": [
    " Plot ROC curve"
   ]
  },
  {
   "cell_type": "code",
   "execution_count": 19,
   "metadata": {},
   "outputs": [
    {
     "data": {
      "image/png": "[encoded data removed]",
      "text/plain": [
       "<Figure size 432x288 with 1 Axes>"
      ]
     },
     "metadata": {
      "needs_background": "light"
     },
     "output_type": "display_data"
    }
   ],
   "source": [
    "import matplotlib.pyplot as plt\n",
    "plt.plot([0, 1], [0, 1], 'k--')\n",
    "plt.plot(fpr, tpr)\n",
    "plt.xlabel('False Positive Rate')\n",
    "plt.ylabel('True Positive Rate')\n",
    "plt.title('ROC Curve')\n",
    "plt.show()"
   ]
  },
  {
   "cell_type": "code",
   "execution_count": 20,
   "metadata": {},
   "outputs": [
    {
     "data": {
      "text/plain": [
       "0.9199999999999999"
      ]
     },
     "execution_count": 20,
     "metadata": {},
     "output_type": "execute_result"
    }
   ],
   "source": [
    "roc_auc_score(y_test, y_pred_prob)"
   ]
  },
  {
   "cell_type": "markdown",
   "metadata": {},
   "source": [
    "***Tunning*** "
   ]
  },
  {
   "cell_type": "markdown",
   "metadata": {},
   "source": [
    "Grid Search CV"
   ]
  },
  {
   "cell_type": "code",
   "execution_count": 21,
   "metadata": {},
   "outputs": [],
   "source": [
    "from sklearn.model_selection import GridSearchCV\n",
    "\n",
    "C_range = np.array([0.01,0.05,0.1,1,1.5,1.7,2,4])"
   ]
  },
  {
   "cell_type": "markdown",
   "metadata": {},
   "source": [
    "OR"
   ]
  },
  {
   "cell_type": "code",
   "execution_count": 22,
   "metadata": {},
   "outputs": [],
   "source": [
    "C_range = np.linspace(0.001,2)\n",
    "param_grid = dict( C=C_range)"
   ]
  },
  {
   "cell_type": "markdown",
   "metadata": {},
   "source": [
    "***cv = StratifiedShuffleSplit(n_splits=5, train_size=2, test_size=None, random_state=42)***"
   ]
  },
  {
   "cell_type": "markdown",
   "metadata": {},
   "source": [
    "Import necessary modules"
   ]
  },
  {
   "cell_type": "code",
   "execution_count": 28,
   "metadata": {},
   "outputs": [],
   "source": [
    "from sklearn.model_selection import StratifiedKFold"
   ]
  },
  {
   "cell_type": "code",
   "execution_count": 29,
   "metadata": {},
   "outputs": [
    {
     "name": "stderr",
     "output_type": "stream",
     "text": [
      "C:\\Users\\Lenovo\\Anaconda3\\lib\\site-packages\\sklearn\\model_selection\\_split.py:296: FutureWarning: Setting a random_state has no effect since shuffle is False. This will raise an error in 0.24. You should leave random_state to its default (None), or set shuffle=True.\n",
      "  FutureWarning\n",
      "[Parallel(n_jobs=1)]: Using backend SequentialBackend with 1 concurrent workers.\n",
      "[Parallel(n_jobs=1)]: Done   1 out of   1 | elapsed:    0.0s remaining:    0.0s\n",
      "[Parallel(n_jobs=1)]: Done   2 out of   2 | elapsed:    0.0s remaining:    0.0s\n"
     ]
    },
    {
     "name": "stdout",
     "output_type": "stream",
     "text": [
      "Fitting 5 folds for each of 50 candidates, totalling 250 fits\n",
      "[CV] C=0.001 .........................................................\n",
      "[CV] ............................. C=0.001, score=0.808, total=   0.0s\n",
      "[CV] C=0.001 .........................................................\n",
      "[CV] ............................. C=0.001, score=0.821, total=   0.0s\n",
      "[CV] C=0.001 .........................................................\n",
      "[CV] ............................. C=0.001, score=0.718, total=   0.0s\n",
      "[CV] C=0.001 .........................................................\n",
      "[CV] ............................. C=0.001, score=0.897, total=   0.0s\n",
      "[CV] C=0.001 .........................................................\n",
      "[CV] ............................. C=0.001, score=0.833, total=   0.0s\n",
      "[CV] C=0.04179591836734694 ...........................................\n",
      "[CV] ............... C=0.04179591836734694, score=0.808, total=   0.0s\n",
      "[CV] C=0.04179591836734694 ...........................................\n",
      "[CV] ............... C=0.04179591836734694, score=0.821, total=   0.0s\n",
      "[CV] C=0.04179591836734694 ...........................................\n",
      "[CV] ............... C=0.04179591836734694, score=0.718, total=   0.0s\n",
      "[CV] C=0.04179591836734694 ...........................................\n",
      "[CV] ............... C=0.04179591836734694, score=0.897, total=   0.0s\n",
      "[CV] C=0.04179591836734694 ...........................................\n",
      "[CV] ............... C=0.04179591836734694, score=0.854, total=   0.0s\n",
      "[CV] C=0.08259183673469388 ...........................................\n",
      "[CV] ............... C=0.08259183673469388, score=0.808, total=   0.0s\n",
      "[CV] C=0.08259183673469388 ...........................................\n",
      "[CV] ............... C=0.08259183673469388, score=0.821, total=   0.0s\n",
      "[CV] C=0.08259183673469388 ...........................................\n",
      "[CV] ............... C=0.08259183673469388, score=0.667, total=   0.0s\n",
      "[CV] C=0.08259183673469388 ...........................................\n",
      "[CV] ............... C=0.08259183673469388, score=0.897, total=   0.0s\n",
      "[CV] C=0.08259183673469388 ...........................................\n",
      "[CV] ............... C=0.08259183673469388, score=0.833, total=   0.0s\n",
      "[CV] C=0.12338775510204081 ...........................................\n",
      "[CV] ............... C=0.12338775510204081, score=0.808, total=   0.0s\n",
      "[CV] C=0.12338775510204081 ...........................................\n",
      "[CV] ............... C=0.12338775510204081, score=0.821, total=   0.0s\n",
      "[CV] C=0.12338775510204081 ...........................................\n",
      "[CV] ............... C=0.12338775510204081, score=0.667, total=   0.0s\n",
      "[CV] C=0.12338775510204081 ...........................................\n",
      "[CV] ............... C=0.12338775510204081, score=0.897, total=   0.0s\n",
      "[CV] C=0.12338775510204081 ...........................................\n",
      "[CV] ............... C=0.12338775510204081, score=0.833, total=   0.0s\n",
      "[CV] C=0.16418367346938775 ...........................................\n",
      "[CV] ............... C=0.16418367346938775, score=0.808, total=   0.0s\n",
      "[CV] C=0.16418367346938775 ...........................................\n",
      "[CV] ............... C=0.16418367346938775, score=0.821, total=   0.0s\n",
      "[CV] C=0.16418367346938775 ...........................................\n",
      "[CV] ............... C=0.16418367346938775, score=0.667, total=   0.1s\n",
      "[CV] C=0.16418367346938775 ...........................................\n",
      "[CV] ............... C=0.16418367346938775, score=0.897, total=   0.0s\n",
      "[CV] C=0.16418367346938775 ...........................................\n",
      "[CV] ............... C=0.16418367346938775, score=0.833, total=   0.1s\n",
      "[CV] C=0.2049795918367347 ............................................\n",
      "[CV] ................ C=0.2049795918367347, score=0.808, total=   0.0s\n",
      "[CV] C=0.2049795918367347 ............................................\n",
      "[CV] ................ C=0.2049795918367347, score=0.821, total=   0.1s\n",
      "[CV] C=0.2049795918367347 ............................................\n",
      "[CV] ................ C=0.2049795918367347, score=0.667, total=   0.1s\n",
      "[CV] C=0.2049795918367347 ............................................\n",
      "[CV] ................ C=0.2049795918367347, score=0.897, total=   0.1s\n",
      "[CV] C=0.2049795918367347 ............................................\n",
      "[CV] ................ C=0.2049795918367347, score=0.833, total=   0.1s\n",
      "[CV] C=0.24577551020408162 ...........................................\n",
      "[CV] ............... C=0.24577551020408162, score=0.808, total=   0.0s\n",
      "[CV] C=0.24577551020408162 ...........................................\n",
      "[CV] ............... C=0.24577551020408162, score=0.821, total=   0.0s\n",
      "[CV] C=0.24577551020408162 ...........................................\n",
      "[CV] ............... C=0.24577551020408162, score=0.667, total=   0.1s\n",
      "[CV] C=0.24577551020408162 ...........................................\n",
      "[CV] ............... C=0.24577551020408162, score=0.897, total=   0.0s\n",
      "[CV] C=0.24577551020408162 ...........................................\n",
      "[CV] ............... C=0.24577551020408162, score=0.833, total=   0.1s\n",
      "[CV] C=0.2865714285714286 ............................................\n",
      "[CV] ................ C=0.2865714285714286, score=0.808, total=   0.0s\n",
      "[CV] C=0.2865714285714286 ............................................\n",
      "[CV] ................ C=0.2865714285714286, score=0.821, total=   0.1s\n",
      "[CV] C=0.2865714285714286 ............................................\n",
      "[CV] ................ C=0.2865714285714286, score=0.667, total=   0.1s\n",
      "[CV] C=0.2865714285714286 ............................................\n",
      "[CV] ................ C=0.2865714285714286, score=0.897, total=   0.1s\n",
      "[CV] C=0.2865714285714286 ............................................\n",
      "[CV] ................ C=0.2865714285714286, score=0.833, total=   0.1s\n",
      "[CV] C=0.3273673469387755 ............................................\n",
      "[CV] ................ C=0.3273673469387755, score=0.808, total=   0.1s\n",
      "[CV] C=0.3273673469387755 ............................................\n",
      "[CV] ................ C=0.3273673469387755, score=0.821, total=   0.1s\n",
      "[CV] C=0.3273673469387755 ............................................\n",
      "[CV] ................ C=0.3273673469387755, score=0.667, total=   0.1s\n",
      "[CV] C=0.3273673469387755 ............................................\n",
      "[CV] ................ C=0.3273673469387755, score=0.897, total=   0.0s\n",
      "[CV] C=0.3273673469387755 ............................................\n",
      "[CV] ................ C=0.3273673469387755, score=0.833, total=   0.1s\n",
      "[CV] C=0.3681632653061224 ............................................\n",
      "[CV] ................ C=0.3681632653061224, score=0.808, total=   0.1s\n",
      "[CV] C=0.3681632653061224 ............................................\n",
      "[CV] ................ C=0.3681632653061224, score=0.821, total=   0.1s\n",
      "[CV] C=0.3681632653061224 ............................................\n",
      "[CV] ................ C=0.3681632653061224, score=0.667, total=   0.1s\n",
      "[CV] C=0.3681632653061224 ............................................\n",
      "[CV] ................ C=0.3681632653061224, score=0.897, total=   0.1s\n",
      "[CV] C=0.3681632653061224 ............................................\n",
      "[CV] ................ C=0.3681632653061224, score=0.833, total=   0.1s\n",
      "[CV] C=0.4089591836734694 ............................................\n",
      "[CV] ................ C=0.4089591836734694, score=0.808, total=   0.1s\n",
      "[CV] C=0.4089591836734694 ............................................\n",
      "[CV] ................ C=0.4089591836734694, score=0.821, total=   0.0s\n",
      "[CV] C=0.4089591836734694 ............................................\n",
      "[CV] ................ C=0.4089591836734694, score=0.667, total=   0.1s\n",
      "[CV] C=0.4089591836734694 ............................................\n",
      "[CV] ................ C=0.4089591836734694, score=0.897, total=   0.1s\n",
      "[CV] C=0.4089591836734694 ............................................\n",
      "[CV] ................ C=0.4089591836734694, score=0.833, total=   0.1s\n",
      "[CV] C=0.4497551020408163 ............................................\n",
      "[CV] ................ C=0.4497551020408163, score=0.808, total=   0.0s\n",
      "[CV] C=0.4497551020408163 ............................................\n",
      "[CV] ................ C=0.4497551020408163, score=0.821, total=   0.1s\n",
      "[CV] C=0.4497551020408163 ............................................\n"
     ]
    },
    {
     "name": "stdout",
     "output_type": "stream",
     "text": [
      "[CV] ................ C=0.4497551020408163, score=0.667, total=   0.1s\n",
      "[CV] C=0.4497551020408163 ............................................\n",
      "[CV] ................ C=0.4497551020408163, score=0.897, total=   0.0s\n",
      "[CV] C=0.4497551020408163 ............................................\n",
      "[CV] ................ C=0.4497551020408163, score=0.833, total=   0.1s\n",
      "[CV] C=0.49055102040816323 ...........................................\n",
      "[CV] ............... C=0.49055102040816323, score=0.808, total=   0.0s\n",
      "[CV] C=0.49055102040816323 ...........................................\n",
      "[CV] ............... C=0.49055102040816323, score=0.821, total=   0.1s\n",
      "[CV] C=0.49055102040816323 ...........................................\n",
      "[CV] ............... C=0.49055102040816323, score=0.667, total=   0.1s\n",
      "[CV] C=0.49055102040816323 ...........................................\n",
      "[CV] ............... C=0.49055102040816323, score=0.897, total=   0.1s\n",
      "[CV] C=0.49055102040816323 ...........................................\n",
      "[CV] ............... C=0.49055102040816323, score=0.833, total=   0.1s\n",
      "[CV] C=0.5313469387755102 ............................................\n",
      "[CV] ................ C=0.5313469387755102, score=0.808, total=   0.0s\n",
      "[CV] C=0.5313469387755102 ............................................\n",
      "[CV] ................ C=0.5313469387755102, score=0.821, total=   0.1s\n",
      "[CV] C=0.5313469387755102 ............................................\n",
      "[CV] ................ C=0.5313469387755102, score=0.667, total=   0.1s\n",
      "[CV] C=0.5313469387755102 ............................................\n",
      "[CV] ................ C=0.5313469387755102, score=0.897, total=   0.1s\n",
      "[CV] C=0.5313469387755102 ............................................\n",
      "[CV] ................ C=0.5313469387755102, score=0.833, total=   0.1s\n",
      "[CV] C=0.5721428571428572 ............................................\n",
      "[CV] ................ C=0.5721428571428572, score=0.808, total=   0.1s\n",
      "[CV] C=0.5721428571428572 ............................................\n",
      "[CV] ................ C=0.5721428571428572, score=0.821, total=   0.0s\n",
      "[CV] C=0.5721428571428572 ............................................\n",
      "[CV] ................ C=0.5721428571428572, score=0.667, total=   0.1s\n",
      "[CV] C=0.5721428571428572 ............................................\n",
      "[CV] ................ C=0.5721428571428572, score=0.897, total=   0.1s\n",
      "[CV] C=0.5721428571428572 ............................................\n",
      "[CV] ................ C=0.5721428571428572, score=0.833, total=   0.1s\n",
      "[CV] C=0.612938775510204 .............................................\n",
      "[CV] ................. C=0.612938775510204, score=0.808, total=   0.1s\n",
      "[CV] C=0.612938775510204 .............................................\n",
      "[CV] ................. C=0.612938775510204, score=0.821, total=   0.1s\n",
      "[CV] C=0.612938775510204 .............................................\n",
      "[CV] ................. C=0.612938775510204, score=0.667, total=   0.3s\n",
      "[CV] C=0.612938775510204 .............................................\n",
      "[CV] ................. C=0.612938775510204, score=0.897, total=   0.0s\n",
      "[CV] C=0.612938775510204 .............................................\n",
      "[CV] ................. C=0.612938775510204, score=0.833, total=   0.1s\n",
      "[CV] C=0.653734693877551 .............................................\n",
      "[CV] ................. C=0.653734693877551, score=0.808, total=   0.1s\n",
      "[CV] C=0.653734693877551 .............................................\n",
      "[CV] ................. C=0.653734693877551, score=0.821, total=   0.1s\n",
      "[CV] C=0.653734693877551 .............................................\n",
      "[CV] ................. C=0.653734693877551, score=0.667, total=   0.1s\n",
      "[CV] C=0.653734693877551 .............................................\n",
      "[CV] ................. C=0.653734693877551, score=0.897, total=   0.1s\n",
      "[CV] C=0.653734693877551 .............................................\n",
      "[CV] ................. C=0.653734693877551, score=0.833, total=   0.1s\n",
      "[CV] C=0.694530612244898 .............................................\n",
      "[CV] ................. C=0.694530612244898, score=0.808, total=   0.1s\n",
      "[CV] C=0.694530612244898 .............................................\n",
      "[CV] ................. C=0.694530612244898, score=0.821, total=   0.1s\n",
      "[CV] C=0.694530612244898 .............................................\n",
      "[CV] ................. C=0.694530612244898, score=0.667, total=   0.2s\n",
      "[CV] C=0.694530612244898 .............................................\n",
      "[CV] ................. C=0.694530612244898, score=0.897, total=   0.1s\n",
      "[CV] C=0.694530612244898 .............................................\n",
      "[CV] ................. C=0.694530612244898, score=0.833, total=   0.1s\n",
      "[CV] C=0.7353265306122448 ............................................\n",
      "[CV] ................ C=0.7353265306122448, score=0.808, total=   0.1s\n",
      "[CV] C=0.7353265306122448 ............................................\n",
      "[CV] ................ C=0.7353265306122448, score=0.821, total=   0.1s\n",
      "[CV] C=0.7353265306122448 ............................................\n",
      "[CV] ................ C=0.7353265306122448, score=0.667, total=   0.1s\n",
      "[CV] C=0.7353265306122448 ............................................\n",
      "[CV] ................ C=0.7353265306122448, score=0.897, total=   0.1s\n",
      "[CV] C=0.7353265306122448 ............................................\n",
      "[CV] ................ C=0.7353265306122448, score=0.833, total=   0.1s\n",
      "[CV] C=0.7761224489795918 ............................................\n",
      "[CV] ................ C=0.7761224489795918, score=0.808, total=   0.1s\n",
      "[CV] C=0.7761224489795918 ............................................\n",
      "[CV] ................ C=0.7761224489795918, score=0.821, total=   0.1s\n",
      "[CV] C=0.7761224489795918 ............................................\n",
      "[CV] ................ C=0.7761224489795918, score=0.667, total=   0.1s\n",
      "[CV] C=0.7761224489795918 ............................................\n",
      "[CV] ................ C=0.7761224489795918, score=0.897, total=   0.1s\n",
      "[CV] C=0.7761224489795918 ............................................\n",
      "[CV] ................ C=0.7761224489795918, score=0.833, total=   0.1s\n",
      "[CV] C=0.8169183673469388 ............................................\n",
      "[CV] ................ C=0.8169183673469388, score=0.808, total=   0.1s\n",
      "[CV] C=0.8169183673469388 ............................................\n",
      "[CV] ................ C=0.8169183673469388, score=0.821, total=   0.1s\n",
      "[CV] C=0.8169183673469388 ............................................\n",
      "[CV] ................ C=0.8169183673469388, score=0.667, total=   0.2s\n",
      "[CV] C=0.8169183673469388 ............................................\n",
      "[CV] ................ C=0.8169183673469388, score=0.897, total=   0.1s\n",
      "[CV] C=0.8169183673469388 ............................................\n",
      "[CV] ................ C=0.8169183673469388, score=0.833, total=   0.3s\n",
      "[CV] C=0.8577142857142857 ............................................\n",
      "[CV] ................ C=0.8577142857142857, score=0.808, total=   0.1s\n",
      "[CV] C=0.8577142857142857 ............................................\n",
      "[CV] ................ C=0.8577142857142857, score=0.821, total=   0.1s\n",
      "[CV] C=0.8577142857142857 ............................................\n",
      "[CV] ................ C=0.8577142857142857, score=0.667, total=   0.2s\n",
      "[CV] C=0.8577142857142857 ............................................\n",
      "[CV] ................ C=0.8577142857142857, score=0.897, total=   0.1s\n",
      "[CV] C=0.8577142857142857 ............................................\n",
      "[CV] ................ C=0.8577142857142857, score=0.833, total=   0.1s\n",
      "[CV] C=0.8985102040816326 ............................................\n",
      "[CV] ................ C=0.8985102040816326, score=0.808, total=   0.2s\n",
      "[CV] C=0.8985102040816326 ............................................\n",
      "[CV] ................ C=0.8985102040816326, score=0.821, total=   0.2s\n",
      "[CV] C=0.8985102040816326 ............................................\n",
      "[CV] ................ C=0.8985102040816326, score=0.667, total=   0.1s\n",
      "[CV] C=0.8985102040816326 ............................................\n",
      "[CV] ................ C=0.8985102040816326, score=0.897, total=   0.2s\n",
      "[CV] C=0.8985102040816326 ............................................\n",
      "[CV] ................ C=0.8985102040816326, score=0.833, total=   0.2s\n",
      "[CV] C=0.9393061224489796 ............................................\n",
      "[CV] ................ C=0.9393061224489796, score=0.808, total=   0.1s\n",
      "[CV] C=0.9393061224489796 ............................................\n"
     ]
    },
    {
     "name": "stdout",
     "output_type": "stream",
     "text": [
      "[CV] ................ C=0.9393061224489796, score=0.821, total=   0.2s\n",
      "[CV] C=0.9393061224489796 ............................................\n",
      "[CV] ................ C=0.9393061224489796, score=0.667, total=   0.1s\n",
      "[CV] C=0.9393061224489796 ............................................\n",
      "[CV] ................ C=0.9393061224489796, score=0.897, total=   0.1s\n",
      "[CV] C=0.9393061224489796 ............................................\n",
      "[CV] ................ C=0.9393061224489796, score=0.833, total=   0.1s\n",
      "[CV] C=0.9801020408163265 ............................................\n",
      "[CV] ................ C=0.9801020408163265, score=0.808, total=   0.1s\n",
      "[CV] C=0.9801020408163265 ............................................\n",
      "[CV] ................ C=0.9801020408163265, score=0.821, total=   0.2s\n",
      "[CV] C=0.9801020408163265 ............................................\n",
      "[CV] ................ C=0.9801020408163265, score=0.667, total=   0.4s\n",
      "[CV] C=0.9801020408163265 ............................................\n",
      "[CV] ................ C=0.9801020408163265, score=0.897, total=   0.1s\n",
      "[CV] C=0.9801020408163265 ............................................\n",
      "[CV] ................ C=0.9801020408163265, score=0.833, total=   0.1s\n",
      "[CV] C=1.0208979591836733 ............................................\n",
      "[CV] ................ C=1.0208979591836733, score=0.808, total=   0.1s\n",
      "[CV] C=1.0208979591836733 ............................................\n",
      "[CV] ................ C=1.0208979591836733, score=0.821, total=   0.2s\n",
      "[CV] C=1.0208979591836733 ............................................\n",
      "[CV] ................ C=1.0208979591836733, score=0.667, total=   0.3s\n",
      "[CV] C=1.0208979591836733 ............................................\n",
      "[CV] ................ C=1.0208979591836733, score=0.897, total=   0.1s\n",
      "[CV] C=1.0208979591836733 ............................................\n",
      "[CV] ................ C=1.0208979591836733, score=0.833, total=   0.1s\n",
      "[CV] C=1.0616938775510203 ............................................\n",
      "[CV] ................ C=1.0616938775510203, score=0.808, total=   0.2s\n",
      "[CV] C=1.0616938775510203 ............................................\n",
      "[CV] ................ C=1.0616938775510203, score=0.821, total=   0.1s\n",
      "[CV] C=1.0616938775510203 ............................................\n",
      "[CV] ................ C=1.0616938775510203, score=0.667, total=   0.2s\n",
      "[CV] C=1.0616938775510203 ............................................\n",
      "[CV] ................ C=1.0616938775510203, score=0.897, total=   0.1s\n",
      "[CV] C=1.0616938775510203 ............................................\n",
      "[CV] ................ C=1.0616938775510203, score=0.833, total=   0.2s\n",
      "[CV] C=1.1024897959183673 ............................................\n",
      "[CV] ................ C=1.1024897959183673, score=0.808, total=   0.1s\n",
      "[CV] C=1.1024897959183673 ............................................\n",
      "[CV] ................ C=1.1024897959183673, score=0.821, total=   0.1s\n",
      "[CV] C=1.1024897959183673 ............................................\n",
      "[CV] ................ C=1.1024897959183673, score=0.667, total=   0.1s\n",
      "[CV] C=1.1024897959183673 ............................................\n",
      "[CV] ................ C=1.1024897959183673, score=0.897, total=   0.2s\n",
      "[CV] C=1.1024897959183673 ............................................\n",
      "[CV] ................ C=1.1024897959183673, score=0.833, total=   0.1s\n",
      "[CV] C=1.1432857142857142 ............................................\n",
      "[CV] ................ C=1.1432857142857142, score=0.808, total=   0.1s\n",
      "[CV] C=1.1432857142857142 ............................................\n",
      "[CV] ................ C=1.1432857142857142, score=0.821, total=   0.2s\n",
      "[CV] C=1.1432857142857142 ............................................\n",
      "[CV] ................ C=1.1432857142857142, score=0.667, total=   0.1s\n",
      "[CV] C=1.1432857142857142 ............................................\n",
      "[CV] ................ C=1.1432857142857142, score=0.897, total=   0.2s\n",
      "[CV] C=1.1432857142857142 ............................................\n",
      "[CV] ................ C=1.1432857142857142, score=0.833, total=   0.1s\n",
      "[CV] C=1.184081632653061 .............................................\n",
      "[CV] ................. C=1.184081632653061, score=0.808, total=   0.1s\n",
      "[CV] C=1.184081632653061 .............................................\n",
      "[CV] ................. C=1.184081632653061, score=0.821, total=   0.1s\n",
      "[CV] C=1.184081632653061 .............................................\n",
      "[CV] ................. C=1.184081632653061, score=0.667, total=   0.2s\n",
      "[CV] C=1.184081632653061 .............................................\n",
      "[CV] ................. C=1.184081632653061, score=0.897, total=   0.3s\n",
      "[CV] C=1.184081632653061 .............................................\n",
      "[CV] ................. C=1.184081632653061, score=0.833, total=   0.2s\n",
      "[CV] C=1.224877551020408 .............................................\n",
      "[CV] ................. C=1.224877551020408, score=0.808, total=   0.1s\n",
      "[CV] C=1.224877551020408 .............................................\n",
      "[CV] ................. C=1.224877551020408, score=0.821, total=   0.3s\n",
      "[CV] C=1.224877551020408 .............................................\n",
      "[CV] ................. C=1.224877551020408, score=0.667, total=   0.4s\n",
      "[CV] C=1.224877551020408 .............................................\n",
      "[CV] ................. C=1.224877551020408, score=0.897, total=   0.2s\n",
      "[CV] C=1.224877551020408 .............................................\n",
      "[CV] ................. C=1.224877551020408, score=0.833, total=   0.2s\n",
      "[CV] C=1.265673469387755 .............................................\n",
      "[CV] ................. C=1.265673469387755, score=0.808, total=   0.1s\n",
      "[CV] C=1.265673469387755 .............................................\n",
      "[CV] ................. C=1.265673469387755, score=0.821, total=   0.1s\n",
      "[CV] C=1.265673469387755 .............................................\n",
      "[CV] ................. C=1.265673469387755, score=0.667, total=   0.2s\n",
      "[CV] C=1.265673469387755 .............................................\n",
      "[CV] ................. C=1.265673469387755, score=0.897, total=   0.4s\n",
      "[CV] C=1.265673469387755 .............................................\n",
      "[CV] ................. C=1.265673469387755, score=0.833, total=   0.2s\n",
      "[CV] C=1.306469387755102 .............................................\n",
      "[CV] ................. C=1.306469387755102, score=0.808, total=   0.1s\n",
      "[CV] C=1.306469387755102 .............................................\n",
      "[CV] ................. C=1.306469387755102, score=0.821, total=   0.2s\n",
      "[CV] C=1.306469387755102 .............................................\n",
      "[CV] ................. C=1.306469387755102, score=0.667, total=   0.2s\n",
      "[CV] C=1.306469387755102 .............................................\n",
      "[CV] ................. C=1.306469387755102, score=0.897, total=   0.1s\n",
      "[CV] C=1.306469387755102 .............................................\n",
      "[CV] ................. C=1.306469387755102, score=0.833, total=   0.2s\n",
      "[CV] C=1.3472653061224489 ............................................\n",
      "[CV] ................ C=1.3472653061224489, score=0.808, total=   0.1s\n",
      "[CV] C=1.3472653061224489 ............................................\n",
      "[CV] ................ C=1.3472653061224489, score=0.821, total=   0.2s\n",
      "[CV] C=1.3472653061224489 ............................................\n",
      "[CV] ................ C=1.3472653061224489, score=0.667, total=   0.1s\n",
      "[CV] C=1.3472653061224489 ............................................\n",
      "[CV] ................ C=1.3472653061224489, score=0.897, total=   0.3s\n",
      "[CV] C=1.3472653061224489 ............................................\n",
      "[CV] ................ C=1.3472653061224489, score=0.833, total=   0.1s\n",
      "[CV] C=1.3880612244897959 ............................................\n",
      "[CV] ................ C=1.3880612244897959, score=0.808, total=   0.1s\n",
      "[CV] C=1.3880612244897959 ............................................\n",
      "[CV] ................ C=1.3880612244897959, score=0.821, total=   0.1s\n",
      "[CV] C=1.3880612244897959 ............................................\n",
      "[CV] ................ C=1.3880612244897959, score=0.667, total=   0.2s\n",
      "[CV] C=1.3880612244897959 ............................................\n",
      "[CV] ................ C=1.3880612244897959, score=0.897, total=   0.2s\n",
      "[CV] C=1.3880612244897959 ............................................\n"
     ]
    },
    {
     "name": "stdout",
     "output_type": "stream",
     "text": [
      "[CV] ................ C=1.3880612244897959, score=0.833, total=   0.2s\n",
      "[CV] C=1.4288571428571428 ............................................\n",
      "[CV] ................ C=1.4288571428571428, score=0.808, total=   0.1s\n",
      "[CV] C=1.4288571428571428 ............................................\n",
      "[CV] ................ C=1.4288571428571428, score=0.821, total=   0.2s\n",
      "[CV] C=1.4288571428571428 ............................................\n",
      "[CV] ................ C=1.4288571428571428, score=0.667, total=   0.3s\n",
      "[CV] C=1.4288571428571428 ............................................\n",
      "[CV] ................ C=1.4288571428571428, score=0.897, total=   0.2s\n",
      "[CV] C=1.4288571428571428 ............................................\n",
      "[CV] ................ C=1.4288571428571428, score=0.833, total=   0.1s\n",
      "[CV] C=1.4696530612244896 ............................................\n",
      "[CV] ................ C=1.4696530612244896, score=0.808, total=   0.2s\n",
      "[CV] C=1.4696530612244896 ............................................\n",
      "[CV] ................ C=1.4696530612244896, score=0.821, total=   0.2s\n",
      "[CV] C=1.4696530612244896 ............................................\n",
      "[CV] ................ C=1.4696530612244896, score=0.667, total=   0.2s\n",
      "[CV] C=1.4696530612244896 ............................................\n",
      "[CV] ................ C=1.4696530612244896, score=0.897, total=   0.1s\n",
      "[CV] C=1.4696530612244896 ............................................\n",
      "[CV] ................ C=1.4696530612244896, score=0.833, total=   0.2s\n",
      "[CV] C=1.5104489795918365 ............................................\n",
      "[CV] ................ C=1.5104489795918365, score=0.808, total=   0.2s\n",
      "[CV] C=1.5104489795918365 ............................................\n",
      "[CV] ................ C=1.5104489795918365, score=0.821, total=   0.2s\n",
      "[CV] C=1.5104489795918365 ............................................\n",
      "[CV] ................ C=1.5104489795918365, score=0.667, total=   0.2s\n",
      "[CV] C=1.5104489795918365 ............................................\n",
      "[CV] ................ C=1.5104489795918365, score=0.897, total=   0.3s\n",
      "[CV] C=1.5104489795918365 ............................................\n",
      "[CV] ................ C=1.5104489795918365, score=0.833, total=   0.3s\n",
      "[CV] C=1.5512448979591835 ............................................\n",
      "[CV] ................ C=1.5512448979591835, score=0.808, total=   0.2s\n",
      "[CV] C=1.5512448979591835 ............................................\n",
      "[CV] ................ C=1.5512448979591835, score=0.821, total=   0.1s\n",
      "[CV] C=1.5512448979591835 ............................................\n",
      "[CV] ................ C=1.5512448979591835, score=0.667, total=   0.2s\n",
      "[CV] C=1.5512448979591835 ............................................\n",
      "[CV] ................ C=1.5512448979591835, score=0.897, total=   0.2s\n",
      "[CV] C=1.5512448979591835 ............................................\n",
      "[CV] ................ C=1.5512448979591835, score=0.833, total=   0.2s\n",
      "[CV] C=1.5920408163265305 ............................................\n",
      "[CV] ................ C=1.5920408163265305, score=0.808, total=   0.3s\n",
      "[CV] C=1.5920408163265305 ............................................\n",
      "[CV] ................ C=1.5920408163265305, score=0.821, total=   0.3s\n",
      "[CV] C=1.5920408163265305 ............................................\n",
      "[CV] ................ C=1.5920408163265305, score=0.667, total=   0.3s\n",
      "[CV] C=1.5920408163265305 ............................................\n",
      "[CV] ................ C=1.5920408163265305, score=0.897, total=   0.3s\n",
      "[CV] C=1.5920408163265305 ............................................\n",
      "[CV] ................ C=1.5920408163265305, score=0.833, total=   0.3s\n",
      "[CV] C=1.6328367346938775 ............................................\n",
      "[CV] ................ C=1.6328367346938775, score=0.808, total=   0.3s\n",
      "[CV] C=1.6328367346938775 ............................................\n",
      "[CV] ................ C=1.6328367346938775, score=0.821, total=   0.2s\n",
      "[CV] C=1.6328367346938775 ............................................\n",
      "[CV] ................ C=1.6328367346938775, score=0.667, total=   0.2s\n",
      "[CV] C=1.6328367346938775 ............................................\n",
      "[CV] ................ C=1.6328367346938775, score=0.897, total=   0.2s\n",
      "[CV] C=1.6328367346938775 ............................................\n",
      "[CV] ................ C=1.6328367346938775, score=0.833, total=   0.2s\n",
      "[CV] C=1.6736326530612244 ............................................\n",
      "[CV] ................ C=1.6736326530612244, score=0.808, total=   0.2s\n",
      "[CV] C=1.6736326530612244 ............................................\n",
      "[CV] ................ C=1.6736326530612244, score=0.821, total=   0.2s\n",
      "[CV] C=1.6736326530612244 ............................................\n",
      "[CV] ................ C=1.6736326530612244, score=0.667, total=   0.5s\n",
      "[CV] C=1.6736326530612244 ............................................\n",
      "[CV] ................ C=1.6736326530612244, score=0.897, total=   0.2s\n",
      "[CV] C=1.6736326530612244 ............................................\n",
      "[CV] ................ C=1.6736326530612244, score=0.833, total=   0.1s\n",
      "[CV] C=1.7144285714285712 ............................................\n",
      "[CV] ................ C=1.7144285714285712, score=0.808, total=   0.2s\n",
      "[CV] C=1.7144285714285712 ............................................\n",
      "[CV] ................ C=1.7144285714285712, score=0.821, total=   0.2s\n",
      "[CV] C=1.7144285714285712 ............................................\n",
      "[CV] ................ C=1.7144285714285712, score=0.667, total=   0.2s\n",
      "[CV] C=1.7144285714285712 ............................................\n",
      "[CV] ................ C=1.7144285714285712, score=0.897, total=   0.1s\n",
      "[CV] C=1.7144285714285712 ............................................\n",
      "[CV] ................ C=1.7144285714285712, score=0.833, total=   0.2s\n",
      "[CV] C=1.7552244897959182 ............................................\n",
      "[CV] ................ C=1.7552244897959182, score=0.808, total=   0.3s\n",
      "[CV] C=1.7552244897959182 ............................................\n",
      "[CV] ................ C=1.7552244897959182, score=0.821, total=   0.2s\n",
      "[CV] C=1.7552244897959182 ............................................\n",
      "[CV] ................ C=1.7552244897959182, score=0.667, total=   0.3s\n",
      "[CV] C=1.7552244897959182 ............................................\n",
      "[CV] ................ C=1.7552244897959182, score=0.897, total=   0.2s\n",
      "[CV] C=1.7552244897959182 ............................................\n",
      "[CV] ................ C=1.7552244897959182, score=0.833, total=   0.2s\n",
      "[CV] C=1.7960204081632651 ............................................\n",
      "[CV] ................ C=1.7960204081632651, score=0.808, total=   0.1s\n",
      "[CV] C=1.7960204081632651 ............................................\n",
      "[CV] ................ C=1.7960204081632651, score=0.821, total=   0.2s\n",
      "[CV] C=1.7960204081632651 ............................................\n",
      "[CV] ................ C=1.7960204081632651, score=0.667, total=   0.2s\n",
      "[CV] C=1.7960204081632651 ............................................\n",
      "[CV] ................ C=1.7960204081632651, score=0.897, total=   0.3s\n",
      "[CV] C=1.7960204081632651 ............................................\n",
      "[CV] ................ C=1.7960204081632651, score=0.833, total=   0.2s\n",
      "[CV] C=1.836816326530612 .............................................\n",
      "[CV] ................. C=1.836816326530612, score=0.808, total=   0.1s\n",
      "[CV] C=1.836816326530612 .............................................\n",
      "[CV] ................. C=1.836816326530612, score=0.821, total=   0.1s\n",
      "[CV] C=1.836816326530612 .............................................\n",
      "[CV] ................. C=1.836816326530612, score=0.667, total=   0.4s\n",
      "[CV] C=1.836816326530612 .............................................\n",
      "[CV] ................. C=1.836816326530612, score=0.897, total=   0.2s\n",
      "[CV] C=1.836816326530612 .............................................\n",
      "[CV] ................. C=1.836816326530612, score=0.833, total=   0.2s\n",
      "[CV] C=1.877612244897959 .............................................\n",
      "[CV] ................. C=1.877612244897959, score=0.808, total=   0.3s\n",
      "[CV] C=1.877612244897959 .............................................\n",
      "[CV] ................. C=1.877612244897959, score=0.821, total=   0.3s\n",
      "[CV] C=1.877612244897959 .............................................\n"
     ]
    },
    {
     "name": "stdout",
     "output_type": "stream",
     "text": [
      "[CV] ................. C=1.877612244897959, score=0.667, total=   0.2s\n",
      "[CV] C=1.877612244897959 .............................................\n",
      "[CV] ................. C=1.877612244897959, score=0.897, total=   0.2s\n",
      "[CV] C=1.877612244897959 .............................................\n",
      "[CV] ................. C=1.877612244897959, score=0.833, total=   0.2s\n",
      "[CV] C=1.918408163265306 .............................................\n",
      "[CV] ................. C=1.918408163265306, score=0.808, total=   0.2s\n",
      "[CV] C=1.918408163265306 .............................................\n",
      "[CV] ................. C=1.918408163265306, score=0.821, total=   0.2s\n",
      "[CV] C=1.918408163265306 .............................................\n",
      "[CV] ................. C=1.918408163265306, score=0.667, total=   0.3s\n",
      "[CV] C=1.918408163265306 .............................................\n",
      "[CV] ................. C=1.918408163265306, score=0.897, total=   0.2s\n",
      "[CV] C=1.918408163265306 .............................................\n",
      "[CV] ................. C=1.918408163265306, score=0.833, total=   0.2s\n",
      "[CV] C=1.9592040816326528 ............................................\n",
      "[CV] ................ C=1.9592040816326528, score=0.808, total=   0.2s\n",
      "[CV] C=1.9592040816326528 ............................................\n",
      "[CV] ................ C=1.9592040816326528, score=0.821, total=   0.5s\n",
      "[CV] C=1.9592040816326528 ............................................\n",
      "[CV] ................ C=1.9592040816326528, score=0.667, total=   0.3s\n",
      "[CV] C=1.9592040816326528 ............................................\n",
      "[CV] ................ C=1.9592040816326528, score=0.897, total=   0.2s\n",
      "[CV] C=1.9592040816326528 ............................................\n",
      "[CV] ................ C=1.9592040816326528, score=0.833, total=   0.2s\n",
      "[CV] C=2.0 ...........................................................\n",
      "[CV] ............................... C=2.0, score=0.808, total=   0.2s\n",
      "[CV] C=2.0 ...........................................................\n",
      "[CV] ............................... C=2.0, score=0.821, total=   0.5s\n",
      "[CV] C=2.0 ...........................................................\n",
      "[CV] ............................... C=2.0, score=0.667, total=   0.9s\n",
      "[CV] C=2.0 ...........................................................\n",
      "[CV] ............................... C=2.0, score=0.897, total=   0.3s\n",
      "[CV] C=2.0 ...........................................................\n",
      "[CV] ............................... C=2.0, score=0.833, total=   0.2s\n"
     ]
    },
    {
     "name": "stderr",
     "output_type": "stream",
     "text": [
      "[Parallel(n_jobs=1)]: Done 250 out of 250 | elapsed:   37.4s finished\n"
     ]
    },
    {
     "data": {
      "text/plain": [
       "GridSearchCV(cv=StratifiedKFold(n_splits=5, random_state=42, shuffle=False),\n",
       "             error_score=nan,\n",
       "             estimator=SVC(C=1.0, break_ties=False, cache_size=200,\n",
       "                           class_weight=None, coef0=0.0,\n",
       "                           decision_function_shape='ovr', degree=3,\n",
       "                           gamma='scale', kernel='linear', max_iter=-1,\n",
       "                           probability=True, random_state=None, shrinking=True,\n",
       "                           tol=0.001, verbose=False),\n",
       "             iid='deprecated', n_jobs=...\n",
       "       1.30646939e+00, 1.34726531e+00, 1.38806122e+00, 1.42885714e+00,\n",
       "       1.46965306e+00, 1.51044898e+00, 1.55124490e+00, 1.59204082e+00,\n",
       "       1.63283673e+00, 1.67363265e+00, 1.71442857e+00, 1.75522449e+00,\n",
       "       1.79602041e+00, 1.83681633e+00, 1.87761224e+00, 1.91840816e+00,\n",
       "       1.95920408e+00, 2.00000000e+00])},\n",
       "             pre_dispatch='2*n_jobs', refit=True, return_train_score=False,\n",
       "             scoring='roc_auc', verbose=3)"
      ]
     },
     "execution_count": 29,
     "metadata": {},
     "output_type": "execute_result"
    }
   ],
   "source": [
    "kfold = StratifiedKFold(n_splits=5, random_state=42)\n",
    "svmGrid = GridSearchCV(SVC(probability=True,kernel='linear'), \n",
    "                       param_grid=param_grid, cv=kfold, scoring=\"roc_auc\",verbose=3)\n",
    "svmGrid.fit(X, y)"
   ]
  },
  {
   "cell_type": "markdown",
   "metadata": {},
   "source": [
    " Best Parameters"
   ]
  },
  {
   "cell_type": "code",
   "execution_count": 31,
   "metadata": {},
   "outputs": [
    {
     "name": "stdout",
     "output_type": "stream",
     "text": [
      "{'C': 0.04179591836734694}\n"
     ]
    }
   ],
   "source": [
    "print(svmGrid.best_params_)"
   ]
  },
  {
   "cell_type": "code",
   "execution_count": 32,
   "metadata": {},
   "outputs": [
    {
     "ename": "SyntaxError",
     "evalue": "invalid syntax (<ipython-input-32-54bba81e182b>, line 1)",
     "output_type": "error",
     "traceback": [
      "\u001b[1;36m  File \u001b[1;32m\"<ipython-input-32-54bba81e182b>\"\u001b[1;36m, line \u001b[1;32m1\u001b[0m\n\u001b[1;33m    print(svmGrid.best_score_)_\u001b[0m\n\u001b[1;37m                              ^\u001b[0m\n\u001b[1;31mSyntaxError\u001b[0m\u001b[1;31m:\u001b[0m invalid syntax\n"
     ]
    }
   ],
   "source": [
    "print(svmGrid.best_score_)_"
   ]
  },
  {
   "cell_type": "markdown",
   "metadata": {},
   "source": [
    " Random Grid Search CV "
   ]
  },
  {
   "cell_type": "code",
   "execution_count": 34,
   "metadata": {},
   "outputs": [
    {
     "data": {
      "text/plain": [
       "RandomizedSearchCV(cv=StratifiedKFold(n_splits=5, random_state=42, shuffle=False),\n",
       "                   error_score=nan,\n",
       "                   estimator=SVC(C=1.0, break_ties=False, cache_size=200,\n",
       "                                 class_weight=None, coef0=0.0,\n",
       "                                 decision_function_shape='ovr', degree=3,\n",
       "                                 gamma='scale', kernel='linear', max_iter=-1,\n",
       "                                 probability=True, random_state=None,\n",
       "                                 shrinking=True, tol=0.001, verbose=False),\n",
       "                   iid='deprecated', n...\n",
       "       1.30646939e+00, 1.34726531e+00, 1.38806122e+00, 1.42885714e+00,\n",
       "       1.46965306e+00, 1.51044898e+00, 1.55124490e+00, 1.59204082e+00,\n",
       "       1.63283673e+00, 1.67363265e+00, 1.71442857e+00, 1.75522449e+00,\n",
       "       1.79602041e+00, 1.83681633e+00, 1.87761224e+00, 1.91840816e+00,\n",
       "       1.95920408e+00, 2.00000000e+00])},\n",
       "                   pre_dispatch='2*n_jobs', random_state=2019, refit=True,\n",
       "                   return_train_score=False, scoring='roc_auc', verbose=0)"
      ]
     },
     "execution_count": 34,
     "metadata": {},
     "output_type": "execute_result"
    }
   ],
   "source": [
    "from sklearn.model_selection import RandomizedSearchCV\n",
    "\n",
    "rcv = RandomizedSearchCV(SVC(probability=True,kernel='linear'),\n",
    "                        random_state=2019,param_distributions=param_grid ,\n",
    "                        cv=kfold,scoring='roc_auc',n_iter=15)\n",
    "\n",
    "rcv.fit( X , y)"
   ]
  },
  {
   "cell_type": "code",
   "execution_count": 35,
   "metadata": {},
   "outputs": [
    {
     "name": "stdout",
     "output_type": "stream",
     "text": [
      "{'C': 0.16418367346938775}\n"
     ]
    }
   ],
   "source": [
    "print(rcv.best_params_)"
   ]
  },
  {
   "cell_type": "code",
   "execution_count": 36,
   "metadata": {},
   "outputs": [
    {
     "name": "stdout",
     "output_type": "stream",
     "text": [
      "0.8051282051282052\n"
     ]
    }
   ],
   "source": [
    "print(rcv.best_score_)  "
   ]
  },
  {
   "cell_type": "code",
   "execution_count": 38,
   "metadata": {},
   "outputs": [
    {
     "name": "stdout",
     "output_type": "stream",
     "text": [
      "SVC(C=0.16418367346938775, break_ties=False, cache_size=200, class_weight=None,\n",
      "    coef0=0.0, decision_function_shape='ovr', degree=3, gamma='scale',\n",
      "    kernel='linear', max_iter=-1, probability=True, random_state=None,\n",
      "    shrinking=True, tol=0.001, verbose=False)\n"
     ]
    }
   ],
   "source": [
    "print(rcv.best_estimator_)"
   ]
  }
 ],
 "metadata": {
  "kernelspec": {
   "display_name": "Python 3",
   "language": "python",
   "name": "python3"
  },
  "language_info": {
   "codemirror_mode": {
    "name": "ipython",
    "version": 3
   },
   "file_extension": ".py",
   "mimetype": "text/x-python",
   "name": "python",
   "nbconvert_exporter": "python",
   "pygments_lexer": "ipython3",
   "version": "3.7.4"
  }
 },
 "nbformat": 4,
 "nbformat_minor": 2
}
